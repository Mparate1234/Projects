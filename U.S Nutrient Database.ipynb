{
 "cells": [
  {
   "cell_type": "markdown",
   "id": "71e819c2",
   "metadata": {},
   "source": [
    "# U.S Nutrient Database\n",
    "The dataset, U.S. Nutrient Database, includes the nutrient data from the national survey What We Eat In\n",
    "America, National Health and Nutrition Review Survey (WWEIA, NHANES), for determining dietary intakes.\n",
    "U.S. Nutrient data have historically been used for national nutrition monitoring\n",
    "\n",
    "Earlier databases were composed mainly of commodity-type items such as wheat flour, sugar, milk, etc.\n",
    "However, with increased consumption of commercial processed and restaurant foods and changes in how\n",
    "national nutrition monitoring data are used, many commercial processed and restaurant items have been\n",
    "added to the database."
   ]
  },
  {
   "cell_type": "markdown",
   "id": "f7dcb68f",
   "metadata": {},
   "source": [
    "#### Problem Statement:\n",
    "The increase of commercial commodities and fancy foods may create an imbalance in the nutrition of\n",
    "Americans. Hence the Department of Agriculture decides to maintain balance by finding out the right nutrition\n",
    "from the dataset. As the features are more,  by applying\n",
    "some of the Machine Learning techniques such as PCA and Kmeans clustering to reduce the components\n",
    "and visually analyze them"
   ]
  },
  {
   "cell_type": "markdown",
   "id": "aa7f9c58",
   "metadata": {},
   "source": [
    "Dataset Description:\n",
    "The Dataset consist of 8618 rows and 45 columns, some of the major column descriptions are given below,\n",
    "\n",
    "FoodGroup- Category the food products belongs to\n",
    "\n",
    "ShortDescrip- Brief Description about the food group\n",
    "\n",
    "CommonName- Common name of the food\n",
    "\n",
    "ScientificName- Scientific name of the food\n",
    "\n",
    "Energy_kcal- Energy produced by food in calories\n",
    "\n",
    "Protein_g- Protein intake in grams\n",
    "\n",
    "Fat_g- Fat intake in grams\n",
    "\n",
    "Carb_g- Carbohydrates intake in grams\n",
    "\n",
    "Sugar_g- Sugar intake in grams\n",
    "\n",
    "Fiber_g- Fiber intake in grams\n",
    "\n",
    "VitA_mcg VitB6_mg VitB12_mcg VitC_mg VitE_mg- Different vitamins intake in milligrams\n",
    "\n",
    "Calcium_mg- Calcium intake in milligrmas\n",
    "\n",
    "Iron_mg- Iron intake in milligrams\n"
   ]
  },
  {
   "cell_type": "markdown",
   "id": "e05b73ec",
   "metadata": {},
   "source": [
    "#### Topics Covered:\n",
    "PCA , \n",
    "Kmeans\n"
   ]
  },
  {
   "cell_type": "code",
   "execution_count": 4,
   "id": "a3d7dc47",
   "metadata": {},
   "outputs": [],
   "source": [
    "# importing the libraries\n",
    "import pandas as pd\n",
    "import numpy as np\n",
    "from sklearn.decomposition import PCA\n",
    "from sklearn.preprocessing import StandardScaler\n",
    "import matplotlib.pyplot as plt\n"
   ]
  },
  {
   "cell_type": "markdown",
   "id": "b9d9407f",
   "metadata": {},
   "source": [
    "#### Import and pre-process the data"
   ]
  },
  {
   "cell_type": "code",
   "execution_count": 64,
   "id": "6cc8bddd",
   "metadata": {},
   "outputs": [
    {
     "data": {
      "text/html": [
       "<div>\n",
       "<style scoped>\n",
       "    .dataframe tbody tr th:only-of-type {\n",
       "        vertical-align: middle;\n",
       "    }\n",
       "\n",
       "    .dataframe tbody tr th {\n",
       "        vertical-align: top;\n",
       "    }\n",
       "\n",
       "    .dataframe thead th {\n",
       "        text-align: right;\n",
       "    }\n",
       "</style>\n",
       "<table border=\"1\" class=\"dataframe\">\n",
       "  <thead>\n",
       "    <tr style=\"text-align: right;\">\n",
       "      <th></th>\n",
       "      <th>ID</th>\n",
       "      <th>FoodGroup</th>\n",
       "      <th>ShortDescrip</th>\n",
       "      <th>Descrip</th>\n",
       "      <th>CommonName</th>\n",
       "      <th>MfgName</th>\n",
       "      <th>ScientificName</th>\n",
       "      <th>Energy_kcal</th>\n",
       "      <th>Protein_g</th>\n",
       "      <th>Fat_g</th>\n",
       "      <th>...</th>\n",
       "      <th>Folate_USRDA</th>\n",
       "      <th>Niacin_USRDA</th>\n",
       "      <th>Riboflavin_USRDA</th>\n",
       "      <th>Thiamin_USRDA</th>\n",
       "      <th>Calcium_USRDA</th>\n",
       "      <th>Copper_USRDA</th>\n",
       "      <th>Magnesium_USRDA</th>\n",
       "      <th>Phosphorus_USRDA</th>\n",
       "      <th>Selenium_USRDA</th>\n",
       "      <th>Zinc_USRDA</th>\n",
       "    </tr>\n",
       "  </thead>\n",
       "  <tbody>\n",
       "    <tr>\n",
       "      <th>0</th>\n",
       "      <td>1001</td>\n",
       "      <td>Dairy and Egg Products</td>\n",
       "      <td>BUTTER,WITH SALT</td>\n",
       "      <td>Butter, salted</td>\n",
       "      <td>NaN</td>\n",
       "      <td>NaN</td>\n",
       "      <td>NaN</td>\n",
       "      <td>717</td>\n",
       "      <td>0.85</td>\n",
       "      <td>81.11</td>\n",
       "      <td>...</td>\n",
       "      <td>0.0075</td>\n",
       "      <td>0.002625</td>\n",
       "      <td>0.026154</td>\n",
       "      <td>0.004167</td>\n",
       "      <td>0.020000</td>\n",
       "      <td>0.000000</td>\n",
       "      <td>0.004762</td>\n",
       "      <td>0.034286</td>\n",
       "      <td>0.018182</td>\n",
       "      <td>0.008182</td>\n",
       "    </tr>\n",
       "    <tr>\n",
       "      <th>1</th>\n",
       "      <td>1002</td>\n",
       "      <td>Dairy and Egg Products</td>\n",
       "      <td>BUTTER,WHIPPED,WITH SALT</td>\n",
       "      <td>Butter, whipped, with salt</td>\n",
       "      <td>NaN</td>\n",
       "      <td>NaN</td>\n",
       "      <td>NaN</td>\n",
       "      <td>717</td>\n",
       "      <td>0.85</td>\n",
       "      <td>81.11</td>\n",
       "      <td>...</td>\n",
       "      <td>0.0075</td>\n",
       "      <td>0.002625</td>\n",
       "      <td>0.026154</td>\n",
       "      <td>0.004167</td>\n",
       "      <td>0.020000</td>\n",
       "      <td>0.000018</td>\n",
       "      <td>0.004762</td>\n",
       "      <td>0.032857</td>\n",
       "      <td>0.018182</td>\n",
       "      <td>0.004545</td>\n",
       "    </tr>\n",
       "    <tr>\n",
       "      <th>2</th>\n",
       "      <td>1003</td>\n",
       "      <td>Dairy and Egg Products</td>\n",
       "      <td>BUTTER OIL,ANHYDROUS</td>\n",
       "      <td>Butter oil, anhydrous</td>\n",
       "      <td>NaN</td>\n",
       "      <td>NaN</td>\n",
       "      <td>NaN</td>\n",
       "      <td>876</td>\n",
       "      <td>0.28</td>\n",
       "      <td>99.48</td>\n",
       "      <td>...</td>\n",
       "      <td>0.0000</td>\n",
       "      <td>0.000188</td>\n",
       "      <td>0.003846</td>\n",
       "      <td>0.000833</td>\n",
       "      <td>0.003333</td>\n",
       "      <td>0.000001</td>\n",
       "      <td>0.000000</td>\n",
       "      <td>0.004286</td>\n",
       "      <td>0.000000</td>\n",
       "      <td>0.000909</td>\n",
       "    </tr>\n",
       "    <tr>\n",
       "      <th>3</th>\n",
       "      <td>1004</td>\n",
       "      <td>Dairy and Egg Products</td>\n",
       "      <td>CHEESE,BLUE</td>\n",
       "      <td>Cheese, blue</td>\n",
       "      <td>NaN</td>\n",
       "      <td>NaN</td>\n",
       "      <td>NaN</td>\n",
       "      <td>353</td>\n",
       "      <td>21.40</td>\n",
       "      <td>28.74</td>\n",
       "      <td>...</td>\n",
       "      <td>0.0900</td>\n",
       "      <td>0.063500</td>\n",
       "      <td>0.293846</td>\n",
       "      <td>0.024167</td>\n",
       "      <td>0.440000</td>\n",
       "      <td>0.000044</td>\n",
       "      <td>0.054762</td>\n",
       "      <td>0.552857</td>\n",
       "      <td>0.263636</td>\n",
       "      <td>0.241818</td>\n",
       "    </tr>\n",
       "    <tr>\n",
       "      <th>4</th>\n",
       "      <td>1005</td>\n",
       "      <td>Dairy and Egg Products</td>\n",
       "      <td>CHEESE,BRICK</td>\n",
       "      <td>Cheese, brick</td>\n",
       "      <td>NaN</td>\n",
       "      <td>NaN</td>\n",
       "      <td>NaN</td>\n",
       "      <td>371</td>\n",
       "      <td>23.24</td>\n",
       "      <td>29.68</td>\n",
       "      <td>...</td>\n",
       "      <td>0.0500</td>\n",
       "      <td>0.007375</td>\n",
       "      <td>0.270000</td>\n",
       "      <td>0.011667</td>\n",
       "      <td>0.561667</td>\n",
       "      <td>0.000027</td>\n",
       "      <td>0.057143</td>\n",
       "      <td>0.644286</td>\n",
       "      <td>0.263636</td>\n",
       "      <td>0.236364</td>\n",
       "    </tr>\n",
       "  </tbody>\n",
       "</table>\n",
       "<p>5 rows × 45 columns</p>\n",
       "</div>"
      ],
      "text/plain": [
       "     ID               FoodGroup              ShortDescrip  \\\n",
       "0  1001  Dairy and Egg Products          BUTTER,WITH SALT   \n",
       "1  1002  Dairy and Egg Products  BUTTER,WHIPPED,WITH SALT   \n",
       "2  1003  Dairy and Egg Products      BUTTER OIL,ANHYDROUS   \n",
       "3  1004  Dairy and Egg Products               CHEESE,BLUE   \n",
       "4  1005  Dairy and Egg Products              CHEESE,BRICK   \n",
       "\n",
       "                      Descrip CommonName MfgName ScientificName  Energy_kcal  \\\n",
       "0              Butter, salted        NaN     NaN            NaN          717   \n",
       "1  Butter, whipped, with salt        NaN     NaN            NaN          717   \n",
       "2       Butter oil, anhydrous        NaN     NaN            NaN          876   \n",
       "3                Cheese, blue        NaN     NaN            NaN          353   \n",
       "4               Cheese, brick        NaN     NaN            NaN          371   \n",
       "\n",
       "   Protein_g  Fat_g  ...  Folate_USRDA  Niacin_USRDA  Riboflavin_USRDA  \\\n",
       "0       0.85  81.11  ...        0.0075      0.002625          0.026154   \n",
       "1       0.85  81.11  ...        0.0075      0.002625          0.026154   \n",
       "2       0.28  99.48  ...        0.0000      0.000188          0.003846   \n",
       "3      21.40  28.74  ...        0.0900      0.063500          0.293846   \n",
       "4      23.24  29.68  ...        0.0500      0.007375          0.270000   \n",
       "\n",
       "   Thiamin_USRDA  Calcium_USRDA  Copper_USRDA  Magnesium_USRDA  \\\n",
       "0       0.004167       0.020000      0.000000         0.004762   \n",
       "1       0.004167       0.020000      0.000018         0.004762   \n",
       "2       0.000833       0.003333      0.000001         0.000000   \n",
       "3       0.024167       0.440000      0.000044         0.054762   \n",
       "4       0.011667       0.561667      0.000027         0.057143   \n",
       "\n",
       "   Phosphorus_USRDA  Selenium_USRDA  Zinc_USRDA  \n",
       "0          0.034286        0.018182    0.008182  \n",
       "1          0.032857        0.018182    0.004545  \n",
       "2          0.004286        0.000000    0.000909  \n",
       "3          0.552857        0.263636    0.241818  \n",
       "4          0.644286        0.263636    0.236364  \n",
       "\n",
       "[5 rows x 45 columns]"
      ]
     },
     "execution_count": 64,
     "metadata": {},
     "output_type": "execute_result"
    }
   ],
   "source": [
    "nutrients=pd.read_csv('USA_Nutrition_Data.csv')\n",
    "nutrients.head()"
   ]
  },
  {
   "cell_type": "code",
   "execution_count": 65,
   "id": "de3f9a34",
   "metadata": {},
   "outputs": [
    {
     "data": {
      "text/plain": [
       "(8618, 45)"
      ]
     },
     "execution_count": 65,
     "metadata": {},
     "output_type": "execute_result"
    }
   ],
   "source": [
    "nutrients.shape"
   ]
  },
  {
   "cell_type": "code",
   "execution_count": 66,
   "id": "7c77d505",
   "metadata": {},
   "outputs": [
    {
     "name": "stdout",
     "output_type": "stream",
     "text": [
      "<class 'pandas.core.frame.DataFrame'>\n",
      "RangeIndex: 8618 entries, 0 to 8617\n",
      "Data columns (total 45 columns):\n",
      " #   Column            Non-Null Count  Dtype  \n",
      "---  ------            --------------  -----  \n",
      " 0   ID                8618 non-null   int64  \n",
      " 1   FoodGroup         8618 non-null   object \n",
      " 2   ShortDescrip      8618 non-null   object \n",
      " 3   Descrip           8618 non-null   object \n",
      " 4   CommonName        1063 non-null   object \n",
      " 5   MfgName           1560 non-null   object \n",
      " 6   ScientificName    732 non-null    object \n",
      " 7   Energy_kcal       8618 non-null   int64  \n",
      " 8   Protein_g         8618 non-null   float64\n",
      " 9   Fat_g             8618 non-null   float64\n",
      " 10  Carb_g            8618 non-null   float64\n",
      " 11  Sugar_g           8618 non-null   float64\n",
      " 12  Fiber_g           8618 non-null   float64\n",
      " 13  VitA_mcg          8618 non-null   int64  \n",
      " 14  VitB6_mg          8618 non-null   float64\n",
      " 15  VitB12_mcg        8618 non-null   float64\n",
      " 16  VitC_mg           8618 non-null   float64\n",
      " 17  VitE_mg           8618 non-null   float64\n",
      " 18  Folate_mcg        8618 non-null   int64  \n",
      " 19  Niacin_mg         8618 non-null   float64\n",
      " 20  Riboflavin_mg     8618 non-null   float64\n",
      " 21  Thiamin_mg        8618 non-null   float64\n",
      " 22  Calcium_mg        8618 non-null   int64  \n",
      " 23  Copper_mcg        8618 non-null   float64\n",
      " 24  Iron_mg           8618 non-null   float64\n",
      " 25  Magnesium_mg      8618 non-null   int64  \n",
      " 26  Manganese_mg      8618 non-null   float64\n",
      " 27  Phosphorus_mg     8618 non-null   int64  \n",
      " 28  Selenium_mcg      8618 non-null   float64\n",
      " 29  Zinc_mg           8618 non-null   float64\n",
      " 30  VitA_USRDA        8618 non-null   float64\n",
      " 31  VitB6_USRDA       8618 non-null   float64\n",
      " 32  VitB12_USRDA      8618 non-null   float64\n",
      " 33  VitC_USRDA        8618 non-null   float64\n",
      " 34  VitE_USRDA        8618 non-null   float64\n",
      " 35  Folate_USRDA      8618 non-null   float64\n",
      " 36  Niacin_USRDA      8618 non-null   float64\n",
      " 37  Riboflavin_USRDA  8618 non-null   float64\n",
      " 38  Thiamin_USRDA     8618 non-null   float64\n",
      " 39  Calcium_USRDA     8618 non-null   float64\n",
      " 40  Copper_USRDA      8618 non-null   float64\n",
      " 41  Magnesium_USRDA   8618 non-null   float64\n",
      " 42  Phosphorus_USRDA  8618 non-null   float64\n",
      " 43  Selenium_USRDA    8618 non-null   float64\n",
      " 44  Zinc_USRDA        8618 non-null   float64\n",
      "dtypes: float64(32), int64(7), object(6)\n",
      "memory usage: 3.0+ MB\n"
     ]
    }
   ],
   "source": [
    "nutrients.info()"
   ]
  },
  {
   "cell_type": "code",
   "execution_count": 67,
   "id": "3d5ad9ef",
   "metadata": {},
   "outputs": [
    {
     "data": {
      "text/html": [
       "<div>\n",
       "<style scoped>\n",
       "    .dataframe tbody tr th:only-of-type {\n",
       "        vertical-align: middle;\n",
       "    }\n",
       "\n",
       "    .dataframe tbody tr th {\n",
       "        vertical-align: top;\n",
       "    }\n",
       "\n",
       "    .dataframe thead th {\n",
       "        text-align: right;\n",
       "    }\n",
       "</style>\n",
       "<table border=\"1\" class=\"dataframe\">\n",
       "  <thead>\n",
       "    <tr style=\"text-align: right;\">\n",
       "      <th></th>\n",
       "      <th>column</th>\n",
       "      <th>row</th>\n",
       "      <th>corr</th>\n",
       "    </tr>\n",
       "  </thead>\n",
       "  <tbody>\n",
       "    <tr>\n",
       "      <th>0</th>\n",
       "      <td>VitA_mcg</td>\n",
       "      <td>VitA_USRDA</td>\n",
       "      <td>1.0</td>\n",
       "    </tr>\n",
       "    <tr>\n",
       "      <th>1</th>\n",
       "      <td>VitB6_mg</td>\n",
       "      <td>VitB6_USRDA</td>\n",
       "      <td>1.0</td>\n",
       "    </tr>\n",
       "    <tr>\n",
       "      <th>2</th>\n",
       "      <td>VitB12_mcg</td>\n",
       "      <td>VitB12_USRDA</td>\n",
       "      <td>1.0</td>\n",
       "    </tr>\n",
       "    <tr>\n",
       "      <th>3</th>\n",
       "      <td>VitC_mg</td>\n",
       "      <td>VitC_USRDA</td>\n",
       "      <td>1.0</td>\n",
       "    </tr>\n",
       "    <tr>\n",
       "      <th>4</th>\n",
       "      <td>VitE_mg</td>\n",
       "      <td>VitE_USRDA</td>\n",
       "      <td>1.0</td>\n",
       "    </tr>\n",
       "    <tr>\n",
       "      <th>5</th>\n",
       "      <td>Folate_mcg</td>\n",
       "      <td>Folate_USRDA</td>\n",
       "      <td>1.0</td>\n",
       "    </tr>\n",
       "    <tr>\n",
       "      <th>6</th>\n",
       "      <td>Niacin_mg</td>\n",
       "      <td>Niacin_USRDA</td>\n",
       "      <td>1.0</td>\n",
       "    </tr>\n",
       "    <tr>\n",
       "      <th>7</th>\n",
       "      <td>Riboflavin_mg</td>\n",
       "      <td>Riboflavin_USRDA</td>\n",
       "      <td>1.0</td>\n",
       "    </tr>\n",
       "    <tr>\n",
       "      <th>8</th>\n",
       "      <td>Thiamin_mg</td>\n",
       "      <td>Thiamin_USRDA</td>\n",
       "      <td>1.0</td>\n",
       "    </tr>\n",
       "    <tr>\n",
       "      <th>9</th>\n",
       "      <td>Calcium_mg</td>\n",
       "      <td>Calcium_USRDA</td>\n",
       "      <td>1.0</td>\n",
       "    </tr>\n",
       "    <tr>\n",
       "      <th>10</th>\n",
       "      <td>Copper_mcg</td>\n",
       "      <td>Copper_USRDA</td>\n",
       "      <td>1.0</td>\n",
       "    </tr>\n",
       "    <tr>\n",
       "      <th>11</th>\n",
       "      <td>Magnesium_mg</td>\n",
       "      <td>Magnesium_USRDA</td>\n",
       "      <td>1.0</td>\n",
       "    </tr>\n",
       "    <tr>\n",
       "      <th>12</th>\n",
       "      <td>Phosphorus_mg</td>\n",
       "      <td>Phosphorus_USRDA</td>\n",
       "      <td>1.0</td>\n",
       "    </tr>\n",
       "    <tr>\n",
       "      <th>13</th>\n",
       "      <td>Selenium_mcg</td>\n",
       "      <td>Selenium_USRDA</td>\n",
       "      <td>1.0</td>\n",
       "    </tr>\n",
       "    <tr>\n",
       "      <th>14</th>\n",
       "      <td>Zinc_mg</td>\n",
       "      <td>Zinc_USRDA</td>\n",
       "      <td>1.0</td>\n",
       "    </tr>\n",
       "  </tbody>\n",
       "</table>\n",
       "</div>"
      ],
      "text/plain": [
       "           column               row corr\n",
       "0        VitA_mcg        VitA_USRDA  1.0\n",
       "1        VitB6_mg       VitB6_USRDA  1.0\n",
       "2      VitB12_mcg      VitB12_USRDA  1.0\n",
       "3         VitC_mg        VitC_USRDA  1.0\n",
       "4         VitE_mg        VitE_USRDA  1.0\n",
       "5      Folate_mcg      Folate_USRDA  1.0\n",
       "6       Niacin_mg      Niacin_USRDA  1.0\n",
       "7   Riboflavin_mg  Riboflavin_USRDA  1.0\n",
       "8      Thiamin_mg     Thiamin_USRDA  1.0\n",
       "9      Calcium_mg     Calcium_USRDA  1.0\n",
       "10     Copper_mcg      Copper_USRDA  1.0\n",
       "11   Magnesium_mg   Magnesium_USRDA  1.0\n",
       "12  Phosphorus_mg  Phosphorus_USRDA  1.0\n",
       "13   Selenium_mcg    Selenium_USRDA  1.0\n",
       "14        Zinc_mg        Zinc_USRDA  1.0"
      ]
     },
     "execution_count": 67,
     "metadata": {},
     "output_type": "execute_result"
    }
   ],
   "source": [
    "used = []\n",
    "corrs = []\n",
    "# The enumerate() function assigns an index to each item in an iterable object that can be used to reference the item later\n",
    "for i, j in enumerate(nutrients.corr().columns):\n",
    "    for k in range(len(nutrients.corr())):\n",
    "        if ((nutrients.corr().iloc[k, i] > 0.9) &\n",
    "            (j not in used) &\n",
    "            (j != nutrients.corr().index[k])):\n",
    "            used.append(j)\n",
    "            corrs.append((j, nutrients.corr().index[k],\n",
    "                np.round(nutrients.corr().iloc[k, i], 2)))\n",
    "corrs_nutrients = pd.DataFrame([[i[0] for i in corrs],\n",
    "                                [i[1] for i in corrs],\n",
    "                                [i[2] for i in corrs]])\n",
    "corrs_nutrients = corrs_nutrients.T.rename(columns = {0:'column',1:'row',2:'corr'})\n",
    "corrs_nutrients[:15]"
   ]
  },
  {
   "cell_type": "markdown",
   "id": "de51a889",
   "metadata": {},
   "source": [
    "We can observe that the \"_USRDA\" features are similar to other nutrient features, and can be dropped\n"
   ]
  },
  {
   "cell_type": "code",
   "execution_count": 68,
   "id": "41fa7fc8",
   "metadata": {},
   "outputs": [],
   "source": [
    "# dropping _USRDA features\n",
    "nutrients.drop(nutrients.columns[nutrients.columns.str.contains('_USRDA')].values,inplace=True, axis=1)"
   ]
  },
  {
   "cell_type": "markdown",
   "id": "8f08b2dc",
   "metadata": {},
   "source": [
    "Dropping first six categorical features as PCA and kmeans clustering does not affect them much"
   ]
  },
  {
   "cell_type": "code",
   "execution_count": 69,
   "id": "c0f67f02",
   "metadata": {},
   "outputs": [],
   "source": [
    "# dropping the categorical features as well\n",
    "nutrients.set_index('ID', inplace=True)\n",
    "nutrients_desc = nutrients.iloc[:, :6]\n",
    "nutrients.drop(nutrients.columns[:6].values, axis=1, inplace=True)"
   ]
  },
  {
   "cell_type": "markdown",
   "id": "6ba34c9a",
   "metadata": {},
   "source": [
    "need to perform Scaling before applying PCA since PCA creates the Principal Component 1 in the\n",
    "direction of the maximum variance. But, if we do not scale, some features in our dataset might show high variance because of their larger values.\n",
    "\n",
    "This is why it is strongly advisable to scale the data before applying PCA technique.\n",
    "\n",
    "StandardScaler() will normalize each column of the dataset INDIVIDUALLY, so that each column or feature or variable will have mean = 0 and standard deviation = 1."
   ]
  },
  {
   "cell_type": "code",
   "execution_count": 70,
   "id": "da82013a",
   "metadata": {},
   "outputs": [],
   "source": [
    "# standardizing the data\n",
    "nutrients_TF = StandardScaler().fit_transform(nutrients)"
   ]
  },
  {
   "cell_type": "code",
   "execution_count": 71,
   "id": "b6d68632",
   "metadata": {},
   "outputs": [
    {
     "data": {
      "text/plain": [
       "(8618, 23)"
      ]
     },
     "execution_count": 71,
     "metadata": {},
     "output_type": "execute_result"
    }
   ],
   "source": [
    "# printing the shape of the data\n",
    "nutrients_TF.shape"
   ]
  },
  {
   "cell_type": "markdown",
   "id": "0375fa18",
   "metadata": {},
   "source": [
    "#### Fit and transform the data on the PCA model"
   ]
  },
  {
   "cell_type": "code",
   "execution_count": 72,
   "id": "d9de2b8b",
   "metadata": {},
   "outputs": [
    {
     "data": {
      "text/plain": [
       "array([[-1.12177585e+00, -1.18225141e+00, -3.66193973e+00, ...,\n",
       "         2.08470136e-01, -3.98100905e-02,  3.70138174e-02],\n",
       "       [-1.11468691e+00, -1.18417302e+00, -3.66232928e+00, ...,\n",
       "         2.22450074e-01, -3.76157809e-02,  3.68193054e-02],\n",
       "       [-9.94919411e-01, -1.57357953e+00, -4.69772411e+00, ...,\n",
       "         2.38667900e-01, -7.22173197e-02,  4.31958958e-02],\n",
       "       ...,\n",
       "       [-7.67670698e-01, -3.26765632e+00,  9.85205562e-01, ...,\n",
       "         3.64559090e-01, -1.48468056e-01,  8.65889021e-02],\n",
       "       [ 3.55897094e-01,  6.78435359e-01, -1.00293556e+00, ...,\n",
       "        -8.24537105e-01,  1.12523136e-01, -4.86965696e-02],\n",
       "       [-8.66889802e-01,  1.19845904e+00,  1.93486895e-01, ...,\n",
       "        -1.53381540e-01,  2.30499506e-01, -1.91554534e-03]])"
      ]
     },
     "execution_count": 72,
     "metadata": {},
     "output_type": "execute_result"
    }
   ],
   "source": [
    "pca = PCA()\n",
    "pca.fit_transform(nutrients_TF)"
   ]
  },
  {
   "cell_type": "markdown",
   "id": "399ba113",
   "metadata": {},
   "source": [
    "#### Calculate the variance ratio and plot scree plot to find the principal components"
   ]
  },
  {
   "cell_type": "code",
   "execution_count": 73,
   "id": "923b58e0",
   "metadata": {},
   "outputs": [
    {
     "data": {
      "text/plain": [
       "array([2.36925468e-01, 1.13846015e-01, 8.83433734e-02, 8.17013669e-02,\n",
       "       7.11161480e-02, 4.95813332e-02, 4.61246638e-02, 4.02719041e-02,\n",
       "       3.74790508e-02, 3.58559322e-02, 3.17927198e-02, 2.59519549e-02,\n",
       "       2.21153503e-02, 2.04113766e-02, 1.77385355e-02, 1.46927827e-02,\n",
       "       1.43290735e-02, 1.39668837e-02, 1.11392349e-02, 1.03538827e-02,\n",
       "       9.18082227e-03, 6.91711649e-03, 1.65010749e-04])"
      ]
     },
     "execution_count": 73,
     "metadata": {},
     "output_type": "execute_result"
    }
   ],
   "source": [
    "pca.explained_variance_ratio_"
   ]
  },
  {
   "cell_type": "code",
   "execution_count": 74,
   "id": "8815cb9a",
   "metadata": {},
   "outputs": [
    {
     "data": {
      "text/plain": [
       "Text(0, 0.5, 'cumulative explained variance')"
      ]
     },
     "execution_count": 74,
     "metadata": {},
     "output_type": "execute_result"
    },
    {
     "data": {
      "image/png": "[encoded data removed]",
      "text/plain": [
       "<Figure size 432x288 with 1 Axes>"
      ]
     },
     "metadata": {
      "needs_background": "light"
     },
     "output_type": "display_data"
    }
   ],
   "source": [
    "pca = PCA().fit(nutrients_TF)\n",
    "plt.plot(np.cumsum(pca.explained_variance_ratio_))\n",
    "plt.grid(True)\n",
    "plt.xlabel('number of components')\n",
    "plt.ylabel('cumulative explained variance')"
   ]
  },
  {
   "cell_type": "markdown",
   "id": "506ba980",
   "metadata": {},
   "source": [
    "From above, we can observe that the explained variance ratio after 10 is negligible"
   ]
  },
  {
   "cell_type": "markdown",
   "id": "b4834cae",
   "metadata": {},
   "source": [
    "#### Fit and transform the PCA model for the principal components found"
   ]
  },
  {
   "cell_type": "code",
   "execution_count": 75,
   "id": "96f1f03d",
   "metadata": {},
   "outputs": [
    {
     "data": {
      "text/plain": [
       "PCA(n_components=10)"
      ]
     },
     "execution_count": 75,
     "metadata": {},
     "output_type": "execute_result"
    }
   ],
   "source": [
    "pca=PCA(n_components=10)\n",
    "pca.fit(nutrients_TF)"
   ]
  },
  {
   "cell_type": "code",
   "execution_count": 76,
   "id": "cc636a7a",
   "metadata": {},
   "outputs": [],
   "source": [
    "scores_pca=pca.transform(nutrients_TF)"
   ]
  },
  {
   "cell_type": "code",
   "execution_count": 77,
   "id": "b02bd375",
   "metadata": {},
   "outputs": [
    {
     "name": "stdout",
     "output_type": "stream",
     "text": [
      "0.8012447255314572\n"
     ]
    }
   ],
   "source": [
    "print(pca.explained_variance_ratio_[:10].sum())"
   ]
  },
  {
   "cell_type": "markdown",
   "id": "c9879cc7",
   "metadata": {},
   "source": [
    "We can observe that first 5 eigenvectors account for almost 60% of the variance"
   ]
  },
  {
   "cell_type": "markdown",
   "id": "311517dc",
   "metadata": {},
   "source": [
    "#### Create a Kmeans model for the PCA components\n"
   ]
  },
  {
   "cell_type": "code",
   "execution_count": 78,
   "id": "b6454d65",
   "metadata": {},
   "outputs": [
    {
     "data": {
      "text/plain": [
       "KMeans(n_clusters=10, random_state=42)"
      ]
     },
     "execution_count": 78,
     "metadata": {},
     "output_type": "execute_result"
    }
   ],
   "source": [
    "#Set a 10 KMeans clustering\n",
    "from sklearn.cluster import KMeans\n",
    "kmeans_pca=KMeans(n_clusters=10, init='k-means++', random_state=42)\n",
    "kmeans_pca.fit(nutrients_TF)"
   ]
  },
  {
   "cell_type": "markdown",
   "id": "544db2c2",
   "metadata": {},
   "source": [
    "#### Add the components and the clusters found by PCA and Kmeans\n",
    "to the scaled data"
   ]
  },
  {
   "cell_type": "code",
   "execution_count": 79,
   "id": "f6246bcb",
   "metadata": {},
   "outputs": [
    {
     "data": {
      "text/html": [
       "<div>\n",
       "<style scoped>\n",
       "    .dataframe tbody tr th:only-of-type {\n",
       "        vertical-align: middle;\n",
       "    }\n",
       "\n",
       "    .dataframe tbody tr th {\n",
       "        vertical-align: top;\n",
       "    }\n",
       "\n",
       "    .dataframe thead th {\n",
       "        text-align: right;\n",
       "    }\n",
       "</style>\n",
       "<table border=\"1\" class=\"dataframe\">\n",
       "  <thead>\n",
       "    <tr style=\"text-align: right;\">\n",
       "      <th></th>\n",
       "      <th>Energy_kcal</th>\n",
       "      <th>Protein_g</th>\n",
       "      <th>Fat_g</th>\n",
       "      <th>Carb_g</th>\n",
       "      <th>Sugar_g</th>\n",
       "      <th>Fiber_g</th>\n",
       "      <th>VitA_mcg</th>\n",
       "      <th>VitB6_mg</th>\n",
       "      <th>VitB12_mcg</th>\n",
       "      <th>VitC_mg</th>\n",
       "      <th>...</th>\n",
       "      <th>Component2</th>\n",
       "      <th>Component3</th>\n",
       "      <th>Component4</th>\n",
       "      <th>Component5</th>\n",
       "      <th>Component6</th>\n",
       "      <th>Component7</th>\n",
       "      <th>Component8</th>\n",
       "      <th>Component9</th>\n",
       "      <th>Component10</th>\n",
       "      <th>segment_kmeans_pca</th>\n",
       "    </tr>\n",
       "  </thead>\n",
       "  <tbody>\n",
       "    <tr>\n",
       "      <th>0</th>\n",
       "      <td>717</td>\n",
       "      <td>0.85</td>\n",
       "      <td>81.11</td>\n",
       "      <td>0.06</td>\n",
       "      <td>0.06</td>\n",
       "      <td>0.0</td>\n",
       "      <td>684</td>\n",
       "      <td>0.003</td>\n",
       "      <td>0.17</td>\n",
       "      <td>0.0</td>\n",
       "      <td>...</td>\n",
       "      <td>-1.182250</td>\n",
       "      <td>-3.661946</td>\n",
       "      <td>1.080911</td>\n",
       "      <td>-3.084151</td>\n",
       "      <td>0.837855</td>\n",
       "      <td>0.330918</td>\n",
       "      <td>-0.555152</td>\n",
       "      <td>-0.621221</td>\n",
       "      <td>1.426256</td>\n",
       "      <td>2</td>\n",
       "    </tr>\n",
       "    <tr>\n",
       "      <th>1</th>\n",
       "      <td>717</td>\n",
       "      <td>0.85</td>\n",
       "      <td>81.11</td>\n",
       "      <td>0.06</td>\n",
       "      <td>0.06</td>\n",
       "      <td>0.0</td>\n",
       "      <td>684</td>\n",
       "      <td>0.003</td>\n",
       "      <td>0.13</td>\n",
       "      <td>0.0</td>\n",
       "      <td>...</td>\n",
       "      <td>-1.184172</td>\n",
       "      <td>-3.662336</td>\n",
       "      <td>1.090730</td>\n",
       "      <td>-3.077420</td>\n",
       "      <td>0.836938</td>\n",
       "      <td>0.323280</td>\n",
       "      <td>-0.552157</td>\n",
       "      <td>-0.631270</td>\n",
       "      <td>1.432194</td>\n",
       "      <td>2</td>\n",
       "    </tr>\n",
       "    <tr>\n",
       "      <th>2</th>\n",
       "      <td>876</td>\n",
       "      <td>0.28</td>\n",
       "      <td>99.48</td>\n",
       "      <td>0.00</td>\n",
       "      <td>0.00</td>\n",
       "      <td>0.0</td>\n",
       "      <td>840</td>\n",
       "      <td>0.001</td>\n",
       "      <td>0.01</td>\n",
       "      <td>0.0</td>\n",
       "      <td>...</td>\n",
       "      <td>-1.573578</td>\n",
       "      <td>-4.697731</td>\n",
       "      <td>1.317303</td>\n",
       "      <td>-3.912673</td>\n",
       "      <td>0.940033</td>\n",
       "      <td>0.373758</td>\n",
       "      <td>-0.538780</td>\n",
       "      <td>-0.698496</td>\n",
       "      <td>1.763501</td>\n",
       "      <td>2</td>\n",
       "    </tr>\n",
       "    <tr>\n",
       "      <th>3</th>\n",
       "      <td>353</td>\n",
       "      <td>21.40</td>\n",
       "      <td>28.74</td>\n",
       "      <td>2.34</td>\n",
       "      <td>0.50</td>\n",
       "      <td>0.0</td>\n",
       "      <td>198</td>\n",
       "      <td>0.166</td>\n",
       "      <td>1.22</td>\n",
       "      <td>0.0</td>\n",
       "      <td>...</td>\n",
       "      <td>0.566071</td>\n",
       "      <td>-1.905064</td>\n",
       "      <td>-0.834522</td>\n",
       "      <td>0.438118</td>\n",
       "      <td>0.051321</td>\n",
       "      <td>1.708811</td>\n",
       "      <td>-1.160897</td>\n",
       "      <td>-0.396047</td>\n",
       "      <td>0.275184</td>\n",
       "      <td>0</td>\n",
       "    </tr>\n",
       "    <tr>\n",
       "      <th>4</th>\n",
       "      <td>371</td>\n",
       "      <td>23.24</td>\n",
       "      <td>29.68</td>\n",
       "      <td>2.79</td>\n",
       "      <td>0.51</td>\n",
       "      <td>0.0</td>\n",
       "      <td>292</td>\n",
       "      <td>0.065</td>\n",
       "      <td>1.26</td>\n",
       "      <td>0.0</td>\n",
       "      <td>...</td>\n",
       "      <td>0.537660</td>\n",
       "      <td>-2.307578</td>\n",
       "      <td>-0.903863</td>\n",
       "      <td>0.875478</td>\n",
       "      <td>0.014294</td>\n",
       "      <td>2.157794</td>\n",
       "      <td>-1.460661</td>\n",
       "      <td>-0.483999</td>\n",
       "      <td>0.282584</td>\n",
       "      <td>0</td>\n",
       "    </tr>\n",
       "  </tbody>\n",
       "</table>\n",
       "<p>5 rows × 34 columns</p>\n",
       "</div>"
      ],
      "text/plain": [
       "   Energy_kcal  Protein_g  Fat_g  Carb_g  Sugar_g  Fiber_g  VitA_mcg  \\\n",
       "0          717       0.85  81.11    0.06     0.06      0.0       684   \n",
       "1          717       0.85  81.11    0.06     0.06      0.0       684   \n",
       "2          876       0.28  99.48    0.00     0.00      0.0       840   \n",
       "3          353      21.40  28.74    2.34     0.50      0.0       198   \n",
       "4          371      23.24  29.68    2.79     0.51      0.0       292   \n",
       "\n",
       "   VitB6_mg  VitB12_mcg  VitC_mg  ...  Component2  Component3  Component4  \\\n",
       "0     0.003        0.17      0.0  ...   -1.182250   -3.661946    1.080911   \n",
       "1     0.003        0.13      0.0  ...   -1.184172   -3.662336    1.090730   \n",
       "2     0.001        0.01      0.0  ...   -1.573578   -4.697731    1.317303   \n",
       "3     0.166        1.22      0.0  ...    0.566071   -1.905064   -0.834522   \n",
       "4     0.065        1.26      0.0  ...    0.537660   -2.307578   -0.903863   \n",
       "\n",
       "   Component5  Component6  Component7  Component8  Component9  Component10  \\\n",
       "0   -3.084151    0.837855    0.330918   -0.555152   -0.621221     1.426256   \n",
       "1   -3.077420    0.836938    0.323280   -0.552157   -0.631270     1.432194   \n",
       "2   -3.912673    0.940033    0.373758   -0.538780   -0.698496     1.763501   \n",
       "3    0.438118    0.051321    1.708811   -1.160897   -0.396047     0.275184   \n",
       "4    0.875478    0.014294    2.157794   -1.460661   -0.483999     0.282584   \n",
       "\n",
       "   segment_kmeans_pca  \n",
       "0                   2  \n",
       "1                   2  \n",
       "2                   2  \n",
       "3                   0  \n",
       "4                   0  \n",
       "\n",
       "[5 rows x 34 columns]"
      ]
     },
     "execution_count": 79,
     "metadata": {},
     "output_type": "execute_result"
    }
   ],
   "source": [
    "nutrients_seg_pca_kmeans=pd.concat([nutrients.reset_index(drop=True),pd.DataFrame(scores_pca)],axis=1)\n",
    "nutrients_seg_pca_kmeans.columns.values[-10: ]=['Component1','Component2','Component3',\n",
    "                                                'Component4','Component5','Component6',\n",
    "                                                'Component7','Component8','Component9','Component10']\n",
    "nutrients_seg_pca_kmeans['segment_kmeans_pca']=kmeans_pca.labels_\n",
    "nutrients_seg_pca_kmeans.head()\n"
   ]
  },
  {
   "cell_type": "markdown",
   "id": "dca832c8",
   "metadata": {},
   "source": [
    "#### Visualize the components (1 and 2) based on its kmeans cluster"
   ]
  },
  {
   "cell_type": "code",
   "execution_count": 80,
   "id": "0850bfab",
   "metadata": {},
   "outputs": [],
   "source": [
    "nutrients_seg_pca_kmeans['Segment']= nutrients_seg_pca_kmeans['segment_kmeans_pca'].map({0:'first',\n",
    "                                                                                         1:'second',\n",
    "                                                                                         2:'third',\n",
    "                                                                                         3:'fourth',\n",
    "                                                                                         4:'fifth'})"
   ]
  },
  {
   "cell_type": "code",
   "execution_count": 81,
   "id": "4d22d599",
   "metadata": {},
   "outputs": [
    {
     "name": "stderr",
     "output_type": "stream",
     "text": [
      "C:\\Users\\MANISH\\anaconda3\\lib\\site-packages\\seaborn\\_decorators.py:36: FutureWarning: Pass the following variables as keyword args: x, y. From version 0.12, the only valid positional argument will be `data`, and passing other arguments without an explicit keyword will result in an error or misinterpretation.\n",
      "  warnings.warn(\n"
     ]
    },
    {
     "data": {
      "image/png": "[encoded data removed]",
      "text/plain": [
       "<Figure size 720x576 with 1 Axes>"
      ]
     },
     "metadata": {
      "needs_background": "light"
     },
     "output_type": "display_data"
    }
   ],
   "source": [
    "import seaborn as sns\n",
    "x_axis= nutrients_seg_pca_kmeans['Component2']\n",
    "y_axis= nutrients_seg_pca_kmeans['Component1']\n",
    "plt.figure(figsize=(10,8))\n",
    "sns.scatterplot(x_axis,y_axis,hue=nutrients_seg_pca_kmeans['Segment'],palette=['b','g','r','c','m'])\n",
    "plt.title('clusters')\n",
    "plt.show()\n"
   ]
  },
  {
   "cell_type": "markdown",
   "id": "96648ba5",
   "metadata": {},
   "source": [
    "As we can see we have five different clusters based on components 1 and 2.\n",
    "But we can further analyze for rest of the components by sorting them to find what nutrients each component\n",
    "is rich in"
   ]
  },
  {
   "cell_type": "markdown",
   "id": "39d2edf2",
   "metadata": {},
   "source": [
    "#### Find out which nutrient(s) is each component rich in"
   ]
  },
  {
   "cell_type": "code",
   "execution_count": 82,
   "id": "25befec6",
   "metadata": {},
   "outputs": [
    {
     "data": {
      "text/plain": [
       "Riboflavin_mg    0.341325\n",
       "Niacin_mg        0.337779\n",
       "VitB6_mg         0.315663\n",
       "Iron_mg          0.299857\n",
       "Folate_mcg       0.284102\n",
       "Thiamin_mg       0.272453\n",
       "Zinc_mg          0.243551\n",
       "Magnesium_mg     0.241348\n",
       "Phosphorus_mg    0.199403\n",
       "Fiber_g          0.181570\n",
       "Copper_mcg       0.180806\n",
       "VitB12_mcg       0.177985\n",
       "Carb_g           0.169685\n",
       "Calcium_mg       0.168112\n",
       "Energy_kcal      0.157814\n",
       "Protein_g        0.140620\n",
       "VitE_mg          0.137122\n",
       "VitA_mcg         0.133519\n",
       "Manganese_mg     0.093567\n",
       "Selenium_mcg     0.092319\n",
       "VitC_mg          0.087639\n",
       "Sugar_g          0.076323\n",
       "Fat_g            0.033008\n",
       "dtype: float64"
      ]
     },
     "execution_count": 82,
     "metadata": {},
     "output_type": "execute_result"
    }
   ],
   "source": [
    "vects = pca.components_[:10]\n",
    "first = pd.Series(vects[0], index=nutrients.columns)\n",
    "first.sort_values(ascending=False)\n"
   ]
  },
  {
   "cell_type": "markdown",
   "id": "b807b07f",
   "metadata": {},
   "source": [
    "First component is rich in Riboflavin_mg, Niacin_mg and VitB6"
   ]
  },
  {
   "cell_type": "code",
   "execution_count": 83,
   "id": "59f54c7f",
   "metadata": {},
   "outputs": [
    {
     "data": {
      "text/plain": [
       "VitB12_mcg       0.355044\n",
       "Protein_g        0.343396\n",
       "Selenium_mcg     0.239322\n",
       "VitA_mcg         0.236470\n",
       "Copper_mcg       0.212669\n",
       "Zinc_mg          0.177798\n",
       "Manganese_mg     0.088783\n",
       "Phosphorus_mg    0.087447\n",
       "Niacin_mg        0.084803\n",
       "Riboflavin_mg    0.073474\n",
       "VitB6_mg         0.021128\n",
       "VitC_mg         -0.038526\n",
       "Thiamin_mg      -0.075152\n",
       "Iron_mg         -0.093814\n",
       "Folate_mcg      -0.097094\n",
       "Magnesium_mg    -0.103360\n",
       "Calcium_mg      -0.105172\n",
       "VitE_mg         -0.106372\n",
       "Fat_g           -0.111670\n",
       "Fiber_g         -0.257732\n",
       "Energy_kcal     -0.273449\n",
       "Sugar_g         -0.358769\n",
       "Carb_g          -0.443417\n",
       "dtype: float64"
      ]
     },
     "execution_count": 83,
     "metadata": {},
     "output_type": "execute_result"
    }
   ],
   "source": [
    "second = pd.Series(vects[1], index=nutrients.columns)\n",
    "second.sort_values(ascending=False)"
   ]
  },
  {
   "cell_type": "markdown",
   "id": "20a76ae2",
   "metadata": {},
   "source": [
    "Second component is rich in VitaminB12 and Protein\n"
   ]
  },
  {
   "cell_type": "code",
   "execution_count": 84,
   "id": "0d5b407a",
   "metadata": {},
   "outputs": [
    {
     "data": {
      "text/plain": [
       "Folate_mcg       0.230987\n",
       "Riboflavin_mg    0.192084\n",
       "Thiamin_mg       0.184360\n",
       "VitB6_mg         0.174650\n",
       "Niacin_mg        0.164880\n",
       "VitC_mg          0.162307\n",
       "Iron_mg          0.087116\n",
       "Sugar_g          0.055245\n",
       "Carb_g           0.049825\n",
       "VitB12_mcg      -0.012758\n",
       "VitA_mcg        -0.021929\n",
       "Zinc_mg         -0.038640\n",
       "Fiber_g         -0.040400\n",
       "Manganese_mg    -0.072630\n",
       "Calcium_mg      -0.128141\n",
       "Copper_mcg      -0.152260\n",
       "Selenium_mcg    -0.163361\n",
       "Magnesium_mg    -0.201231\n",
       "VitE_mg         -0.207329\n",
       "Protein_g       -0.213564\n",
       "Phosphorus_mg   -0.274811\n",
       "Energy_kcal     -0.462005\n",
       "Fat_g           -0.534053\n",
       "dtype: float64"
      ]
     },
     "execution_count": 84,
     "metadata": {},
     "output_type": "execute_result"
    }
   ],
   "source": [
    "third = pd.Series(vects[2], index=nutrients.columns)\n",
    "third.sort_values(ascending=False)"
   ]
  },
  {
   "cell_type": "markdown",
   "id": "cd3e6d20",
   "metadata": {},
   "source": [
    "Third component is rich in Folate, Riboflavin and Thiamin\n"
   ]
  },
  {
   "cell_type": "code",
   "execution_count": 85,
   "id": "50cb099c",
   "metadata": {},
   "outputs": [
    {
     "data": {
      "text/plain": [
       "VitA_mcg         0.530396\n",
       "Copper_mcg       0.389932\n",
       "VitB12_mcg       0.346553\n",
       "Manganese_mg     0.311369\n",
       "Sugar_g          0.217371\n",
       "Carb_g           0.174111\n",
       "Energy_kcal      0.052282\n",
       "VitC_mg          0.047590\n",
       "Riboflavin_mg    0.046977\n",
       "Fiber_g          0.042127\n",
       "Fat_g            0.026518\n",
       "VitE_mg          0.026177\n",
       "Folate_mcg      -0.032478\n",
       "Iron_mg         -0.059435\n",
       "Magnesium_mg    -0.071812\n",
       "Calcium_mg      -0.099342\n",
       "Thiamin_mg      -0.103507\n",
       "VitB6_mg        -0.114372\n",
       "Niacin_mg       -0.156397\n",
       "Selenium_mcg    -0.161623\n",
       "Zinc_mg         -0.166324\n",
       "Phosphorus_mg   -0.207867\n",
       "Protein_g       -0.311108\n",
       "dtype: float64"
      ]
     },
     "execution_count": 85,
     "metadata": {},
     "output_type": "execute_result"
    }
   ],
   "source": [
    "fourth = pd.Series(vects[3], index=nutrients.columns)\n",
    "fourth.sort_values(ascending=False)"
   ]
  },
  {
   "cell_type": "markdown",
   "id": "11b216a8",
   "metadata": {},
   "source": [
    "Fourth component is rich in Vitamin-A, copper and Vitamin-B12\n"
   ]
  },
  {
   "cell_type": "code",
   "execution_count": 86,
   "id": "4fe7281e",
   "metadata": {},
   "outputs": [
    {
     "data": {
      "text/plain": [
       "Calcium_mg       0.388697\n",
       "Magnesium_mg     0.352751\n",
       "Phosphorus_mg    0.344923\n",
       "Fiber_g          0.332167\n",
       "Copper_mcg       0.161237\n",
       "Manganese_mg     0.125600\n",
       "Iron_mg          0.097098\n",
       "Carb_g           0.082717\n",
       "VitC_mg          0.024706\n",
       "Protein_g        0.013170\n",
       "VitA_mcg         0.008136\n",
       "Selenium_mcg    -0.005050\n",
       "Sugar_g         -0.048417\n",
       "VitB12_mcg      -0.058859\n",
       "Zinc_mg         -0.064317\n",
       "VitB6_mg        -0.133753\n",
       "Folate_mcg      -0.137700\n",
       "Riboflavin_mg   -0.153441\n",
       "Thiamin_mg      -0.161535\n",
       "Niacin_mg       -0.203418\n",
       "VitE_mg         -0.238023\n",
       "Energy_kcal     -0.293598\n",
       "Fat_g           -0.394447\n",
       "dtype: float64"
      ]
     },
     "execution_count": 86,
     "metadata": {},
     "output_type": "execute_result"
    }
   ],
   "source": [
    "fifth = pd.Series(vects[4], index=nutrients.columns)\n",
    "fifth.sort_values(ascending=False)"
   ]
  },
  {
   "cell_type": "markdown",
   "id": "523bcfc1",
   "metadata": {},
   "source": [
    "Fifth Component is rich in Calcium, Magnesium and Phosphorus"
   ]
  },
  {
   "cell_type": "code",
   "execution_count": 87,
   "id": "3d7bb03f",
   "metadata": {},
   "outputs": [
    {
     "data": {
      "text/plain": [
       "VitC_mg          0.545334\n",
       "VitE_mg          0.475372\n",
       "VitB6_mg         0.200625\n",
       "Manganese_mg     0.182532\n",
       "Magnesium_mg     0.139977\n",
       "Fiber_g          0.134776\n",
       "Fat_g            0.116429\n",
       "Calcium_mg       0.070443\n",
       "VitA_mcg         0.039050\n",
       "Niacin_mg        0.026028\n",
       "Iron_mg         -0.030323\n",
       "Riboflavin_mg   -0.051090\n",
       "Zinc_mg         -0.054572\n",
       "Folate_mcg      -0.054630\n",
       "Phosphorus_mg   -0.083693\n",
       "Copper_mcg      -0.086151\n",
       "VitB12_mcg      -0.123110\n",
       "Thiamin_mg      -0.129741\n",
       "Energy_kcal     -0.132831\n",
       "Protein_g       -0.141373\n",
       "Selenium_mcg    -0.243766\n",
       "Carb_g          -0.279279\n",
       "Sugar_g         -0.337090\n",
       "dtype: float64"
      ]
     },
     "execution_count": 87,
     "metadata": {},
     "output_type": "execute_result"
    }
   ],
   "source": [
    "sixth = pd.Series(vects[5], index=nutrients.columns)\n",
    "sixth.sort_values(ascending=False)"
   ]
  },
  {
   "cell_type": "markdown",
   "id": "c06df117",
   "metadata": {},
   "source": [
    "Sixth component is rich in VitC_mg, VitE_mg, VitB6_mg\n"
   ]
  },
  {
   "cell_type": "code",
   "execution_count": 88,
   "id": "b19dfaa9",
   "metadata": {},
   "outputs": [
    {
     "data": {
      "text/plain": [
       "Calcium_mg       0.462748\n",
       "VitC_mg          0.451417\n",
       "Phosphorus_mg    0.323626\n",
       "Sugar_g          0.298544\n",
       "Riboflavin_mg    0.141402\n",
       "VitA_mcg         0.101366\n",
       "Energy_kcal      0.066855\n",
       "VitB12_mcg       0.056126\n",
       "Niacin_mg        0.045504\n",
       "Fat_g            0.045257\n",
       "VitB6_mg         0.024761\n",
       "Carb_g           0.022164\n",
       "Protein_g        0.006391\n",
       "Selenium_mcg    -0.021890\n",
       "Thiamin_mg      -0.071578\n",
       "Zinc_mg         -0.105967\n",
       "Copper_mcg      -0.119140\n",
       "VitE_mg         -0.125353\n",
       "Folate_mcg      -0.130867\n",
       "Iron_mg         -0.133098\n",
       "Manganese_mg    -0.136504\n",
       "Magnesium_mg    -0.269770\n",
       "Fiber_g         -0.414826\n",
       "dtype: float64"
      ]
     },
     "execution_count": 88,
     "metadata": {},
     "output_type": "execute_result"
    }
   ],
   "source": [
    "seventh = pd.Series(vects[6], index=nutrients.columns)\n",
    "seventh.sort_values(ascending=False)"
   ]
  },
  {
   "cell_type": "markdown",
   "id": "4bce3453",
   "metadata": {},
   "source": [
    "Seventh component is rich in Calcium_mg, VitC_mg and Phosphorus_mg\n"
   ]
  },
  {
   "cell_type": "code",
   "execution_count": 89,
   "id": "b99bfc07",
   "metadata": {},
   "outputs": [
    {
     "data": {
      "text/plain": [
       "VitC_mg          0.516205\n",
       "Selenium_mcg     0.410384\n",
       "Magnesium_mg     0.191267\n",
       "Copper_mcg       0.188080\n",
       "Fiber_g          0.187635\n",
       "Carb_g           0.155243\n",
       "Sugar_g          0.143390\n",
       "Protein_g        0.116465\n",
       "VitB6_mg         0.083375\n",
       "Energy_kcal      0.074468\n",
       "Zinc_mg          0.033880\n",
       "Niacin_mg        0.010169\n",
       "VitB12_mcg       0.004602\n",
       "Riboflavin_mg   -0.045386\n",
       "VitA_mcg        -0.046183\n",
       "Fat_g           -0.049695\n",
       "Iron_mg         -0.107183\n",
       "VitE_mg         -0.148417\n",
       "Folate_mcg      -0.162065\n",
       "Phosphorus_mg   -0.170066\n",
       "Thiamin_mg      -0.189999\n",
       "Manganese_mg    -0.345991\n",
       "Calcium_mg      -0.367130\n",
       "dtype: float64"
      ]
     },
     "execution_count": 89,
     "metadata": {},
     "output_type": "execute_result"
    }
   ],
   "source": [
    "eighth = pd.Series(vects[7], index=nutrients.columns)\n",
    "eighth.sort_values(ascending=False)\n"
   ]
  },
  {
   "cell_type": "markdown",
   "id": "51e673f5",
   "metadata": {},
   "source": [
    "Eighth component is rich in VitC_mg, Selenium_mcg and Magnesium_mg\n"
   ]
  },
  {
   "cell_type": "code",
   "execution_count": 90,
   "id": "f94b1780",
   "metadata": {},
   "outputs": [
    {
     "data": {
      "text/plain": [
       "Manganese_mg     0.757039\n",
       "Selenium_mcg     0.358474\n",
       "Sugar_g          0.150959\n",
       "Protein_g        0.148716\n",
       "Niacin_mg        0.120391\n",
       "Carb_g           0.118090\n",
       "VitC_mg          0.085965\n",
       "Energy_kcal      0.041646\n",
       "Magnesium_mg     0.031072\n",
       "Thiamin_mg       0.027402\n",
       "VitB6_mg         0.023147\n",
       "Phosphorus_mg   -0.012285\n",
       "VitA_mcg        -0.021915\n",
       "Riboflavin_mg   -0.045971\n",
       "VitE_mg         -0.061635\n",
       "Folate_mcg      -0.063954\n",
       "Fiber_g         -0.066009\n",
       "Fat_g           -0.091781\n",
       "Iron_mg         -0.108195\n",
       "Zinc_mg         -0.109019\n",
       "VitB12_mcg      -0.132002\n",
       "Calcium_mg      -0.136126\n",
       "Copper_mcg      -0.361534\n",
       "dtype: float64"
      ]
     },
     "execution_count": 90,
     "metadata": {},
     "output_type": "execute_result"
    }
   ],
   "source": [
    "ninth = pd.Series(vects[8], index=nutrients.columns)\n",
    "ninth.sort_values(ascending=False)"
   ]
  },
  {
   "cell_type": "markdown",
   "id": "5ce9f5a8",
   "metadata": {},
   "source": [
    "Ninth component is rich in Manganese_mg, Selenium_mcg and Sugar_g\n"
   ]
  },
  {
   "cell_type": "code",
   "execution_count": 91,
   "id": "25f1f220",
   "metadata": {},
   "outputs": [
    {
     "data": {
      "text/plain": [
       "Thiamin_mg       0.438476\n",
       "Fat_g            0.200685\n",
       "Riboflavin_mg    0.195187\n",
       "VitC_mg          0.155517\n",
       "Energy_kcal      0.141097\n",
       "VitA_mcg         0.118091\n",
       "Magnesium_mg     0.110719\n",
       "Niacin_mg        0.088143\n",
       "Fiber_g          0.086540\n",
       "Phosphorus_mg    0.061666\n",
       "Copper_mcg       0.047047\n",
       "Protein_g        0.018369\n",
       "Folate_mcg       0.017557\n",
       "Manganese_mg    -0.018185\n",
       "Carb_g          -0.043963\n",
       "Selenium_mcg    -0.075568\n",
       "Calcium_mg      -0.080259\n",
       "Iron_mg         -0.083180\n",
       "VitB12_mcg      -0.133194\n",
       "VitB6_mg        -0.198043\n",
       "Sugar_g         -0.388029\n",
       "VitE_mg         -0.424214\n",
       "Zinc_mg         -0.477837\n",
       "dtype: float64"
      ]
     },
     "execution_count": 91,
     "metadata": {},
     "output_type": "execute_result"
    }
   ],
   "source": [
    "tenth = pd.Series(vects[9], index=nutrients.columns)\n",
    "tenth.sort_values(ascending=False)"
   ]
  },
  {
   "cell_type": "markdown",
   "id": "91950d17",
   "metadata": {},
   "source": [
    "Tenth component is rich in Thiamin_mg, Fat_g and Riboflavin_mg\n"
   ]
  },
  {
   "cell_type": "markdown",
   "id": "e279325d",
   "metadata": {},
   "source": [
    "Inference:\n",
    "Now instead of going through all the features in the dataset. Nutritionist from the Department of Agriculture\n",
    "can go through these five components and create a new nutrition plan for Americans"
   ]
  },
  {
   "cell_type": "code",
   "execution_count": null,
   "id": "2807bfa1",
   "metadata": {},
   "outputs": [],
   "source": []
  }
 ],
 "metadata": {
  "kernelspec": {
   "display_name": "Python 3 (ipykernel)",
   "language": "python",
   "name": "python3"
  },
  "language_info": {
   "codemirror_mode": {
    "name": "ipython",
    "version": 3
   },
   "file_extension": ".py",
   "mimetype": "text/x-python",
   "name": "python",
   "nbconvert_exporter": "python",
   "pygments_lexer": "ipython3",
   "version": "3.9.12"
  }
 },
 "nbformat": 4,
 "nbformat_minor": 5
}
