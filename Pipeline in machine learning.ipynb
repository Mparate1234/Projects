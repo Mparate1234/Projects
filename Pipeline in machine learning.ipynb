{
 "cells": [
  {
   "cell_type": "markdown",
   "id": "9349dd19",
   "metadata": {},
   "source": [
    "# Example - 1"
   ]
  },
  {
   "cell_type": "code",
   "execution_count": 3,
   "id": "91f0c085",
   "metadata": {},
   "outputs": [],
   "source": [
    "from sklearn.pipeline import Pipeline\n",
    "# feature scaling\n",
    "from sklearn.preprocessing import StandardScaler\n",
    "from sklearn.linear_model import LogisticRegression"
   ]
  },
  {
   "cell_type": "code",
   "execution_count": 5,
   "id": "33871947",
   "metadata": {},
   "outputs": [],
   "source": [
    "steps=[(\"standardscaler\",StandardScaler()),\n",
    "       (\"classifier\",LogisticRegression())]"
   ]
  },
  {
   "cell_type": "code",
   "execution_count": 6,
   "id": "bd5a2bd9",
   "metadata": {},
   "outputs": [
    {
     "data": {
      "text/plain": [
       "[('standardscaler', StandardScaler()), ('classifier', LogisticRegression())]"
      ]
     },
     "execution_count": 6,
     "metadata": {},
     "output_type": "execute_result"
    }
   ],
   "source": [
    "steps"
   ]
  },
  {
   "cell_type": "code",
   "execution_count": 8,
   "id": "d1799429",
   "metadata": {},
   "outputs": [],
   "source": [
    "pipe=Pipeline(steps)"
   ]
  },
  {
   "cell_type": "code",
   "execution_count": 9,
   "id": "3a553f0b",
   "metadata": {},
   "outputs": [],
   "source": [
    "# visualize pipeline \n",
    "from sklearn import set_config"
   ]
  },
  {
   "cell_type": "code",
   "execution_count": 10,
   "id": "16c26b39",
   "metadata": {},
   "outputs": [],
   "source": [
    "set_config(display=\"diagram\")"
   ]
  },
  {
   "cell_type": "code",
   "execution_count": 11,
   "id": "1ea482be",
   "metadata": {},
   "outputs": [
    {
     "data": {
      "text/html": [
       "<style>#sk-ecde7528-6d99-4770-88d5-0fd14dc71ffe {color: black;background-color: white;}#sk-ecde7528-6d99-4770-88d5-0fd14dc71ffe pre{padding: 0;}#sk-ecde7528-6d99-4770-88d5-0fd14dc71ffe div.sk-toggleable {background-color: white;}#sk-ecde7528-6d99-4770-88d5-0fd14dc71ffe label.sk-toggleable__label {cursor: pointer;display: block;width: 100%;margin-bottom: 0;padding: 0.3em;box-sizing: border-box;text-align: center;}#sk-ecde7528-6d99-4770-88d5-0fd14dc71ffe label.sk-toggleable__label-arrow:before {content: \"▸\";float: left;margin-right: 0.25em;color: #696969;}#sk-ecde7528-6d99-4770-88d5-0fd14dc71ffe label.sk-toggleable__label-arrow:hover:before {color: black;}#sk-ecde7528-6d99-4770-88d5-0fd14dc71ffe div.sk-estimator:hover label.sk-toggleable__label-arrow:before {color: black;}#sk-ecde7528-6d99-4770-88d5-0fd14dc71ffe div.sk-toggleable__content {max-height: 0;max-width: 0;overflow: hidden;text-align: left;background-color: #f0f8ff;}#sk-ecde7528-6d99-4770-88d5-0fd14dc71ffe div.sk-toggleable__content pre {margin: 0.2em;color: black;border-radius: 0.25em;background-color: #f0f8ff;}#sk-ecde7528-6d99-4770-88d5-0fd14dc71ffe input.sk-toggleable__control:checked~div.sk-toggleable__content {max-height: 200px;max-width: 100%;overflow: auto;}#sk-ecde7528-6d99-4770-88d5-0fd14dc71ffe input.sk-toggleable__control:checked~label.sk-toggleable__label-arrow:before {content: \"▾\";}#sk-ecde7528-6d99-4770-88d5-0fd14dc71ffe div.sk-estimator input.sk-toggleable__control:checked~label.sk-toggleable__label {background-color: #d4ebff;}#sk-ecde7528-6d99-4770-88d5-0fd14dc71ffe div.sk-label input.sk-toggleable__control:checked~label.sk-toggleable__label {background-color: #d4ebff;}#sk-ecde7528-6d99-4770-88d5-0fd14dc71ffe input.sk-hidden--visually {border: 0;clip: rect(1px 1px 1px 1px);clip: rect(1px, 1px, 1px, 1px);height: 1px;margin: -1px;overflow: hidden;padding: 0;position: absolute;width: 1px;}#sk-ecde7528-6d99-4770-88d5-0fd14dc71ffe div.sk-estimator {font-family: monospace;background-color: #f0f8ff;border: 1px dotted black;border-radius: 0.25em;box-sizing: border-box;margin-bottom: 0.5em;}#sk-ecde7528-6d99-4770-88d5-0fd14dc71ffe div.sk-estimator:hover {background-color: #d4ebff;}#sk-ecde7528-6d99-4770-88d5-0fd14dc71ffe div.sk-parallel-item::after {content: \"\";width: 100%;border-bottom: 1px solid gray;flex-grow: 1;}#sk-ecde7528-6d99-4770-88d5-0fd14dc71ffe div.sk-label:hover label.sk-toggleable__label {background-color: #d4ebff;}#sk-ecde7528-6d99-4770-88d5-0fd14dc71ffe div.sk-serial::before {content: \"\";position: absolute;border-left: 1px solid gray;box-sizing: border-box;top: 2em;bottom: 0;left: 50%;}#sk-ecde7528-6d99-4770-88d5-0fd14dc71ffe div.sk-serial {display: flex;flex-direction: column;align-items: center;background-color: white;padding-right: 0.2em;padding-left: 0.2em;}#sk-ecde7528-6d99-4770-88d5-0fd14dc71ffe div.sk-item {z-index: 1;}#sk-ecde7528-6d99-4770-88d5-0fd14dc71ffe div.sk-parallel {display: flex;align-items: stretch;justify-content: center;background-color: white;}#sk-ecde7528-6d99-4770-88d5-0fd14dc71ffe div.sk-parallel::before {content: \"\";position: absolute;border-left: 1px solid gray;box-sizing: border-box;top: 2em;bottom: 0;left: 50%;}#sk-ecde7528-6d99-4770-88d5-0fd14dc71ffe div.sk-parallel-item {display: flex;flex-direction: column;position: relative;background-color: white;}#sk-ecde7528-6d99-4770-88d5-0fd14dc71ffe div.sk-parallel-item:first-child::after {align-self: flex-end;width: 50%;}#sk-ecde7528-6d99-4770-88d5-0fd14dc71ffe div.sk-parallel-item:last-child::after {align-self: flex-start;width: 50%;}#sk-ecde7528-6d99-4770-88d5-0fd14dc71ffe div.sk-parallel-item:only-child::after {width: 0;}#sk-ecde7528-6d99-4770-88d5-0fd14dc71ffe div.sk-dashed-wrapped {border: 1px dashed gray;margin: 0 0.4em 0.5em 0.4em;box-sizing: border-box;padding-bottom: 0.4em;background-color: white;position: relative;}#sk-ecde7528-6d99-4770-88d5-0fd14dc71ffe div.sk-label label {font-family: monospace;font-weight: bold;background-color: white;display: inline-block;line-height: 1.2em;}#sk-ecde7528-6d99-4770-88d5-0fd14dc71ffe div.sk-label-container {position: relative;z-index: 2;text-align: center;}#sk-ecde7528-6d99-4770-88d5-0fd14dc71ffe div.sk-container {/* jupyter's `normalize.less` sets `[hidden] { display: none; }` but bootstrap.min.css set `[hidden] { display: none !important; }` so we also need the `!important` here to be able to override the default hidden behavior on the sphinx rendered scikit-learn.org. See: https://github.com/scikit-learn/scikit-learn/issues/21755 */display: inline-block !important;position: relative;}#sk-ecde7528-6d99-4770-88d5-0fd14dc71ffe div.sk-text-repr-fallback {display: none;}</style><div id=\"sk-ecde7528-6d99-4770-88d5-0fd14dc71ffe\" class=\"sk-top-container\"><div class=\"sk-text-repr-fallback\"><pre>Pipeline(steps=[(&#x27;standardscaler&#x27;, StandardScaler()),\n",
       "                (&#x27;classifier&#x27;, LogisticRegression())])</pre><b>Please rerun this cell to show the HTML repr or trust the notebook.</b></div><div class=\"sk-container\" hidden><div class=\"sk-item sk-dashed-wrapped\"><div class=\"sk-label-container\"><div class=\"sk-label sk-toggleable\"><input class=\"sk-toggleable__control sk-hidden--visually\" id=\"1838b043-f78c-4efc-906f-d1fb437b9758\" type=\"checkbox\" ><label for=\"1838b043-f78c-4efc-906f-d1fb437b9758\" class=\"sk-toggleable__label sk-toggleable__label-arrow\">Pipeline</label><div class=\"sk-toggleable__content\"><pre>Pipeline(steps=[(&#x27;standardscaler&#x27;, StandardScaler()),\n",
       "                (&#x27;classifier&#x27;, LogisticRegression())])</pre></div></div></div><div class=\"sk-serial\"><div class=\"sk-item\"><div class=\"sk-estimator sk-toggleable\"><input class=\"sk-toggleable__control sk-hidden--visually\" id=\"fb8bc268-ec8d-42d1-bc15-f7d60109b232\" type=\"checkbox\" ><label for=\"fb8bc268-ec8d-42d1-bc15-f7d60109b232\" class=\"sk-toggleable__label sk-toggleable__label-arrow\">StandardScaler</label><div class=\"sk-toggleable__content\"><pre>StandardScaler()</pre></div></div></div><div class=\"sk-item\"><div class=\"sk-estimator sk-toggleable\"><input class=\"sk-toggleable__control sk-hidden--visually\" id=\"1b54ae9c-2e7d-4b18-8f70-71c1716436ac\" type=\"checkbox\" ><label for=\"1b54ae9c-2e7d-4b18-8f70-71c1716436ac\" class=\"sk-toggleable__label sk-toggleable__label-arrow\">LogisticRegression</label><div class=\"sk-toggleable__content\"><pre>LogisticRegression()</pre></div></div></div></div></div></div></div>"
      ],
      "text/plain": [
       "Pipeline(steps=[('standardscaler', StandardScaler()),\n",
       "                ('classifier', LogisticRegression())])"
      ]
     },
     "execution_count": 11,
     "metadata": {},
     "output_type": "execute_result"
    }
   ],
   "source": [
    "pipe"
   ]
  },
  {
   "cell_type": "code",
   "execution_count": 16,
   "id": "4e02e040",
   "metadata": {},
   "outputs": [],
   "source": [
    "## create a dataset\n",
    "from sklearn.datasets import make_classification\n",
    "x,y  = make_classification(n_samples=1000)"
   ]
  },
  {
   "cell_type": "code",
   "execution_count": 17,
   "id": "784f3e2d",
   "metadata": {},
   "outputs": [
    {
     "data": {
      "text/plain": [
       "(1000, 20)"
      ]
     },
     "execution_count": 17,
     "metadata": {},
     "output_type": "execute_result"
    }
   ],
   "source": [
    "x.shape"
   ]
  },
  {
   "cell_type": "code",
   "execution_count": 18,
   "id": "27ca289c",
   "metadata": {},
   "outputs": [],
   "source": [
    "from sklearn.model_selection import train_test_split"
   ]
  },
  {
   "cell_type": "code",
   "execution_count": 19,
   "id": "7d0f39e4",
   "metadata": {},
   "outputs": [],
   "source": [
    "x_train,x_test,y_train,y_test=train_test_split(x,y,random_state=42,test_size=0.33)"
   ]
  },
  {
   "cell_type": "code",
   "execution_count": 21,
   "id": "985b9911",
   "metadata": {},
   "outputs": [
    {
     "data": {
      "text/html": [
       "<style>#sk-59df9ee1-7a38-406f-829f-dd8ceac87f41 {color: black;background-color: white;}#sk-59df9ee1-7a38-406f-829f-dd8ceac87f41 pre{padding: 0;}#sk-59df9ee1-7a38-406f-829f-dd8ceac87f41 div.sk-toggleable {background-color: white;}#sk-59df9ee1-7a38-406f-829f-dd8ceac87f41 label.sk-toggleable__label {cursor: pointer;display: block;width: 100%;margin-bottom: 0;padding: 0.3em;box-sizing: border-box;text-align: center;}#sk-59df9ee1-7a38-406f-829f-dd8ceac87f41 label.sk-toggleable__label-arrow:before {content: \"▸\";float: left;margin-right: 0.25em;color: #696969;}#sk-59df9ee1-7a38-406f-829f-dd8ceac87f41 label.sk-toggleable__label-arrow:hover:before {color: black;}#sk-59df9ee1-7a38-406f-829f-dd8ceac87f41 div.sk-estimator:hover label.sk-toggleable__label-arrow:before {color: black;}#sk-59df9ee1-7a38-406f-829f-dd8ceac87f41 div.sk-toggleable__content {max-height: 0;max-width: 0;overflow: hidden;text-align: left;background-color: #f0f8ff;}#sk-59df9ee1-7a38-406f-829f-dd8ceac87f41 div.sk-toggleable__content pre {margin: 0.2em;color: black;border-radius: 0.25em;background-color: #f0f8ff;}#sk-59df9ee1-7a38-406f-829f-dd8ceac87f41 input.sk-toggleable__control:checked~div.sk-toggleable__content {max-height: 200px;max-width: 100%;overflow: auto;}#sk-59df9ee1-7a38-406f-829f-dd8ceac87f41 input.sk-toggleable__control:checked~label.sk-toggleable__label-arrow:before {content: \"▾\";}#sk-59df9ee1-7a38-406f-829f-dd8ceac87f41 div.sk-estimator input.sk-toggleable__control:checked~label.sk-toggleable__label {background-color: #d4ebff;}#sk-59df9ee1-7a38-406f-829f-dd8ceac87f41 div.sk-label input.sk-toggleable__control:checked~label.sk-toggleable__label {background-color: #d4ebff;}#sk-59df9ee1-7a38-406f-829f-dd8ceac87f41 input.sk-hidden--visually {border: 0;clip: rect(1px 1px 1px 1px);clip: rect(1px, 1px, 1px, 1px);height: 1px;margin: -1px;overflow: hidden;padding: 0;position: absolute;width: 1px;}#sk-59df9ee1-7a38-406f-829f-dd8ceac87f41 div.sk-estimator {font-family: monospace;background-color: #f0f8ff;border: 1px dotted black;border-radius: 0.25em;box-sizing: border-box;margin-bottom: 0.5em;}#sk-59df9ee1-7a38-406f-829f-dd8ceac87f41 div.sk-estimator:hover {background-color: #d4ebff;}#sk-59df9ee1-7a38-406f-829f-dd8ceac87f41 div.sk-parallel-item::after {content: \"\";width: 100%;border-bottom: 1px solid gray;flex-grow: 1;}#sk-59df9ee1-7a38-406f-829f-dd8ceac87f41 div.sk-label:hover label.sk-toggleable__label {background-color: #d4ebff;}#sk-59df9ee1-7a38-406f-829f-dd8ceac87f41 div.sk-serial::before {content: \"\";position: absolute;border-left: 1px solid gray;box-sizing: border-box;top: 2em;bottom: 0;left: 50%;}#sk-59df9ee1-7a38-406f-829f-dd8ceac87f41 div.sk-serial {display: flex;flex-direction: column;align-items: center;background-color: white;padding-right: 0.2em;padding-left: 0.2em;}#sk-59df9ee1-7a38-406f-829f-dd8ceac87f41 div.sk-item {z-index: 1;}#sk-59df9ee1-7a38-406f-829f-dd8ceac87f41 div.sk-parallel {display: flex;align-items: stretch;justify-content: center;background-color: white;}#sk-59df9ee1-7a38-406f-829f-dd8ceac87f41 div.sk-parallel::before {content: \"\";position: absolute;border-left: 1px solid gray;box-sizing: border-box;top: 2em;bottom: 0;left: 50%;}#sk-59df9ee1-7a38-406f-829f-dd8ceac87f41 div.sk-parallel-item {display: flex;flex-direction: column;position: relative;background-color: white;}#sk-59df9ee1-7a38-406f-829f-dd8ceac87f41 div.sk-parallel-item:first-child::after {align-self: flex-end;width: 50%;}#sk-59df9ee1-7a38-406f-829f-dd8ceac87f41 div.sk-parallel-item:last-child::after {align-self: flex-start;width: 50%;}#sk-59df9ee1-7a38-406f-829f-dd8ceac87f41 div.sk-parallel-item:only-child::after {width: 0;}#sk-59df9ee1-7a38-406f-829f-dd8ceac87f41 div.sk-dashed-wrapped {border: 1px dashed gray;margin: 0 0.4em 0.5em 0.4em;box-sizing: border-box;padding-bottom: 0.4em;background-color: white;position: relative;}#sk-59df9ee1-7a38-406f-829f-dd8ceac87f41 div.sk-label label {font-family: monospace;font-weight: bold;background-color: white;display: inline-block;line-height: 1.2em;}#sk-59df9ee1-7a38-406f-829f-dd8ceac87f41 div.sk-label-container {position: relative;z-index: 2;text-align: center;}#sk-59df9ee1-7a38-406f-829f-dd8ceac87f41 div.sk-container {/* jupyter's `normalize.less` sets `[hidden] { display: none; }` but bootstrap.min.css set `[hidden] { display: none !important; }` so we also need the `!important` here to be able to override the default hidden behavior on the sphinx rendered scikit-learn.org. See: https://github.com/scikit-learn/scikit-learn/issues/21755 */display: inline-block !important;position: relative;}#sk-59df9ee1-7a38-406f-829f-dd8ceac87f41 div.sk-text-repr-fallback {display: none;}</style><div id=\"sk-59df9ee1-7a38-406f-829f-dd8ceac87f41\" class=\"sk-top-container\"><div class=\"sk-text-repr-fallback\"><pre>Pipeline(steps=[(&#x27;standardscaler&#x27;, StandardScaler()),\n",
       "                (&#x27;classifier&#x27;, LogisticRegression())])</pre><b>Please rerun this cell to show the HTML repr or trust the notebook.</b></div><div class=\"sk-container\" hidden><div class=\"sk-item sk-dashed-wrapped\"><div class=\"sk-label-container\"><div class=\"sk-label sk-toggleable\"><input class=\"sk-toggleable__control sk-hidden--visually\" id=\"71282f15-008f-4807-8e5f-0a8f3f2afc77\" type=\"checkbox\" ><label for=\"71282f15-008f-4807-8e5f-0a8f3f2afc77\" class=\"sk-toggleable__label sk-toggleable__label-arrow\">Pipeline</label><div class=\"sk-toggleable__content\"><pre>Pipeline(steps=[(&#x27;standardscaler&#x27;, StandardScaler()),\n",
       "                (&#x27;classifier&#x27;, LogisticRegression())])</pre></div></div></div><div class=\"sk-serial\"><div class=\"sk-item\"><div class=\"sk-estimator sk-toggleable\"><input class=\"sk-toggleable__control sk-hidden--visually\" id=\"3ec45e2d-5b1b-4da8-b53b-9a6e6746ce76\" type=\"checkbox\" ><label for=\"3ec45e2d-5b1b-4da8-b53b-9a6e6746ce76\" class=\"sk-toggleable__label sk-toggleable__label-arrow\">StandardScaler</label><div class=\"sk-toggleable__content\"><pre>StandardScaler()</pre></div></div></div><div class=\"sk-item\"><div class=\"sk-estimator sk-toggleable\"><input class=\"sk-toggleable__control sk-hidden--visually\" id=\"241f015a-960e-46f7-a418-8b1d25b5a2c4\" type=\"checkbox\" ><label for=\"241f015a-960e-46f7-a418-8b1d25b5a2c4\" class=\"sk-toggleable__label sk-toggleable__label-arrow\">LogisticRegression</label><div class=\"sk-toggleable__content\"><pre>LogisticRegression()</pre></div></div></div></div></div></div></div>"
      ],
      "text/plain": [
       "Pipeline(steps=[('standardscaler', StandardScaler()),\n",
       "                ('classifier', LogisticRegression())])"
      ]
     },
     "execution_count": 21,
     "metadata": {},
     "output_type": "execute_result"
    }
   ],
   "source": [
    "pipe.fit(x_train,y_train)"
   ]
  },
  {
   "cell_type": "code",
   "execution_count": 22,
   "id": "3333ea83",
   "metadata": {},
   "outputs": [],
   "source": [
    "y_pred=pipe.predict(x_test)"
   ]
  },
  {
   "cell_type": "code",
   "execution_count": 24,
   "id": "9cb66894",
   "metadata": {},
   "outputs": [],
   "source": [
    "from sklearn.metrics import accuracy_score"
   ]
  },
  {
   "cell_type": "code",
   "execution_count": 27,
   "id": "bd060363",
   "metadata": {},
   "outputs": [],
   "source": [
    "Accuracy=accuracy_score(y_test,y_pred)"
   ]
  },
  {
   "cell_type": "code",
   "execution_count": 28,
   "id": "cb610a46",
   "metadata": {},
   "outputs": [
    {
     "data": {
      "text/plain": [
       "0.8393939393939394"
      ]
     },
     "execution_count": 28,
     "metadata": {},
     "output_type": "execute_result"
    }
   ],
   "source": [
    "Accuracy"
   ]
  },
  {
   "cell_type": "code",
   "execution_count": null,
   "id": "2894e906",
   "metadata": {},
   "outputs": [],
   "source": []
  },
  {
   "cell_type": "code",
   "execution_count": null,
   "id": "62b7c22f",
   "metadata": {},
   "outputs": [],
   "source": []
  },
  {
   "cell_type": "code",
   "execution_count": null,
   "id": "999ab21d",
   "metadata": {},
   "outputs": [],
   "source": []
  },
  {
   "cell_type": "markdown",
   "id": "81b55f50",
   "metadata": {},
   "source": [
    "# Example - 2"
   ]
  },
  {
   "cell_type": "code",
   "execution_count": 53,
   "id": "f4871db9",
   "metadata": {},
   "outputs": [],
   "source": [
    "from sklearn.pipeline import Pipeline\n",
    "from sklearn.decomposition import PCA\n",
    "from sklearn.svm import SVC\n",
    "from sklearn.preprocessing import StandardScaler\n",
    "from sklearn.model_selection import train_test_split\n",
    "from sklearn.metrics import accuracy_score"
   ]
  },
  {
   "cell_type": "code",
   "execution_count": 30,
   "id": "fd4f5990",
   "metadata": {},
   "outputs": [],
   "source": [
    "from sklearn.datasets import make_classification\n",
    "x,y  = make_classification(n_samples=1000)"
   ]
  },
  {
   "cell_type": "code",
   "execution_count": 31,
   "id": "6b813d31",
   "metadata": {},
   "outputs": [
    {
     "data": {
      "text/plain": [
       "(1000, 20)"
      ]
     },
     "execution_count": 31,
     "metadata": {},
     "output_type": "execute_result"
    }
   ],
   "source": [
    "x.shape"
   ]
  },
  {
   "cell_type": "code",
   "execution_count": 43,
   "id": "7e9f4ab9",
   "metadata": {},
   "outputs": [],
   "source": [
    "x_train,x_test,y_train,y_test=train_test_split(x,y,random_state=42,test_size=0.33)"
   ]
  },
  {
   "cell_type": "code",
   "execution_count": 47,
   "id": "4a801405",
   "metadata": {},
   "outputs": [],
   "source": [
    "steps=[(\"scaling\",StandardScaler()),\n",
    "       (\"PCA\",PCA(n_components=3)),\n",
    "       (\"SVC\",SVC())]"
   ]
  },
  {
   "cell_type": "code",
   "execution_count": 48,
   "id": "23694044",
   "metadata": {},
   "outputs": [],
   "source": [
    "pipe2=Pipeline(steps)"
   ]
  },
  {
   "cell_type": "code",
   "execution_count": 49,
   "id": "05102bc1",
   "metadata": {},
   "outputs": [
    {
     "data": {
      "text/html": [
       "<style>#sk-5eaad80c-219b-4fe9-a9b1-aade6a047676 {color: black;background-color: white;}#sk-5eaad80c-219b-4fe9-a9b1-aade6a047676 pre{padding: 0;}#sk-5eaad80c-219b-4fe9-a9b1-aade6a047676 div.sk-toggleable {background-color: white;}#sk-5eaad80c-219b-4fe9-a9b1-aade6a047676 label.sk-toggleable__label {cursor: pointer;display: block;width: 100%;margin-bottom: 0;padding: 0.3em;box-sizing: border-box;text-align: center;}#sk-5eaad80c-219b-4fe9-a9b1-aade6a047676 label.sk-toggleable__label-arrow:before {content: \"▸\";float: left;margin-right: 0.25em;color: #696969;}#sk-5eaad80c-219b-4fe9-a9b1-aade6a047676 label.sk-toggleable__label-arrow:hover:before {color: black;}#sk-5eaad80c-219b-4fe9-a9b1-aade6a047676 div.sk-estimator:hover label.sk-toggleable__label-arrow:before {color: black;}#sk-5eaad80c-219b-4fe9-a9b1-aade6a047676 div.sk-toggleable__content {max-height: 0;max-width: 0;overflow: hidden;text-align: left;background-color: #f0f8ff;}#sk-5eaad80c-219b-4fe9-a9b1-aade6a047676 div.sk-toggleable__content pre {margin: 0.2em;color: black;border-radius: 0.25em;background-color: #f0f8ff;}#sk-5eaad80c-219b-4fe9-a9b1-aade6a047676 input.sk-toggleable__control:checked~div.sk-toggleable__content {max-height: 200px;max-width: 100%;overflow: auto;}#sk-5eaad80c-219b-4fe9-a9b1-aade6a047676 input.sk-toggleable__control:checked~label.sk-toggleable__label-arrow:before {content: \"▾\";}#sk-5eaad80c-219b-4fe9-a9b1-aade6a047676 div.sk-estimator input.sk-toggleable__control:checked~label.sk-toggleable__label {background-color: #d4ebff;}#sk-5eaad80c-219b-4fe9-a9b1-aade6a047676 div.sk-label input.sk-toggleable__control:checked~label.sk-toggleable__label {background-color: #d4ebff;}#sk-5eaad80c-219b-4fe9-a9b1-aade6a047676 input.sk-hidden--visually {border: 0;clip: rect(1px 1px 1px 1px);clip: rect(1px, 1px, 1px, 1px);height: 1px;margin: -1px;overflow: hidden;padding: 0;position: absolute;width: 1px;}#sk-5eaad80c-219b-4fe9-a9b1-aade6a047676 div.sk-estimator {font-family: monospace;background-color: #f0f8ff;border: 1px dotted black;border-radius: 0.25em;box-sizing: border-box;margin-bottom: 0.5em;}#sk-5eaad80c-219b-4fe9-a9b1-aade6a047676 div.sk-estimator:hover {background-color: #d4ebff;}#sk-5eaad80c-219b-4fe9-a9b1-aade6a047676 div.sk-parallel-item::after {content: \"\";width: 100%;border-bottom: 1px solid gray;flex-grow: 1;}#sk-5eaad80c-219b-4fe9-a9b1-aade6a047676 div.sk-label:hover label.sk-toggleable__label {background-color: #d4ebff;}#sk-5eaad80c-219b-4fe9-a9b1-aade6a047676 div.sk-serial::before {content: \"\";position: absolute;border-left: 1px solid gray;box-sizing: border-box;top: 2em;bottom: 0;left: 50%;}#sk-5eaad80c-219b-4fe9-a9b1-aade6a047676 div.sk-serial {display: flex;flex-direction: column;align-items: center;background-color: white;padding-right: 0.2em;padding-left: 0.2em;}#sk-5eaad80c-219b-4fe9-a9b1-aade6a047676 div.sk-item {z-index: 1;}#sk-5eaad80c-219b-4fe9-a9b1-aade6a047676 div.sk-parallel {display: flex;align-items: stretch;justify-content: center;background-color: white;}#sk-5eaad80c-219b-4fe9-a9b1-aade6a047676 div.sk-parallel::before {content: \"\";position: absolute;border-left: 1px solid gray;box-sizing: border-box;top: 2em;bottom: 0;left: 50%;}#sk-5eaad80c-219b-4fe9-a9b1-aade6a047676 div.sk-parallel-item {display: flex;flex-direction: column;position: relative;background-color: white;}#sk-5eaad80c-219b-4fe9-a9b1-aade6a047676 div.sk-parallel-item:first-child::after {align-self: flex-end;width: 50%;}#sk-5eaad80c-219b-4fe9-a9b1-aade6a047676 div.sk-parallel-item:last-child::after {align-self: flex-start;width: 50%;}#sk-5eaad80c-219b-4fe9-a9b1-aade6a047676 div.sk-parallel-item:only-child::after {width: 0;}#sk-5eaad80c-219b-4fe9-a9b1-aade6a047676 div.sk-dashed-wrapped {border: 1px dashed gray;margin: 0 0.4em 0.5em 0.4em;box-sizing: border-box;padding-bottom: 0.4em;background-color: white;position: relative;}#sk-5eaad80c-219b-4fe9-a9b1-aade6a047676 div.sk-label label {font-family: monospace;font-weight: bold;background-color: white;display: inline-block;line-height: 1.2em;}#sk-5eaad80c-219b-4fe9-a9b1-aade6a047676 div.sk-label-container {position: relative;z-index: 2;text-align: center;}#sk-5eaad80c-219b-4fe9-a9b1-aade6a047676 div.sk-container {/* jupyter's `normalize.less` sets `[hidden] { display: none; }` but bootstrap.min.css set `[hidden] { display: none !important; }` so we also need the `!important` here to be able to override the default hidden behavior on the sphinx rendered scikit-learn.org. See: https://github.com/scikit-learn/scikit-learn/issues/21755 */display: inline-block !important;position: relative;}#sk-5eaad80c-219b-4fe9-a9b1-aade6a047676 div.sk-text-repr-fallback {display: none;}</style><div id=\"sk-5eaad80c-219b-4fe9-a9b1-aade6a047676\" class=\"sk-top-container\"><div class=\"sk-text-repr-fallback\"><pre>Pipeline(steps=[(&#x27;scaling&#x27;, StandardScaler()), (&#x27;PCA&#x27;, PCA(n_components=3)),\n",
       "                (&#x27;SVC&#x27;, SVC())])</pre><b>Please rerun this cell to show the HTML repr or trust the notebook.</b></div><div class=\"sk-container\" hidden><div class=\"sk-item sk-dashed-wrapped\"><div class=\"sk-label-container\"><div class=\"sk-label sk-toggleable\"><input class=\"sk-toggleable__control sk-hidden--visually\" id=\"74f0d235-fca9-422a-ba7c-4ab1b0e03042\" type=\"checkbox\" ><label for=\"74f0d235-fca9-422a-ba7c-4ab1b0e03042\" class=\"sk-toggleable__label sk-toggleable__label-arrow\">Pipeline</label><div class=\"sk-toggleable__content\"><pre>Pipeline(steps=[(&#x27;scaling&#x27;, StandardScaler()), (&#x27;PCA&#x27;, PCA(n_components=3)),\n",
       "                (&#x27;SVC&#x27;, SVC())])</pre></div></div></div><div class=\"sk-serial\"><div class=\"sk-item\"><div class=\"sk-estimator sk-toggleable\"><input class=\"sk-toggleable__control sk-hidden--visually\" id=\"a40d7003-39d8-4f70-ba2d-67eded607825\" type=\"checkbox\" ><label for=\"a40d7003-39d8-4f70-ba2d-67eded607825\" class=\"sk-toggleable__label sk-toggleable__label-arrow\">StandardScaler</label><div class=\"sk-toggleable__content\"><pre>StandardScaler()</pre></div></div></div><div class=\"sk-item\"><div class=\"sk-estimator sk-toggleable\"><input class=\"sk-toggleable__control sk-hidden--visually\" id=\"2a299fba-45a2-4015-bcb9-c58e3635e11b\" type=\"checkbox\" ><label for=\"2a299fba-45a2-4015-bcb9-c58e3635e11b\" class=\"sk-toggleable__label sk-toggleable__label-arrow\">PCA</label><div class=\"sk-toggleable__content\"><pre>PCA(n_components=3)</pre></div></div></div><div class=\"sk-item\"><div class=\"sk-estimator sk-toggleable\"><input class=\"sk-toggleable__control sk-hidden--visually\" id=\"6f27fcd9-2b24-435f-81b1-cfa213616d37\" type=\"checkbox\" ><label for=\"6f27fcd9-2b24-435f-81b1-cfa213616d37\" class=\"sk-toggleable__label sk-toggleable__label-arrow\">SVC</label><div class=\"sk-toggleable__content\"><pre>SVC()</pre></div></div></div></div></div></div></div>"
      ],
      "text/plain": [
       "Pipeline(steps=[('scaling', StandardScaler()), ('PCA', PCA(n_components=3)),\n",
       "                ('SVC', SVC())])"
      ]
     },
     "execution_count": 49,
     "metadata": {},
     "output_type": "execute_result"
    }
   ],
   "source": [
    "pipe2"
   ]
  },
  {
   "cell_type": "code",
   "execution_count": 50,
   "id": "bccab74d",
   "metadata": {},
   "outputs": [
    {
     "data": {
      "text/plain": [
       "array([[ 0.72290937,  0.97074155, -0.00533886, ..., -0.99447077,\n",
       "        -1.37679551, -0.36539311],\n",
       "       [-2.31559462, -0.50667867,  0.17928194, ..., -0.35498375,\n",
       "        -0.80093679, -0.92124292],\n",
       "       [-1.59575024,  0.68517273,  0.05343255, ..., -1.37853445,\n",
       "        -1.027193  ,  2.18457331],\n",
       "       ...,\n",
       "       [-1.62146695,  0.4942925 , -1.12491813, ..., -0.04087034,\n",
       "         1.00916978,  1.23487335],\n",
       "       [ 0.23481529, -0.58708244,  0.6413339 , ..., -0.16516868,\n",
       "        -0.51310423, -2.25082531],\n",
       "       [ 1.40501788,  0.38840072,  2.01799943, ..., -0.14724995,\n",
       "        -0.15884085,  1.38283919]])"
      ]
     },
     "execution_count": 50,
     "metadata": {},
     "output_type": "execute_result"
    }
   ],
   "source": [
    "pipe2['scaling'].fit_transform(x_train) # we can only use scaling also from pipeline"
   ]
  },
  {
   "cell_type": "code",
   "execution_count": 51,
   "id": "35d29c83",
   "metadata": {},
   "outputs": [
    {
     "data": {
      "text/html": [
       "<style>#sk-19ad2aa6-66b4-449f-9f2c-5e0b7423da1c {color: black;background-color: white;}#sk-19ad2aa6-66b4-449f-9f2c-5e0b7423da1c pre{padding: 0;}#sk-19ad2aa6-66b4-449f-9f2c-5e0b7423da1c div.sk-toggleable {background-color: white;}#sk-19ad2aa6-66b4-449f-9f2c-5e0b7423da1c label.sk-toggleable__label {cursor: pointer;display: block;width: 100%;margin-bottom: 0;padding: 0.3em;box-sizing: border-box;text-align: center;}#sk-19ad2aa6-66b4-449f-9f2c-5e0b7423da1c label.sk-toggleable__label-arrow:before {content: \"▸\";float: left;margin-right: 0.25em;color: #696969;}#sk-19ad2aa6-66b4-449f-9f2c-5e0b7423da1c label.sk-toggleable__label-arrow:hover:before {color: black;}#sk-19ad2aa6-66b4-449f-9f2c-5e0b7423da1c div.sk-estimator:hover label.sk-toggleable__label-arrow:before {color: black;}#sk-19ad2aa6-66b4-449f-9f2c-5e0b7423da1c div.sk-toggleable__content {max-height: 0;max-width: 0;overflow: hidden;text-align: left;background-color: #f0f8ff;}#sk-19ad2aa6-66b4-449f-9f2c-5e0b7423da1c div.sk-toggleable__content pre {margin: 0.2em;color: black;border-radius: 0.25em;background-color: #f0f8ff;}#sk-19ad2aa6-66b4-449f-9f2c-5e0b7423da1c input.sk-toggleable__control:checked~div.sk-toggleable__content {max-height: 200px;max-width: 100%;overflow: auto;}#sk-19ad2aa6-66b4-449f-9f2c-5e0b7423da1c input.sk-toggleable__control:checked~label.sk-toggleable__label-arrow:before {content: \"▾\";}#sk-19ad2aa6-66b4-449f-9f2c-5e0b7423da1c div.sk-estimator input.sk-toggleable__control:checked~label.sk-toggleable__label {background-color: #d4ebff;}#sk-19ad2aa6-66b4-449f-9f2c-5e0b7423da1c div.sk-label input.sk-toggleable__control:checked~label.sk-toggleable__label {background-color: #d4ebff;}#sk-19ad2aa6-66b4-449f-9f2c-5e0b7423da1c input.sk-hidden--visually {border: 0;clip: rect(1px 1px 1px 1px);clip: rect(1px, 1px, 1px, 1px);height: 1px;margin: -1px;overflow: hidden;padding: 0;position: absolute;width: 1px;}#sk-19ad2aa6-66b4-449f-9f2c-5e0b7423da1c div.sk-estimator {font-family: monospace;background-color: #f0f8ff;border: 1px dotted black;border-radius: 0.25em;box-sizing: border-box;margin-bottom: 0.5em;}#sk-19ad2aa6-66b4-449f-9f2c-5e0b7423da1c div.sk-estimator:hover {background-color: #d4ebff;}#sk-19ad2aa6-66b4-449f-9f2c-5e0b7423da1c div.sk-parallel-item::after {content: \"\";width: 100%;border-bottom: 1px solid gray;flex-grow: 1;}#sk-19ad2aa6-66b4-449f-9f2c-5e0b7423da1c div.sk-label:hover label.sk-toggleable__label {background-color: #d4ebff;}#sk-19ad2aa6-66b4-449f-9f2c-5e0b7423da1c div.sk-serial::before {content: \"\";position: absolute;border-left: 1px solid gray;box-sizing: border-box;top: 2em;bottom: 0;left: 50%;}#sk-19ad2aa6-66b4-449f-9f2c-5e0b7423da1c div.sk-serial {display: flex;flex-direction: column;align-items: center;background-color: white;padding-right: 0.2em;padding-left: 0.2em;}#sk-19ad2aa6-66b4-449f-9f2c-5e0b7423da1c div.sk-item {z-index: 1;}#sk-19ad2aa6-66b4-449f-9f2c-5e0b7423da1c div.sk-parallel {display: flex;align-items: stretch;justify-content: center;background-color: white;}#sk-19ad2aa6-66b4-449f-9f2c-5e0b7423da1c div.sk-parallel::before {content: \"\";position: absolute;border-left: 1px solid gray;box-sizing: border-box;top: 2em;bottom: 0;left: 50%;}#sk-19ad2aa6-66b4-449f-9f2c-5e0b7423da1c div.sk-parallel-item {display: flex;flex-direction: column;position: relative;background-color: white;}#sk-19ad2aa6-66b4-449f-9f2c-5e0b7423da1c div.sk-parallel-item:first-child::after {align-self: flex-end;width: 50%;}#sk-19ad2aa6-66b4-449f-9f2c-5e0b7423da1c div.sk-parallel-item:last-child::after {align-self: flex-start;width: 50%;}#sk-19ad2aa6-66b4-449f-9f2c-5e0b7423da1c div.sk-parallel-item:only-child::after {width: 0;}#sk-19ad2aa6-66b4-449f-9f2c-5e0b7423da1c div.sk-dashed-wrapped {border: 1px dashed gray;margin: 0 0.4em 0.5em 0.4em;box-sizing: border-box;padding-bottom: 0.4em;background-color: white;position: relative;}#sk-19ad2aa6-66b4-449f-9f2c-5e0b7423da1c div.sk-label label {font-family: monospace;font-weight: bold;background-color: white;display: inline-block;line-height: 1.2em;}#sk-19ad2aa6-66b4-449f-9f2c-5e0b7423da1c div.sk-label-container {position: relative;z-index: 2;text-align: center;}#sk-19ad2aa6-66b4-449f-9f2c-5e0b7423da1c div.sk-container {/* jupyter's `normalize.less` sets `[hidden] { display: none; }` but bootstrap.min.css set `[hidden] { display: none !important; }` so we also need the `!important` here to be able to override the default hidden behavior on the sphinx rendered scikit-learn.org. See: https://github.com/scikit-learn/scikit-learn/issues/21755 */display: inline-block !important;position: relative;}#sk-19ad2aa6-66b4-449f-9f2c-5e0b7423da1c div.sk-text-repr-fallback {display: none;}</style><div id=\"sk-19ad2aa6-66b4-449f-9f2c-5e0b7423da1c\" class=\"sk-top-container\"><div class=\"sk-text-repr-fallback\"><pre>Pipeline(steps=[(&#x27;scaling&#x27;, StandardScaler()), (&#x27;PCA&#x27;, PCA(n_components=3)),\n",
       "                (&#x27;SVC&#x27;, SVC())])</pre><b>Please rerun this cell to show the HTML repr or trust the notebook.</b></div><div class=\"sk-container\" hidden><div class=\"sk-item sk-dashed-wrapped\"><div class=\"sk-label-container\"><div class=\"sk-label sk-toggleable\"><input class=\"sk-toggleable__control sk-hidden--visually\" id=\"af6ac777-772f-468c-bb6f-0657061c8344\" type=\"checkbox\" ><label for=\"af6ac777-772f-468c-bb6f-0657061c8344\" class=\"sk-toggleable__label sk-toggleable__label-arrow\">Pipeline</label><div class=\"sk-toggleable__content\"><pre>Pipeline(steps=[(&#x27;scaling&#x27;, StandardScaler()), (&#x27;PCA&#x27;, PCA(n_components=3)),\n",
       "                (&#x27;SVC&#x27;, SVC())])</pre></div></div></div><div class=\"sk-serial\"><div class=\"sk-item\"><div class=\"sk-estimator sk-toggleable\"><input class=\"sk-toggleable__control sk-hidden--visually\" id=\"017bd4aa-3a5d-455c-a528-1fdd041b890d\" type=\"checkbox\" ><label for=\"017bd4aa-3a5d-455c-a528-1fdd041b890d\" class=\"sk-toggleable__label sk-toggleable__label-arrow\">StandardScaler</label><div class=\"sk-toggleable__content\"><pre>StandardScaler()</pre></div></div></div><div class=\"sk-item\"><div class=\"sk-estimator sk-toggleable\"><input class=\"sk-toggleable__control sk-hidden--visually\" id=\"e7595c85-800b-439b-a007-1016469d6a88\" type=\"checkbox\" ><label for=\"e7595c85-800b-439b-a007-1016469d6a88\" class=\"sk-toggleable__label sk-toggleable__label-arrow\">PCA</label><div class=\"sk-toggleable__content\"><pre>PCA(n_components=3)</pre></div></div></div><div class=\"sk-item\"><div class=\"sk-estimator sk-toggleable\"><input class=\"sk-toggleable__control sk-hidden--visually\" id=\"576db62f-7cc5-4dd9-8263-70630b1f2207\" type=\"checkbox\" ><label for=\"576db62f-7cc5-4dd9-8263-70630b1f2207\" class=\"sk-toggleable__label sk-toggleable__label-arrow\">SVC</label><div class=\"sk-toggleable__content\"><pre>SVC()</pre></div></div></div></div></div></div></div>"
      ],
      "text/plain": [
       "Pipeline(steps=[('scaling', StandardScaler()), ('PCA', PCA(n_components=3)),\n",
       "                ('SVC', SVC())])"
      ]
     },
     "execution_count": 51,
     "metadata": {},
     "output_type": "execute_result"
    }
   ],
   "source": [
    "pipe2.fit(x_train,y_train)"
   ]
  },
  {
   "cell_type": "code",
   "execution_count": 52,
   "id": "42510522",
   "metadata": {},
   "outputs": [
    {
     "data": {
      "text/plain": [
       "array([1, 1, 1, 0, 1, 0, 0, 0, 1, 1, 1, 1, 1, 1, 1, 0, 0, 1, 1, 1, 0, 1,\n",
       "       0, 0, 0, 1, 1, 1, 0, 0, 1, 1, 1, 0, 0, 1, 1, 1, 1, 0, 1, 1, 1, 1,\n",
       "       0, 0, 1, 0, 0, 1, 0, 0, 0, 1, 0, 0, 1, 0, 0, 1, 1, 1, 0, 1, 1, 1,\n",
       "       0, 0, 0, 1, 1, 1, 0, 0, 0, 0, 1, 1, 0, 1, 1, 1, 1, 1, 1, 0, 1, 0,\n",
       "       0, 0, 0, 1, 0, 0, 0, 1, 1, 1, 1, 1, 1, 1, 1, 1, 0, 1, 1, 1, 0, 1,\n",
       "       1, 1, 0, 0, 1, 0, 1, 0, 1, 1, 1, 0, 0, 0, 0, 0, 1, 1, 0, 0, 0, 0,\n",
       "       0, 1, 1, 0, 1, 1, 1, 1, 0, 0, 0, 1, 1, 0, 0, 1, 1, 0, 1, 0, 1, 0,\n",
       "       0, 0, 1, 0, 1, 0, 0, 0, 1, 1, 0, 1, 0, 0, 1, 1, 0, 1, 1, 1, 0, 1,\n",
       "       0, 0, 1, 0, 0, 0, 0, 0, 0, 0, 0, 1, 0, 0, 0, 0, 1, 1, 1, 0, 0, 1,\n",
       "       1, 1, 1, 1, 0, 1, 1, 0, 1, 0, 1, 0, 0, 0, 1, 1, 1, 1, 1, 0, 1, 0,\n",
       "       1, 0, 0, 1, 1, 1, 1, 1, 0, 1, 0, 0, 1, 0, 0, 0, 1, 1, 1, 1, 0, 0,\n",
       "       0, 1, 0, 0, 1, 1, 1, 0, 0, 0, 1, 1, 1, 1, 0, 0, 0, 1, 1, 1, 0, 1,\n",
       "       0, 0, 0, 1, 1, 1, 0, 1, 1, 1, 1, 1, 1, 1, 1, 1, 0, 0, 0, 1, 0, 0,\n",
       "       1, 0, 0, 0, 0, 0, 0, 0, 1, 1, 1, 0, 0, 1, 0, 0, 0, 0, 1, 0, 1, 1,\n",
       "       0, 0, 1, 1, 0, 1, 0, 1, 1, 0, 0, 0, 0, 1, 0, 1, 1, 1, 1, 1, 0, 1])"
      ]
     },
     "execution_count": 52,
     "metadata": {},
     "output_type": "execute_result"
    }
   ],
   "source": [
    "pipe2.predict(x_test)"
   ]
  },
  {
   "cell_type": "code",
   "execution_count": null,
   "id": "b16e1245",
   "metadata": {},
   "outputs": [],
   "source": []
  },
  {
   "cell_type": "code",
   "execution_count": null,
   "id": "810e4473",
   "metadata": {},
   "outputs": [],
   "source": []
  },
  {
   "cell_type": "code",
   "execution_count": null,
   "id": "28ee01e0",
   "metadata": {},
   "outputs": [],
   "source": []
  },
  {
   "cell_type": "markdown",
   "id": "653166ce",
   "metadata": {},
   "source": [
    "# complex example of column transform"
   ]
  },
  {
   "cell_type": "code",
   "execution_count": 110,
   "id": "0a37a950",
   "metadata": {},
   "outputs": [],
   "source": [
    "from sklearn.impute import SimpleImputer\n",
    "import numpy as np\n",
    "from sklearn.linear_model import LogisticRegression\n",
    "from sklearn.preprocessing import StandardScaler\n",
    "from sklearn.preprocessing import OneHotEncoder\n",
    "from sklearn.pipeline import Pipeline\n",
    "from sklearn.compose import ColumnTransformer\n",
    "from sklearn.pipeline import make_pipeline"
   ]
  },
  {
   "cell_type": "code",
   "execution_count": 63,
   "id": "4f0fd561",
   "metadata": {},
   "outputs": [],
   "source": [
    "numeric_processor=Pipeline(\n",
    "    steps=[(\"impoutation_mean\",SimpleImputer(missing_values=np.nan,strategy=\"mean\")),\n",
    "           (\"scaler\",StandardScaler())])"
   ]
  },
  {
   "cell_type": "code",
   "execution_count": 65,
   "id": "2bcb1f98",
   "metadata": {},
   "outputs": [
    {
     "data": {
      "text/html": [
       "<style>#sk-a2afb65c-6f88-4b95-a1fc-2a0a8d284db9 {color: black;background-color: white;}#sk-a2afb65c-6f88-4b95-a1fc-2a0a8d284db9 pre{padding: 0;}#sk-a2afb65c-6f88-4b95-a1fc-2a0a8d284db9 div.sk-toggleable {background-color: white;}#sk-a2afb65c-6f88-4b95-a1fc-2a0a8d284db9 label.sk-toggleable__label {cursor: pointer;display: block;width: 100%;margin-bottom: 0;padding: 0.3em;box-sizing: border-box;text-align: center;}#sk-a2afb65c-6f88-4b95-a1fc-2a0a8d284db9 label.sk-toggleable__label-arrow:before {content: \"▸\";float: left;margin-right: 0.25em;color: #696969;}#sk-a2afb65c-6f88-4b95-a1fc-2a0a8d284db9 label.sk-toggleable__label-arrow:hover:before {color: black;}#sk-a2afb65c-6f88-4b95-a1fc-2a0a8d284db9 div.sk-estimator:hover label.sk-toggleable__label-arrow:before {color: black;}#sk-a2afb65c-6f88-4b95-a1fc-2a0a8d284db9 div.sk-toggleable__content {max-height: 0;max-width: 0;overflow: hidden;text-align: left;background-color: #f0f8ff;}#sk-a2afb65c-6f88-4b95-a1fc-2a0a8d284db9 div.sk-toggleable__content pre {margin: 0.2em;color: black;border-radius: 0.25em;background-color: #f0f8ff;}#sk-a2afb65c-6f88-4b95-a1fc-2a0a8d284db9 input.sk-toggleable__control:checked~div.sk-toggleable__content {max-height: 200px;max-width: 100%;overflow: auto;}#sk-a2afb65c-6f88-4b95-a1fc-2a0a8d284db9 input.sk-toggleable__control:checked~label.sk-toggleable__label-arrow:before {content: \"▾\";}#sk-a2afb65c-6f88-4b95-a1fc-2a0a8d284db9 div.sk-estimator input.sk-toggleable__control:checked~label.sk-toggleable__label {background-color: #d4ebff;}#sk-a2afb65c-6f88-4b95-a1fc-2a0a8d284db9 div.sk-label input.sk-toggleable__control:checked~label.sk-toggleable__label {background-color: #d4ebff;}#sk-a2afb65c-6f88-4b95-a1fc-2a0a8d284db9 input.sk-hidden--visually {border: 0;clip: rect(1px 1px 1px 1px);clip: rect(1px, 1px, 1px, 1px);height: 1px;margin: -1px;overflow: hidden;padding: 0;position: absolute;width: 1px;}#sk-a2afb65c-6f88-4b95-a1fc-2a0a8d284db9 div.sk-estimator {font-family: monospace;background-color: #f0f8ff;border: 1px dotted black;border-radius: 0.25em;box-sizing: border-box;margin-bottom: 0.5em;}#sk-a2afb65c-6f88-4b95-a1fc-2a0a8d284db9 div.sk-estimator:hover {background-color: #d4ebff;}#sk-a2afb65c-6f88-4b95-a1fc-2a0a8d284db9 div.sk-parallel-item::after {content: \"\";width: 100%;border-bottom: 1px solid gray;flex-grow: 1;}#sk-a2afb65c-6f88-4b95-a1fc-2a0a8d284db9 div.sk-label:hover label.sk-toggleable__label {background-color: #d4ebff;}#sk-a2afb65c-6f88-4b95-a1fc-2a0a8d284db9 div.sk-serial::before {content: \"\";position: absolute;border-left: 1px solid gray;box-sizing: border-box;top: 2em;bottom: 0;left: 50%;}#sk-a2afb65c-6f88-4b95-a1fc-2a0a8d284db9 div.sk-serial {display: flex;flex-direction: column;align-items: center;background-color: white;padding-right: 0.2em;padding-left: 0.2em;}#sk-a2afb65c-6f88-4b95-a1fc-2a0a8d284db9 div.sk-item {z-index: 1;}#sk-a2afb65c-6f88-4b95-a1fc-2a0a8d284db9 div.sk-parallel {display: flex;align-items: stretch;justify-content: center;background-color: white;}#sk-a2afb65c-6f88-4b95-a1fc-2a0a8d284db9 div.sk-parallel::before {content: \"\";position: absolute;border-left: 1px solid gray;box-sizing: border-box;top: 2em;bottom: 0;left: 50%;}#sk-a2afb65c-6f88-4b95-a1fc-2a0a8d284db9 div.sk-parallel-item {display: flex;flex-direction: column;position: relative;background-color: white;}#sk-a2afb65c-6f88-4b95-a1fc-2a0a8d284db9 div.sk-parallel-item:first-child::after {align-self: flex-end;width: 50%;}#sk-a2afb65c-6f88-4b95-a1fc-2a0a8d284db9 div.sk-parallel-item:last-child::after {align-self: flex-start;width: 50%;}#sk-a2afb65c-6f88-4b95-a1fc-2a0a8d284db9 div.sk-parallel-item:only-child::after {width: 0;}#sk-a2afb65c-6f88-4b95-a1fc-2a0a8d284db9 div.sk-dashed-wrapped {border: 1px dashed gray;margin: 0 0.4em 0.5em 0.4em;box-sizing: border-box;padding-bottom: 0.4em;background-color: white;position: relative;}#sk-a2afb65c-6f88-4b95-a1fc-2a0a8d284db9 div.sk-label label {font-family: monospace;font-weight: bold;background-color: white;display: inline-block;line-height: 1.2em;}#sk-a2afb65c-6f88-4b95-a1fc-2a0a8d284db9 div.sk-label-container {position: relative;z-index: 2;text-align: center;}#sk-a2afb65c-6f88-4b95-a1fc-2a0a8d284db9 div.sk-container {/* jupyter's `normalize.less` sets `[hidden] { display: none; }` but bootstrap.min.css set `[hidden] { display: none !important; }` so we also need the `!important` here to be able to override the default hidden behavior on the sphinx rendered scikit-learn.org. See: https://github.com/scikit-learn/scikit-learn/issues/21755 */display: inline-block !important;position: relative;}#sk-a2afb65c-6f88-4b95-a1fc-2a0a8d284db9 div.sk-text-repr-fallback {display: none;}</style><div id=\"sk-a2afb65c-6f88-4b95-a1fc-2a0a8d284db9\" class=\"sk-top-container\"><div class=\"sk-text-repr-fallback\"><pre>Pipeline(steps=[(&#x27;impoutation_mean&#x27;, SimpleImputer()),\n",
       "                (&#x27;scaler&#x27;, StandardScaler())])</pre><b>Please rerun this cell to show the HTML repr or trust the notebook.</b></div><div class=\"sk-container\" hidden><div class=\"sk-item sk-dashed-wrapped\"><div class=\"sk-label-container\"><div class=\"sk-label sk-toggleable\"><input class=\"sk-toggleable__control sk-hidden--visually\" id=\"81c414db-9ab9-441e-8496-7aa7ac484546\" type=\"checkbox\" ><label for=\"81c414db-9ab9-441e-8496-7aa7ac484546\" class=\"sk-toggleable__label sk-toggleable__label-arrow\">Pipeline</label><div class=\"sk-toggleable__content\"><pre>Pipeline(steps=[(&#x27;impoutation_mean&#x27;, SimpleImputer()),\n",
       "                (&#x27;scaler&#x27;, StandardScaler())])</pre></div></div></div><div class=\"sk-serial\"><div class=\"sk-item\"><div class=\"sk-estimator sk-toggleable\"><input class=\"sk-toggleable__control sk-hidden--visually\" id=\"dc5cb74c-cbad-4cfd-8f60-3055e0d13991\" type=\"checkbox\" ><label for=\"dc5cb74c-cbad-4cfd-8f60-3055e0d13991\" class=\"sk-toggleable__label sk-toggleable__label-arrow\">SimpleImputer</label><div class=\"sk-toggleable__content\"><pre>SimpleImputer()</pre></div></div></div><div class=\"sk-item\"><div class=\"sk-estimator sk-toggleable\"><input class=\"sk-toggleable__control sk-hidden--visually\" id=\"cb56c63d-3d10-4591-ad2a-06651ef8f9f4\" type=\"checkbox\" ><label for=\"cb56c63d-3d10-4591-ad2a-06651ef8f9f4\" class=\"sk-toggleable__label sk-toggleable__label-arrow\">StandardScaler</label><div class=\"sk-toggleable__content\"><pre>StandardScaler()</pre></div></div></div></div></div></div></div>"
      ],
      "text/plain": [
       "Pipeline(steps=[('impoutation_mean', SimpleImputer()),\n",
       "                ('scaler', StandardScaler())])"
      ]
     },
     "execution_count": 65,
     "metadata": {},
     "output_type": "execute_result"
    }
   ],
   "source": [
    "numeric_processor"
   ]
  },
  {
   "cell_type": "code",
   "execution_count": 72,
   "id": "9d6b9e3d",
   "metadata": {},
   "outputs": [],
   "source": [
    "categorical_processor=Pipeline(\n",
    "    steps=[(\"impoutation_mean\",SimpleImputer(fill_value=\"missing\",strategy=\"constant\")),\n",
    "           (\"onehot\",OneHotEncoder(handle_unknown=\"ignore\"))])"
   ]
  },
  {
   "cell_type": "code",
   "execution_count": 73,
   "id": "bb99071a",
   "metadata": {},
   "outputs": [
    {
     "data": {
      "text/html": [
       "<style>#sk-a9284501-b761-4b8a-8118-1673d38b39bb {color: black;background-color: white;}#sk-a9284501-b761-4b8a-8118-1673d38b39bb pre{padding: 0;}#sk-a9284501-b761-4b8a-8118-1673d38b39bb div.sk-toggleable {background-color: white;}#sk-a9284501-b761-4b8a-8118-1673d38b39bb label.sk-toggleable__label {cursor: pointer;display: block;width: 100%;margin-bottom: 0;padding: 0.3em;box-sizing: border-box;text-align: center;}#sk-a9284501-b761-4b8a-8118-1673d38b39bb label.sk-toggleable__label-arrow:before {content: \"▸\";float: left;margin-right: 0.25em;color: #696969;}#sk-a9284501-b761-4b8a-8118-1673d38b39bb label.sk-toggleable__label-arrow:hover:before {color: black;}#sk-a9284501-b761-4b8a-8118-1673d38b39bb div.sk-estimator:hover label.sk-toggleable__label-arrow:before {color: black;}#sk-a9284501-b761-4b8a-8118-1673d38b39bb div.sk-toggleable__content {max-height: 0;max-width: 0;overflow: hidden;text-align: left;background-color: #f0f8ff;}#sk-a9284501-b761-4b8a-8118-1673d38b39bb div.sk-toggleable__content pre {margin: 0.2em;color: black;border-radius: 0.25em;background-color: #f0f8ff;}#sk-a9284501-b761-4b8a-8118-1673d38b39bb input.sk-toggleable__control:checked~div.sk-toggleable__content {max-height: 200px;max-width: 100%;overflow: auto;}#sk-a9284501-b761-4b8a-8118-1673d38b39bb input.sk-toggleable__control:checked~label.sk-toggleable__label-arrow:before {content: \"▾\";}#sk-a9284501-b761-4b8a-8118-1673d38b39bb div.sk-estimator input.sk-toggleable__control:checked~label.sk-toggleable__label {background-color: #d4ebff;}#sk-a9284501-b761-4b8a-8118-1673d38b39bb div.sk-label input.sk-toggleable__control:checked~label.sk-toggleable__label {background-color: #d4ebff;}#sk-a9284501-b761-4b8a-8118-1673d38b39bb input.sk-hidden--visually {border: 0;clip: rect(1px 1px 1px 1px);clip: rect(1px, 1px, 1px, 1px);height: 1px;margin: -1px;overflow: hidden;padding: 0;position: absolute;width: 1px;}#sk-a9284501-b761-4b8a-8118-1673d38b39bb div.sk-estimator {font-family: monospace;background-color: #f0f8ff;border: 1px dotted black;border-radius: 0.25em;box-sizing: border-box;margin-bottom: 0.5em;}#sk-a9284501-b761-4b8a-8118-1673d38b39bb div.sk-estimator:hover {background-color: #d4ebff;}#sk-a9284501-b761-4b8a-8118-1673d38b39bb div.sk-parallel-item::after {content: \"\";width: 100%;border-bottom: 1px solid gray;flex-grow: 1;}#sk-a9284501-b761-4b8a-8118-1673d38b39bb div.sk-label:hover label.sk-toggleable__label {background-color: #d4ebff;}#sk-a9284501-b761-4b8a-8118-1673d38b39bb div.sk-serial::before {content: \"\";position: absolute;border-left: 1px solid gray;box-sizing: border-box;top: 2em;bottom: 0;left: 50%;}#sk-a9284501-b761-4b8a-8118-1673d38b39bb div.sk-serial {display: flex;flex-direction: column;align-items: center;background-color: white;padding-right: 0.2em;padding-left: 0.2em;}#sk-a9284501-b761-4b8a-8118-1673d38b39bb div.sk-item {z-index: 1;}#sk-a9284501-b761-4b8a-8118-1673d38b39bb div.sk-parallel {display: flex;align-items: stretch;justify-content: center;background-color: white;}#sk-a9284501-b761-4b8a-8118-1673d38b39bb div.sk-parallel::before {content: \"\";position: absolute;border-left: 1px solid gray;box-sizing: border-box;top: 2em;bottom: 0;left: 50%;}#sk-a9284501-b761-4b8a-8118-1673d38b39bb div.sk-parallel-item {display: flex;flex-direction: column;position: relative;background-color: white;}#sk-a9284501-b761-4b8a-8118-1673d38b39bb div.sk-parallel-item:first-child::after {align-self: flex-end;width: 50%;}#sk-a9284501-b761-4b8a-8118-1673d38b39bb div.sk-parallel-item:last-child::after {align-self: flex-start;width: 50%;}#sk-a9284501-b761-4b8a-8118-1673d38b39bb div.sk-parallel-item:only-child::after {width: 0;}#sk-a9284501-b761-4b8a-8118-1673d38b39bb div.sk-dashed-wrapped {border: 1px dashed gray;margin: 0 0.4em 0.5em 0.4em;box-sizing: border-box;padding-bottom: 0.4em;background-color: white;position: relative;}#sk-a9284501-b761-4b8a-8118-1673d38b39bb div.sk-label label {font-family: monospace;font-weight: bold;background-color: white;display: inline-block;line-height: 1.2em;}#sk-a9284501-b761-4b8a-8118-1673d38b39bb div.sk-label-container {position: relative;z-index: 2;text-align: center;}#sk-a9284501-b761-4b8a-8118-1673d38b39bb div.sk-container {/* jupyter's `normalize.less` sets `[hidden] { display: none; }` but bootstrap.min.css set `[hidden] { display: none !important; }` so we also need the `!important` here to be able to override the default hidden behavior on the sphinx rendered scikit-learn.org. See: https://github.com/scikit-learn/scikit-learn/issues/21755 */display: inline-block !important;position: relative;}#sk-a9284501-b761-4b8a-8118-1673d38b39bb div.sk-text-repr-fallback {display: none;}</style><div id=\"sk-a9284501-b761-4b8a-8118-1673d38b39bb\" class=\"sk-top-container\"><div class=\"sk-text-repr-fallback\"><pre>Pipeline(steps=[(&#x27;impoutation_mean&#x27;,\n",
       "                 SimpleImputer(fill_value=&#x27;missing&#x27;, strategy=&#x27;constant&#x27;)),\n",
       "                (&#x27;onehot&#x27;, OneHotEncoder(handle_unknown=&#x27;ignore&#x27;))])</pre><b>Please rerun this cell to show the HTML repr or trust the notebook.</b></div><div class=\"sk-container\" hidden><div class=\"sk-item sk-dashed-wrapped\"><div class=\"sk-label-container\"><div class=\"sk-label sk-toggleable\"><input class=\"sk-toggleable__control sk-hidden--visually\" id=\"45b37793-d760-4f02-8209-07d785184105\" type=\"checkbox\" ><label for=\"45b37793-d760-4f02-8209-07d785184105\" class=\"sk-toggleable__label sk-toggleable__label-arrow\">Pipeline</label><div class=\"sk-toggleable__content\"><pre>Pipeline(steps=[(&#x27;impoutation_mean&#x27;,\n",
       "                 SimpleImputer(fill_value=&#x27;missing&#x27;, strategy=&#x27;constant&#x27;)),\n",
       "                (&#x27;onehot&#x27;, OneHotEncoder(handle_unknown=&#x27;ignore&#x27;))])</pre></div></div></div><div class=\"sk-serial\"><div class=\"sk-item\"><div class=\"sk-estimator sk-toggleable\"><input class=\"sk-toggleable__control sk-hidden--visually\" id=\"6f9c16d2-897f-441a-8a1a-4b1c52ac67c4\" type=\"checkbox\" ><label for=\"6f9c16d2-897f-441a-8a1a-4b1c52ac67c4\" class=\"sk-toggleable__label sk-toggleable__label-arrow\">SimpleImputer</label><div class=\"sk-toggleable__content\"><pre>SimpleImputer(fill_value=&#x27;missing&#x27;, strategy=&#x27;constant&#x27;)</pre></div></div></div><div class=\"sk-item\"><div class=\"sk-estimator sk-toggleable\"><input class=\"sk-toggleable__control sk-hidden--visually\" id=\"ebd8a55b-6a22-47a9-9435-f9e49ba64db1\" type=\"checkbox\" ><label for=\"ebd8a55b-6a22-47a9-9435-f9e49ba64db1\" class=\"sk-toggleable__label sk-toggleable__label-arrow\">OneHotEncoder</label><div class=\"sk-toggleable__content\"><pre>OneHotEncoder(handle_unknown=&#x27;ignore&#x27;)</pre></div></div></div></div></div></div></div>"
      ],
      "text/plain": [
       "Pipeline(steps=[('impoutation_mean',\n",
       "                 SimpleImputer(fill_value='missing', strategy='constant')),\n",
       "                ('onehot', OneHotEncoder(handle_unknown='ignore'))])"
      ]
     },
     "execution_count": 73,
     "metadata": {},
     "output_type": "execute_result"
    }
   ],
   "source": [
    "categorical_processor"
   ]
  },
  {
   "cell_type": "code",
   "execution_count": 99,
   "id": "35390c7e",
   "metadata": {},
   "outputs": [],
   "source": [
    "preprocessor=ColumnTransformer([\n",
    "    (\"categorical\",categorical_processor,['Gender','City']),\n",
    "     (\"numerical\",numeric_processor,['Age','Height'])])"
   ]
  },
  {
   "cell_type": "code",
   "execution_count": 100,
   "id": "aac6d09d",
   "metadata": {},
   "outputs": [
    {
     "data": {
      "text/html": [
       "<style>#sk-307bba4a-6b19-485e-9832-d44b973def2f {color: black;background-color: white;}#sk-307bba4a-6b19-485e-9832-d44b973def2f pre{padding: 0;}#sk-307bba4a-6b19-485e-9832-d44b973def2f div.sk-toggleable {background-color: white;}#sk-307bba4a-6b19-485e-9832-d44b973def2f label.sk-toggleable__label {cursor: pointer;display: block;width: 100%;margin-bottom: 0;padding: 0.3em;box-sizing: border-box;text-align: center;}#sk-307bba4a-6b19-485e-9832-d44b973def2f label.sk-toggleable__label-arrow:before {content: \"▸\";float: left;margin-right: 0.25em;color: #696969;}#sk-307bba4a-6b19-485e-9832-d44b973def2f label.sk-toggleable__label-arrow:hover:before {color: black;}#sk-307bba4a-6b19-485e-9832-d44b973def2f div.sk-estimator:hover label.sk-toggleable__label-arrow:before {color: black;}#sk-307bba4a-6b19-485e-9832-d44b973def2f div.sk-toggleable__content {max-height: 0;max-width: 0;overflow: hidden;text-align: left;background-color: #f0f8ff;}#sk-307bba4a-6b19-485e-9832-d44b973def2f div.sk-toggleable__content pre {margin: 0.2em;color: black;border-radius: 0.25em;background-color: #f0f8ff;}#sk-307bba4a-6b19-485e-9832-d44b973def2f input.sk-toggleable__control:checked~div.sk-toggleable__content {max-height: 200px;max-width: 100%;overflow: auto;}#sk-307bba4a-6b19-485e-9832-d44b973def2f input.sk-toggleable__control:checked~label.sk-toggleable__label-arrow:before {content: \"▾\";}#sk-307bba4a-6b19-485e-9832-d44b973def2f div.sk-estimator input.sk-toggleable__control:checked~label.sk-toggleable__label {background-color: #d4ebff;}#sk-307bba4a-6b19-485e-9832-d44b973def2f div.sk-label input.sk-toggleable__control:checked~label.sk-toggleable__label {background-color: #d4ebff;}#sk-307bba4a-6b19-485e-9832-d44b973def2f input.sk-hidden--visually {border: 0;clip: rect(1px 1px 1px 1px);clip: rect(1px, 1px, 1px, 1px);height: 1px;margin: -1px;overflow: hidden;padding: 0;position: absolute;width: 1px;}#sk-307bba4a-6b19-485e-9832-d44b973def2f div.sk-estimator {font-family: monospace;background-color: #f0f8ff;border: 1px dotted black;border-radius: 0.25em;box-sizing: border-box;margin-bottom: 0.5em;}#sk-307bba4a-6b19-485e-9832-d44b973def2f div.sk-estimator:hover {background-color: #d4ebff;}#sk-307bba4a-6b19-485e-9832-d44b973def2f div.sk-parallel-item::after {content: \"\";width: 100%;border-bottom: 1px solid gray;flex-grow: 1;}#sk-307bba4a-6b19-485e-9832-d44b973def2f div.sk-label:hover label.sk-toggleable__label {background-color: #d4ebff;}#sk-307bba4a-6b19-485e-9832-d44b973def2f div.sk-serial::before {content: \"\";position: absolute;border-left: 1px solid gray;box-sizing: border-box;top: 2em;bottom: 0;left: 50%;}#sk-307bba4a-6b19-485e-9832-d44b973def2f div.sk-serial {display: flex;flex-direction: column;align-items: center;background-color: white;padding-right: 0.2em;padding-left: 0.2em;}#sk-307bba4a-6b19-485e-9832-d44b973def2f div.sk-item {z-index: 1;}#sk-307bba4a-6b19-485e-9832-d44b973def2f div.sk-parallel {display: flex;align-items: stretch;justify-content: center;background-color: white;}#sk-307bba4a-6b19-485e-9832-d44b973def2f div.sk-parallel::before {content: \"\";position: absolute;border-left: 1px solid gray;box-sizing: border-box;top: 2em;bottom: 0;left: 50%;}#sk-307bba4a-6b19-485e-9832-d44b973def2f div.sk-parallel-item {display: flex;flex-direction: column;position: relative;background-color: white;}#sk-307bba4a-6b19-485e-9832-d44b973def2f div.sk-parallel-item:first-child::after {align-self: flex-end;width: 50%;}#sk-307bba4a-6b19-485e-9832-d44b973def2f div.sk-parallel-item:last-child::after {align-self: flex-start;width: 50%;}#sk-307bba4a-6b19-485e-9832-d44b973def2f div.sk-parallel-item:only-child::after {width: 0;}#sk-307bba4a-6b19-485e-9832-d44b973def2f div.sk-dashed-wrapped {border: 1px dashed gray;margin: 0 0.4em 0.5em 0.4em;box-sizing: border-box;padding-bottom: 0.4em;background-color: white;position: relative;}#sk-307bba4a-6b19-485e-9832-d44b973def2f div.sk-label label {font-family: monospace;font-weight: bold;background-color: white;display: inline-block;line-height: 1.2em;}#sk-307bba4a-6b19-485e-9832-d44b973def2f div.sk-label-container {position: relative;z-index: 2;text-align: center;}#sk-307bba4a-6b19-485e-9832-d44b973def2f div.sk-container {/* jupyter's `normalize.less` sets `[hidden] { display: none; }` but bootstrap.min.css set `[hidden] { display: none !important; }` so we also need the `!important` here to be able to override the default hidden behavior on the sphinx rendered scikit-learn.org. See: https://github.com/scikit-learn/scikit-learn/issues/21755 */display: inline-block !important;position: relative;}#sk-307bba4a-6b19-485e-9832-d44b973def2f div.sk-text-repr-fallback {display: none;}</style><div id=\"sk-307bba4a-6b19-485e-9832-d44b973def2f\" class=\"sk-top-container\"><div class=\"sk-text-repr-fallback\"><pre>ColumnTransformer(transformers=[(&#x27;categorical&#x27;,\n",
       "                                 Pipeline(steps=[(&#x27;impoutation_mean&#x27;,\n",
       "                                                  SimpleImputer(fill_value=&#x27;missing&#x27;,\n",
       "                                                                strategy=&#x27;constant&#x27;)),\n",
       "                                                 (&#x27;onehot&#x27;,\n",
       "                                                  OneHotEncoder(handle_unknown=&#x27;ignore&#x27;))]),\n",
       "                                 [&#x27;Gender&#x27;, &#x27;City&#x27;]),\n",
       "                                (&#x27;numerical&#x27;,\n",
       "                                 Pipeline(steps=[(&#x27;impoutation_mean&#x27;,\n",
       "                                                  SimpleImputer()),\n",
       "                                                 (&#x27;scaler&#x27;, StandardScaler())]),\n",
       "                                 [&#x27;Age&#x27;, &#x27;Height&#x27;])])</pre><b>Please rerun this cell to show the HTML repr or trust the notebook.</b></div><div class=\"sk-container\" hidden><div class=\"sk-item sk-dashed-wrapped\"><div class=\"sk-label-container\"><div class=\"sk-label sk-toggleable\"><input class=\"sk-toggleable__control sk-hidden--visually\" id=\"b8f887fc-5790-403a-8225-484c3bef9f65\" type=\"checkbox\" ><label for=\"b8f887fc-5790-403a-8225-484c3bef9f65\" class=\"sk-toggleable__label sk-toggleable__label-arrow\">ColumnTransformer</label><div class=\"sk-toggleable__content\"><pre>ColumnTransformer(transformers=[(&#x27;categorical&#x27;,\n",
       "                                 Pipeline(steps=[(&#x27;impoutation_mean&#x27;,\n",
       "                                                  SimpleImputer(fill_value=&#x27;missing&#x27;,\n",
       "                                                                strategy=&#x27;constant&#x27;)),\n",
       "                                                 (&#x27;onehot&#x27;,\n",
       "                                                  OneHotEncoder(handle_unknown=&#x27;ignore&#x27;))]),\n",
       "                                 [&#x27;Gender&#x27;, &#x27;City&#x27;]),\n",
       "                                (&#x27;numerical&#x27;,\n",
       "                                 Pipeline(steps=[(&#x27;impoutation_mean&#x27;,\n",
       "                                                  SimpleImputer()),\n",
       "                                                 (&#x27;scaler&#x27;, StandardScaler())]),\n",
       "                                 [&#x27;Age&#x27;, &#x27;Height&#x27;])])</pre></div></div></div><div class=\"sk-parallel\"><div class=\"sk-parallel-item\"><div class=\"sk-item\"><div class=\"sk-label-container\"><div class=\"sk-label sk-toggleable\"><input class=\"sk-toggleable__control sk-hidden--visually\" id=\"db797061-87d2-48cf-94a0-8aa56a3bccd6\" type=\"checkbox\" ><label for=\"db797061-87d2-48cf-94a0-8aa56a3bccd6\" class=\"sk-toggleable__label sk-toggleable__label-arrow\">categorical</label><div class=\"sk-toggleable__content\"><pre>[&#x27;Gender&#x27;, &#x27;City&#x27;]</pre></div></div></div><div class=\"sk-serial\"><div class=\"sk-item\"><div class=\"sk-serial\"><div class=\"sk-item\"><div class=\"sk-estimator sk-toggleable\"><input class=\"sk-toggleable__control sk-hidden--visually\" id=\"e6a1e6dc-3e92-4234-9038-d6d3ec04a48c\" type=\"checkbox\" ><label for=\"e6a1e6dc-3e92-4234-9038-d6d3ec04a48c\" class=\"sk-toggleable__label sk-toggleable__label-arrow\">SimpleImputer</label><div class=\"sk-toggleable__content\"><pre>SimpleImputer(fill_value=&#x27;missing&#x27;, strategy=&#x27;constant&#x27;)</pre></div></div></div><div class=\"sk-item\"><div class=\"sk-estimator sk-toggleable\"><input class=\"sk-toggleable__control sk-hidden--visually\" id=\"243f134d-6a05-4547-97f8-af8b8e15287a\" type=\"checkbox\" ><label for=\"243f134d-6a05-4547-97f8-af8b8e15287a\" class=\"sk-toggleable__label sk-toggleable__label-arrow\">OneHotEncoder</label><div class=\"sk-toggleable__content\"><pre>OneHotEncoder(handle_unknown=&#x27;ignore&#x27;)</pre></div></div></div></div></div></div></div></div><div class=\"sk-parallel-item\"><div class=\"sk-item\"><div class=\"sk-label-container\"><div class=\"sk-label sk-toggleable\"><input class=\"sk-toggleable__control sk-hidden--visually\" id=\"a28ecc5e-da52-4101-a48f-fecd9a21d305\" type=\"checkbox\" ><label for=\"a28ecc5e-da52-4101-a48f-fecd9a21d305\" class=\"sk-toggleable__label sk-toggleable__label-arrow\">numerical</label><div class=\"sk-toggleable__content\"><pre>[&#x27;Age&#x27;, &#x27;Height&#x27;]</pre></div></div></div><div class=\"sk-serial\"><div class=\"sk-item\"><div class=\"sk-serial\"><div class=\"sk-item\"><div class=\"sk-estimator sk-toggleable\"><input class=\"sk-toggleable__control sk-hidden--visually\" id=\"5272a7e5-5f41-4e96-91c6-4493086647c9\" type=\"checkbox\" ><label for=\"5272a7e5-5f41-4e96-91c6-4493086647c9\" class=\"sk-toggleable__label sk-toggleable__label-arrow\">SimpleImputer</label><div class=\"sk-toggleable__content\"><pre>SimpleImputer()</pre></div></div></div><div class=\"sk-item\"><div class=\"sk-estimator sk-toggleable\"><input class=\"sk-toggleable__control sk-hidden--visually\" id=\"7d8fe3cc-6eb0-4325-90cd-e3adf3fbb804\" type=\"checkbox\" ><label for=\"7d8fe3cc-6eb0-4325-90cd-e3adf3fbb804\" class=\"sk-toggleable__label sk-toggleable__label-arrow\">StandardScaler</label><div class=\"sk-toggleable__content\"><pre>StandardScaler()</pre></div></div></div></div></div></div></div></div></div></div></div></div>"
      ],
      "text/plain": [
       "ColumnTransformer(transformers=[('categorical',\n",
       "                                 Pipeline(steps=[('impoutation_mean',\n",
       "                                                  SimpleImputer(fill_value='missing',\n",
       "                                                                strategy='constant')),\n",
       "                                                 ('onehot',\n",
       "                                                  OneHotEncoder(handle_unknown='ignore'))]),\n",
       "                                 ['Gender', 'City']),\n",
       "                                ('numerical',\n",
       "                                 Pipeline(steps=[('impoutation_mean',\n",
       "                                                  SimpleImputer()),\n",
       "                                                 ('scaler', StandardScaler())]),\n",
       "                                 ['Age', 'Height'])])"
      ]
     },
     "execution_count": 100,
     "metadata": {},
     "output_type": "execute_result"
    }
   ],
   "source": [
    "preprocessor"
   ]
  },
  {
   "cell_type": "code",
   "execution_count": 101,
   "id": "aa8efbed",
   "metadata": {},
   "outputs": [],
   "source": [
    "final_pipe=make_pipeline(preprocessor,LogisticRegression())"
   ]
  },
  {
   "cell_type": "code",
   "execution_count": 102,
   "id": "fdc03745",
   "metadata": {},
   "outputs": [
    {
     "data": {
      "text/html": [
       "<style>#sk-7f2be96e-a290-489c-9e50-be6b9c54e890 {color: black;background-color: white;}#sk-7f2be96e-a290-489c-9e50-be6b9c54e890 pre{padding: 0;}#sk-7f2be96e-a290-489c-9e50-be6b9c54e890 div.sk-toggleable {background-color: white;}#sk-7f2be96e-a290-489c-9e50-be6b9c54e890 label.sk-toggleable__label {cursor: pointer;display: block;width: 100%;margin-bottom: 0;padding: 0.3em;box-sizing: border-box;text-align: center;}#sk-7f2be96e-a290-489c-9e50-be6b9c54e890 label.sk-toggleable__label-arrow:before {content: \"▸\";float: left;margin-right: 0.25em;color: #696969;}#sk-7f2be96e-a290-489c-9e50-be6b9c54e890 label.sk-toggleable__label-arrow:hover:before {color: black;}#sk-7f2be96e-a290-489c-9e50-be6b9c54e890 div.sk-estimator:hover label.sk-toggleable__label-arrow:before {color: black;}#sk-7f2be96e-a290-489c-9e50-be6b9c54e890 div.sk-toggleable__content {max-height: 0;max-width: 0;overflow: hidden;text-align: left;background-color: #f0f8ff;}#sk-7f2be96e-a290-489c-9e50-be6b9c54e890 div.sk-toggleable__content pre {margin: 0.2em;color: black;border-radius: 0.25em;background-color: #f0f8ff;}#sk-7f2be96e-a290-489c-9e50-be6b9c54e890 input.sk-toggleable__control:checked~div.sk-toggleable__content {max-height: 200px;max-width: 100%;overflow: auto;}#sk-7f2be96e-a290-489c-9e50-be6b9c54e890 input.sk-toggleable__control:checked~label.sk-toggleable__label-arrow:before {content: \"▾\";}#sk-7f2be96e-a290-489c-9e50-be6b9c54e890 div.sk-estimator input.sk-toggleable__control:checked~label.sk-toggleable__label {background-color: #d4ebff;}#sk-7f2be96e-a290-489c-9e50-be6b9c54e890 div.sk-label input.sk-toggleable__control:checked~label.sk-toggleable__label {background-color: #d4ebff;}#sk-7f2be96e-a290-489c-9e50-be6b9c54e890 input.sk-hidden--visually {border: 0;clip: rect(1px 1px 1px 1px);clip: rect(1px, 1px, 1px, 1px);height: 1px;margin: -1px;overflow: hidden;padding: 0;position: absolute;width: 1px;}#sk-7f2be96e-a290-489c-9e50-be6b9c54e890 div.sk-estimator {font-family: monospace;background-color: #f0f8ff;border: 1px dotted black;border-radius: 0.25em;box-sizing: border-box;margin-bottom: 0.5em;}#sk-7f2be96e-a290-489c-9e50-be6b9c54e890 div.sk-estimator:hover {background-color: #d4ebff;}#sk-7f2be96e-a290-489c-9e50-be6b9c54e890 div.sk-parallel-item::after {content: \"\";width: 100%;border-bottom: 1px solid gray;flex-grow: 1;}#sk-7f2be96e-a290-489c-9e50-be6b9c54e890 div.sk-label:hover label.sk-toggleable__label {background-color: #d4ebff;}#sk-7f2be96e-a290-489c-9e50-be6b9c54e890 div.sk-serial::before {content: \"\";position: absolute;border-left: 1px solid gray;box-sizing: border-box;top: 2em;bottom: 0;left: 50%;}#sk-7f2be96e-a290-489c-9e50-be6b9c54e890 div.sk-serial {display: flex;flex-direction: column;align-items: center;background-color: white;padding-right: 0.2em;padding-left: 0.2em;}#sk-7f2be96e-a290-489c-9e50-be6b9c54e890 div.sk-item {z-index: 1;}#sk-7f2be96e-a290-489c-9e50-be6b9c54e890 div.sk-parallel {display: flex;align-items: stretch;justify-content: center;background-color: white;}#sk-7f2be96e-a290-489c-9e50-be6b9c54e890 div.sk-parallel::before {content: \"\";position: absolute;border-left: 1px solid gray;box-sizing: border-box;top: 2em;bottom: 0;left: 50%;}#sk-7f2be96e-a290-489c-9e50-be6b9c54e890 div.sk-parallel-item {display: flex;flex-direction: column;position: relative;background-color: white;}#sk-7f2be96e-a290-489c-9e50-be6b9c54e890 div.sk-parallel-item:first-child::after {align-self: flex-end;width: 50%;}#sk-7f2be96e-a290-489c-9e50-be6b9c54e890 div.sk-parallel-item:last-child::after {align-self: flex-start;width: 50%;}#sk-7f2be96e-a290-489c-9e50-be6b9c54e890 div.sk-parallel-item:only-child::after {width: 0;}#sk-7f2be96e-a290-489c-9e50-be6b9c54e890 div.sk-dashed-wrapped {border: 1px dashed gray;margin: 0 0.4em 0.5em 0.4em;box-sizing: border-box;padding-bottom: 0.4em;background-color: white;position: relative;}#sk-7f2be96e-a290-489c-9e50-be6b9c54e890 div.sk-label label {font-family: monospace;font-weight: bold;background-color: white;display: inline-block;line-height: 1.2em;}#sk-7f2be96e-a290-489c-9e50-be6b9c54e890 div.sk-label-container {position: relative;z-index: 2;text-align: center;}#sk-7f2be96e-a290-489c-9e50-be6b9c54e890 div.sk-container {/* jupyter's `normalize.less` sets `[hidden] { display: none; }` but bootstrap.min.css set `[hidden] { display: none !important; }` so we also need the `!important` here to be able to override the default hidden behavior on the sphinx rendered scikit-learn.org. See: https://github.com/scikit-learn/scikit-learn/issues/21755 */display: inline-block !important;position: relative;}#sk-7f2be96e-a290-489c-9e50-be6b9c54e890 div.sk-text-repr-fallback {display: none;}</style><div id=\"sk-7f2be96e-a290-489c-9e50-be6b9c54e890\" class=\"sk-top-container\"><div class=\"sk-text-repr-fallback\"><pre>Pipeline(steps=[(&#x27;columntransformer&#x27;,\n",
       "                 ColumnTransformer(transformers=[(&#x27;categorical&#x27;,\n",
       "                                                  Pipeline(steps=[(&#x27;impoutation_mean&#x27;,\n",
       "                                                                   SimpleImputer(fill_value=&#x27;missing&#x27;,\n",
       "                                                                                 strategy=&#x27;constant&#x27;)),\n",
       "                                                                  (&#x27;onehot&#x27;,\n",
       "                                                                   OneHotEncoder(handle_unknown=&#x27;ignore&#x27;))]),\n",
       "                                                  [&#x27;Gender&#x27;, &#x27;City&#x27;]),\n",
       "                                                 (&#x27;numerical&#x27;,\n",
       "                                                  Pipeline(steps=[(&#x27;impoutation_mean&#x27;,\n",
       "                                                                   SimpleImputer()),\n",
       "                                                                  (&#x27;scaler&#x27;,\n",
       "                                                                   StandardScaler())]),\n",
       "                                                  [&#x27;Age&#x27;, &#x27;Height&#x27;])])),\n",
       "                (&#x27;logisticregression&#x27;, LogisticRegression())])</pre><b>Please rerun this cell to show the HTML repr or trust the notebook.</b></div><div class=\"sk-container\" hidden><div class=\"sk-item sk-dashed-wrapped\"><div class=\"sk-label-container\"><div class=\"sk-label sk-toggleable\"><input class=\"sk-toggleable__control sk-hidden--visually\" id=\"bced0e62-b21b-45fe-b1f3-b2c8c5e9aa56\" type=\"checkbox\" ><label for=\"bced0e62-b21b-45fe-b1f3-b2c8c5e9aa56\" class=\"sk-toggleable__label sk-toggleable__label-arrow\">Pipeline</label><div class=\"sk-toggleable__content\"><pre>Pipeline(steps=[(&#x27;columntransformer&#x27;,\n",
       "                 ColumnTransformer(transformers=[(&#x27;categorical&#x27;,\n",
       "                                                  Pipeline(steps=[(&#x27;impoutation_mean&#x27;,\n",
       "                                                                   SimpleImputer(fill_value=&#x27;missing&#x27;,\n",
       "                                                                                 strategy=&#x27;constant&#x27;)),\n",
       "                                                                  (&#x27;onehot&#x27;,\n",
       "                                                                   OneHotEncoder(handle_unknown=&#x27;ignore&#x27;))]),\n",
       "                                                  [&#x27;Gender&#x27;, &#x27;City&#x27;]),\n",
       "                                                 (&#x27;numerical&#x27;,\n",
       "                                                  Pipeline(steps=[(&#x27;impoutation_mean&#x27;,\n",
       "                                                                   SimpleImputer()),\n",
       "                                                                  (&#x27;scaler&#x27;,\n",
       "                                                                   StandardScaler())]),\n",
       "                                                  [&#x27;Age&#x27;, &#x27;Height&#x27;])])),\n",
       "                (&#x27;logisticregression&#x27;, LogisticRegression())])</pre></div></div></div><div class=\"sk-serial\"><div class=\"sk-item sk-dashed-wrapped\"><div class=\"sk-label-container\"><div class=\"sk-label sk-toggleable\"><input class=\"sk-toggleable__control sk-hidden--visually\" id=\"5d60dd7a-50c1-4fbd-9ad2-25bfe8ff04f2\" type=\"checkbox\" ><label for=\"5d60dd7a-50c1-4fbd-9ad2-25bfe8ff04f2\" class=\"sk-toggleable__label sk-toggleable__label-arrow\">columntransformer: ColumnTransformer</label><div class=\"sk-toggleable__content\"><pre>ColumnTransformer(transformers=[(&#x27;categorical&#x27;,\n",
       "                                 Pipeline(steps=[(&#x27;impoutation_mean&#x27;,\n",
       "                                                  SimpleImputer(fill_value=&#x27;missing&#x27;,\n",
       "                                                                strategy=&#x27;constant&#x27;)),\n",
       "                                                 (&#x27;onehot&#x27;,\n",
       "                                                  OneHotEncoder(handle_unknown=&#x27;ignore&#x27;))]),\n",
       "                                 [&#x27;Gender&#x27;, &#x27;City&#x27;]),\n",
       "                                (&#x27;numerical&#x27;,\n",
       "                                 Pipeline(steps=[(&#x27;impoutation_mean&#x27;,\n",
       "                                                  SimpleImputer()),\n",
       "                                                 (&#x27;scaler&#x27;, StandardScaler())]),\n",
       "                                 [&#x27;Age&#x27;, &#x27;Height&#x27;])])</pre></div></div></div><div class=\"sk-parallel\"><div class=\"sk-parallel-item\"><div class=\"sk-item\"><div class=\"sk-label-container\"><div class=\"sk-label sk-toggleable\"><input class=\"sk-toggleable__control sk-hidden--visually\" id=\"9c00d68f-ab55-4929-b260-82af8bce9530\" type=\"checkbox\" ><label for=\"9c00d68f-ab55-4929-b260-82af8bce9530\" class=\"sk-toggleable__label sk-toggleable__label-arrow\">categorical</label><div class=\"sk-toggleable__content\"><pre>[&#x27;Gender&#x27;, &#x27;City&#x27;]</pre></div></div></div><div class=\"sk-serial\"><div class=\"sk-item\"><div class=\"sk-serial\"><div class=\"sk-item\"><div class=\"sk-estimator sk-toggleable\"><input class=\"sk-toggleable__control sk-hidden--visually\" id=\"8f14d32c-2e45-43bf-a70a-cb57903e9193\" type=\"checkbox\" ><label for=\"8f14d32c-2e45-43bf-a70a-cb57903e9193\" class=\"sk-toggleable__label sk-toggleable__label-arrow\">SimpleImputer</label><div class=\"sk-toggleable__content\"><pre>SimpleImputer(fill_value=&#x27;missing&#x27;, strategy=&#x27;constant&#x27;)</pre></div></div></div><div class=\"sk-item\"><div class=\"sk-estimator sk-toggleable\"><input class=\"sk-toggleable__control sk-hidden--visually\" id=\"0f461fe2-86fb-4f5f-9597-6cb847034768\" type=\"checkbox\" ><label for=\"0f461fe2-86fb-4f5f-9597-6cb847034768\" class=\"sk-toggleable__label sk-toggleable__label-arrow\">OneHotEncoder</label><div class=\"sk-toggleable__content\"><pre>OneHotEncoder(handle_unknown=&#x27;ignore&#x27;)</pre></div></div></div></div></div></div></div></div><div class=\"sk-parallel-item\"><div class=\"sk-item\"><div class=\"sk-label-container\"><div class=\"sk-label sk-toggleable\"><input class=\"sk-toggleable__control sk-hidden--visually\" id=\"cc47ef15-6f1a-4425-8a8e-d1be80244d67\" type=\"checkbox\" ><label for=\"cc47ef15-6f1a-4425-8a8e-d1be80244d67\" class=\"sk-toggleable__label sk-toggleable__label-arrow\">numerical</label><div class=\"sk-toggleable__content\"><pre>[&#x27;Age&#x27;, &#x27;Height&#x27;]</pre></div></div></div><div class=\"sk-serial\"><div class=\"sk-item\"><div class=\"sk-serial\"><div class=\"sk-item\"><div class=\"sk-estimator sk-toggleable\"><input class=\"sk-toggleable__control sk-hidden--visually\" id=\"f36ec791-31ad-4808-9aec-533a2ef6c983\" type=\"checkbox\" ><label for=\"f36ec791-31ad-4808-9aec-533a2ef6c983\" class=\"sk-toggleable__label sk-toggleable__label-arrow\">SimpleImputer</label><div class=\"sk-toggleable__content\"><pre>SimpleImputer()</pre></div></div></div><div class=\"sk-item\"><div class=\"sk-estimator sk-toggleable\"><input class=\"sk-toggleable__control sk-hidden--visually\" id=\"9db79226-ef2d-4634-bf79-cb89555df089\" type=\"checkbox\" ><label for=\"9db79226-ef2d-4634-bf79-cb89555df089\" class=\"sk-toggleable__label sk-toggleable__label-arrow\">StandardScaler</label><div class=\"sk-toggleable__content\"><pre>StandardScaler()</pre></div></div></div></div></div></div></div></div></div></div><div class=\"sk-item\"><div class=\"sk-estimator sk-toggleable\"><input class=\"sk-toggleable__control sk-hidden--visually\" id=\"5aa9ac2b-c250-4e64-80cf-26230759f68f\" type=\"checkbox\" ><label for=\"5aa9ac2b-c250-4e64-80cf-26230759f68f\" class=\"sk-toggleable__label sk-toggleable__label-arrow\">LogisticRegression</label><div class=\"sk-toggleable__content\"><pre>LogisticRegression()</pre></div></div></div></div></div></div></div>"
      ],
      "text/plain": [
       "Pipeline(steps=[('columntransformer',\n",
       "                 ColumnTransformer(transformers=[('categorical',\n",
       "                                                  Pipeline(steps=[('impoutation_mean',\n",
       "                                                                   SimpleImputer(fill_value='missing',\n",
       "                                                                                 strategy='constant')),\n",
       "                                                                  ('onehot',\n",
       "                                                                   OneHotEncoder(handle_unknown='ignore'))]),\n",
       "                                                  ['Gender', 'City']),\n",
       "                                                 ('numerical',\n",
       "                                                  Pipeline(steps=[('impoutation_mean',\n",
       "                                                                   SimpleImputer()),\n",
       "                                                                  ('scaler',\n",
       "                                                                   StandardScaler())]),\n",
       "                                                  ['Age', 'Height'])])),\n",
       "                ('logisticregression', LogisticRegression())])"
      ]
     },
     "execution_count": 102,
     "metadata": {},
     "output_type": "execute_result"
    }
   ],
   "source": [
    "final_pipe"
   ]
  },
  {
   "cell_type": "code",
   "execution_count": null,
   "id": "204e2c82",
   "metadata": {
    "scrolled": true
   },
   "outputs": [],
   "source": []
  },
  {
   "cell_type": "code",
   "execution_count": null,
   "id": "3b03979f",
   "metadata": {},
   "outputs": [],
   "source": []
  },
  {
   "cell_type": "code",
   "execution_count": null,
   "id": "38ed068f",
   "metadata": {},
   "outputs": [],
   "source": []
  },
  {
   "cell_type": "code",
   "execution_count": null,
   "id": "24a1b8c2",
   "metadata": {},
   "outputs": [],
   "source": []
  },
  {
   "cell_type": "markdown",
   "id": "ef7a602f",
   "metadata": {},
   "source": [
    "# Hyperparameter tuning using Machine Learning Pipeline"
   ]
  },
  {
   "cell_type": "code",
   "execution_count": 118,
   "id": "085550d9",
   "metadata": {},
   "outputs": [],
   "source": [
    "import numpy as np\n",
    "from sklearn .pipeline import make_pipeline\n",
    "from sklearn.pipeline import Pipeline\n",
    "from sklearn.impute import SimpleImputer\n",
    "from sklearn.compose import ColumnTransformer\n",
    "from sklearn.preprocessing import OneHotEncoder,StandardScaler\n",
    "from sklearn.ensemble import RandomForestRegressor\n",
    "from sklearn.model_selection import GridSearchCV\n",
    "import seaborn as sns"
   ]
  },
  {
   "cell_type": "code",
   "execution_count": 119,
   "id": "e473503c",
   "metadata": {},
   "outputs": [],
   "source": [
    "df= sns.load_dataset('tips')"
   ]
  },
  {
   "cell_type": "code",
   "execution_count": 121,
   "id": "6e06d0c2",
   "metadata": {},
   "outputs": [
    {
     "data": {
      "text/html": [
       "<div>\n",
       "<style scoped>\n",
       "    .dataframe tbody tr th:only-of-type {\n",
       "        vertical-align: middle;\n",
       "    }\n",
       "\n",
       "    .dataframe tbody tr th {\n",
       "        vertical-align: top;\n",
       "    }\n",
       "\n",
       "    .dataframe thead th {\n",
       "        text-align: right;\n",
       "    }\n",
       "</style>\n",
       "<table border=\"1\" class=\"dataframe\">\n",
       "  <thead>\n",
       "    <tr style=\"text-align: right;\">\n",
       "      <th></th>\n",
       "      <th>total_bill</th>\n",
       "      <th>tip</th>\n",
       "      <th>sex</th>\n",
       "      <th>smoker</th>\n",
       "      <th>day</th>\n",
       "      <th>time</th>\n",
       "      <th>size</th>\n",
       "    </tr>\n",
       "  </thead>\n",
       "  <tbody>\n",
       "    <tr>\n",
       "      <th>0</th>\n",
       "      <td>16.99</td>\n",
       "      <td>1.01</td>\n",
       "      <td>Female</td>\n",
       "      <td>No</td>\n",
       "      <td>Sun</td>\n",
       "      <td>Dinner</td>\n",
       "      <td>2</td>\n",
       "    </tr>\n",
       "    <tr>\n",
       "      <th>1</th>\n",
       "      <td>10.34</td>\n",
       "      <td>1.66</td>\n",
       "      <td>Male</td>\n",
       "      <td>No</td>\n",
       "      <td>Sun</td>\n",
       "      <td>Dinner</td>\n",
       "      <td>3</td>\n",
       "    </tr>\n",
       "    <tr>\n",
       "      <th>2</th>\n",
       "      <td>21.01</td>\n",
       "      <td>3.50</td>\n",
       "      <td>Male</td>\n",
       "      <td>No</td>\n",
       "      <td>Sun</td>\n",
       "      <td>Dinner</td>\n",
       "      <td>3</td>\n",
       "    </tr>\n",
       "    <tr>\n",
       "      <th>3</th>\n",
       "      <td>23.68</td>\n",
       "      <td>3.31</td>\n",
       "      <td>Male</td>\n",
       "      <td>No</td>\n",
       "      <td>Sun</td>\n",
       "      <td>Dinner</td>\n",
       "      <td>2</td>\n",
       "    </tr>\n",
       "    <tr>\n",
       "      <th>4</th>\n",
       "      <td>24.59</td>\n",
       "      <td>3.61</td>\n",
       "      <td>Female</td>\n",
       "      <td>No</td>\n",
       "      <td>Sun</td>\n",
       "      <td>Dinner</td>\n",
       "      <td>4</td>\n",
       "    </tr>\n",
       "  </tbody>\n",
       "</table>\n",
       "</div>"
      ],
      "text/plain": [
       "   total_bill   tip     sex smoker  day    time  size\n",
       "0       16.99  1.01  Female     No  Sun  Dinner     2\n",
       "1       10.34  1.66    Male     No  Sun  Dinner     3\n",
       "2       21.01  3.50    Male     No  Sun  Dinner     3\n",
       "3       23.68  3.31    Male     No  Sun  Dinner     2\n",
       "4       24.59  3.61  Female     No  Sun  Dinner     4"
      ]
     },
     "execution_count": 121,
     "metadata": {},
     "output_type": "execute_result"
    }
   ],
   "source": [
    "df.head()"
   ]
  },
  {
   "cell_type": "code",
   "execution_count": 123,
   "id": "ef452076",
   "metadata": {},
   "outputs": [],
   "source": [
    "x=df.iloc[:,1:]\n",
    "y=df[\"total_bill\"]"
   ]
  },
  {
   "cell_type": "code",
   "execution_count": 124,
   "id": "55684fc0",
   "metadata": {},
   "outputs": [],
   "source": [
    "from sklearn.model_selection import train_test_split"
   ]
  },
  {
   "cell_type": "code",
   "execution_count": 126,
   "id": "bd257dbf",
   "metadata": {},
   "outputs": [],
   "source": [
    "x_train,x_test,y_train,y_test=train_test_split(x,y,test_size=0.2)"
   ]
  },
  {
   "cell_type": "code",
   "execution_count": 128,
   "id": "a39eaaa2",
   "metadata": {},
   "outputs": [],
   "source": [
    "#pipelining\n",
    "numeric_processor=Pipeline(\n",
    "    steps=[('imputation_mean',SimpleImputer(missing_values=np.nan,strategy=\"mean\")),\n",
    "           (\"scale\",StandardScaler())])"
   ]
  },
  {
   "cell_type": "code",
   "execution_count": 132,
   "id": "fff84e09",
   "metadata": {},
   "outputs": [
    {
     "data": {
      "text/html": [
       "<style>#sk-6cea4c4b-38e6-4a78-b732-c2fb9ea25d82 {color: black;background-color: white;}#sk-6cea4c4b-38e6-4a78-b732-c2fb9ea25d82 pre{padding: 0;}#sk-6cea4c4b-38e6-4a78-b732-c2fb9ea25d82 div.sk-toggleable {background-color: white;}#sk-6cea4c4b-38e6-4a78-b732-c2fb9ea25d82 label.sk-toggleable__label {cursor: pointer;display: block;width: 100%;margin-bottom: 0;padding: 0.3em;box-sizing: border-box;text-align: center;}#sk-6cea4c4b-38e6-4a78-b732-c2fb9ea25d82 label.sk-toggleable__label-arrow:before {content: \"▸\";float: left;margin-right: 0.25em;color: #696969;}#sk-6cea4c4b-38e6-4a78-b732-c2fb9ea25d82 label.sk-toggleable__label-arrow:hover:before {color: black;}#sk-6cea4c4b-38e6-4a78-b732-c2fb9ea25d82 div.sk-estimator:hover label.sk-toggleable__label-arrow:before {color: black;}#sk-6cea4c4b-38e6-4a78-b732-c2fb9ea25d82 div.sk-toggleable__content {max-height: 0;max-width: 0;overflow: hidden;text-align: left;background-color: #f0f8ff;}#sk-6cea4c4b-38e6-4a78-b732-c2fb9ea25d82 div.sk-toggleable__content pre {margin: 0.2em;color: black;border-radius: 0.25em;background-color: #f0f8ff;}#sk-6cea4c4b-38e6-4a78-b732-c2fb9ea25d82 input.sk-toggleable__control:checked~div.sk-toggleable__content {max-height: 200px;max-width: 100%;overflow: auto;}#sk-6cea4c4b-38e6-4a78-b732-c2fb9ea25d82 input.sk-toggleable__control:checked~label.sk-toggleable__label-arrow:before {content: \"▾\";}#sk-6cea4c4b-38e6-4a78-b732-c2fb9ea25d82 div.sk-estimator input.sk-toggleable__control:checked~label.sk-toggleable__label {background-color: #d4ebff;}#sk-6cea4c4b-38e6-4a78-b732-c2fb9ea25d82 div.sk-label input.sk-toggleable__control:checked~label.sk-toggleable__label {background-color: #d4ebff;}#sk-6cea4c4b-38e6-4a78-b732-c2fb9ea25d82 input.sk-hidden--visually {border: 0;clip: rect(1px 1px 1px 1px);clip: rect(1px, 1px, 1px, 1px);height: 1px;margin: -1px;overflow: hidden;padding: 0;position: absolute;width: 1px;}#sk-6cea4c4b-38e6-4a78-b732-c2fb9ea25d82 div.sk-estimator {font-family: monospace;background-color: #f0f8ff;border: 1px dotted black;border-radius: 0.25em;box-sizing: border-box;margin-bottom: 0.5em;}#sk-6cea4c4b-38e6-4a78-b732-c2fb9ea25d82 div.sk-estimator:hover {background-color: #d4ebff;}#sk-6cea4c4b-38e6-4a78-b732-c2fb9ea25d82 div.sk-parallel-item::after {content: \"\";width: 100%;border-bottom: 1px solid gray;flex-grow: 1;}#sk-6cea4c4b-38e6-4a78-b732-c2fb9ea25d82 div.sk-label:hover label.sk-toggleable__label {background-color: #d4ebff;}#sk-6cea4c4b-38e6-4a78-b732-c2fb9ea25d82 div.sk-serial::before {content: \"\";position: absolute;border-left: 1px solid gray;box-sizing: border-box;top: 2em;bottom: 0;left: 50%;}#sk-6cea4c4b-38e6-4a78-b732-c2fb9ea25d82 div.sk-serial {display: flex;flex-direction: column;align-items: center;background-color: white;padding-right: 0.2em;padding-left: 0.2em;}#sk-6cea4c4b-38e6-4a78-b732-c2fb9ea25d82 div.sk-item {z-index: 1;}#sk-6cea4c4b-38e6-4a78-b732-c2fb9ea25d82 div.sk-parallel {display: flex;align-items: stretch;justify-content: center;background-color: white;}#sk-6cea4c4b-38e6-4a78-b732-c2fb9ea25d82 div.sk-parallel::before {content: \"\";position: absolute;border-left: 1px solid gray;box-sizing: border-box;top: 2em;bottom: 0;left: 50%;}#sk-6cea4c4b-38e6-4a78-b732-c2fb9ea25d82 div.sk-parallel-item {display: flex;flex-direction: column;position: relative;background-color: white;}#sk-6cea4c4b-38e6-4a78-b732-c2fb9ea25d82 div.sk-parallel-item:first-child::after {align-self: flex-end;width: 50%;}#sk-6cea4c4b-38e6-4a78-b732-c2fb9ea25d82 div.sk-parallel-item:last-child::after {align-self: flex-start;width: 50%;}#sk-6cea4c4b-38e6-4a78-b732-c2fb9ea25d82 div.sk-parallel-item:only-child::after {width: 0;}#sk-6cea4c4b-38e6-4a78-b732-c2fb9ea25d82 div.sk-dashed-wrapped {border: 1px dashed gray;margin: 0 0.4em 0.5em 0.4em;box-sizing: border-box;padding-bottom: 0.4em;background-color: white;position: relative;}#sk-6cea4c4b-38e6-4a78-b732-c2fb9ea25d82 div.sk-label label {font-family: monospace;font-weight: bold;background-color: white;display: inline-block;line-height: 1.2em;}#sk-6cea4c4b-38e6-4a78-b732-c2fb9ea25d82 div.sk-label-container {position: relative;z-index: 2;text-align: center;}#sk-6cea4c4b-38e6-4a78-b732-c2fb9ea25d82 div.sk-container {/* jupyter's `normalize.less` sets `[hidden] { display: none; }` but bootstrap.min.css set `[hidden] { display: none !important; }` so we also need the `!important` here to be able to override the default hidden behavior on the sphinx rendered scikit-learn.org. See: https://github.com/scikit-learn/scikit-learn/issues/21755 */display: inline-block !important;position: relative;}#sk-6cea4c4b-38e6-4a78-b732-c2fb9ea25d82 div.sk-text-repr-fallback {display: none;}</style><div id=\"sk-6cea4c4b-38e6-4a78-b732-c2fb9ea25d82\" class=\"sk-top-container\"><div class=\"sk-text-repr-fallback\"><pre>Pipeline(steps=[(&#x27;imputation_mean&#x27;, SimpleImputer()),\n",
       "                (&#x27;scale&#x27;, StandardScaler())])</pre><b>Please rerun this cell to show the HTML repr or trust the notebook.</b></div><div class=\"sk-container\" hidden><div class=\"sk-item sk-dashed-wrapped\"><div class=\"sk-label-container\"><div class=\"sk-label sk-toggleable\"><input class=\"sk-toggleable__control sk-hidden--visually\" id=\"3903f693-8dc0-4f55-9733-84858eb312f5\" type=\"checkbox\" ><label for=\"3903f693-8dc0-4f55-9733-84858eb312f5\" class=\"sk-toggleable__label sk-toggleable__label-arrow\">Pipeline</label><div class=\"sk-toggleable__content\"><pre>Pipeline(steps=[(&#x27;imputation_mean&#x27;, SimpleImputer()),\n",
       "                (&#x27;scale&#x27;, StandardScaler())])</pre></div></div></div><div class=\"sk-serial\"><div class=\"sk-item\"><div class=\"sk-estimator sk-toggleable\"><input class=\"sk-toggleable__control sk-hidden--visually\" id=\"630b259c-f1db-4f5a-8093-6b7d44caac47\" type=\"checkbox\" ><label for=\"630b259c-f1db-4f5a-8093-6b7d44caac47\" class=\"sk-toggleable__label sk-toggleable__label-arrow\">SimpleImputer</label><div class=\"sk-toggleable__content\"><pre>SimpleImputer()</pre></div></div></div><div class=\"sk-item\"><div class=\"sk-estimator sk-toggleable\"><input class=\"sk-toggleable__control sk-hidden--visually\" id=\"4cbec3e0-9977-4cae-9f83-2280a357af1f\" type=\"checkbox\" ><label for=\"4cbec3e0-9977-4cae-9f83-2280a357af1f\" class=\"sk-toggleable__label sk-toggleable__label-arrow\">StandardScaler</label><div class=\"sk-toggleable__content\"><pre>StandardScaler()</pre></div></div></div></div></div></div></div>"
      ],
      "text/plain": [
       "Pipeline(steps=[('imputation_mean', SimpleImputer()),\n",
       "                ('scale', StandardScaler())])"
      ]
     },
     "execution_count": 132,
     "metadata": {},
     "output_type": "execute_result"
    }
   ],
   "source": [
    "numeric_processor"
   ]
  },
  {
   "cell_type": "code",
   "execution_count": 129,
   "id": "5593a0cf",
   "metadata": {},
   "outputs": [],
   "source": [
    "categorical_processor=Pipeline(\n",
    "    steps=[('imputation_mean',SimpleImputer(fill_value=\"missing\",strategy=\"constant\")),\n",
    "           (\"onehot\",OneHotEncoder(handle_unknown=\"ignore\"))])"
   ]
  },
  {
   "cell_type": "code",
   "execution_count": 133,
   "id": "5fe73cde",
   "metadata": {},
   "outputs": [
    {
     "data": {
      "text/html": [
       "<style>#sk-2a9e18ba-c7d5-47c2-83b1-0e48a14908fa {color: black;background-color: white;}#sk-2a9e18ba-c7d5-47c2-83b1-0e48a14908fa pre{padding: 0;}#sk-2a9e18ba-c7d5-47c2-83b1-0e48a14908fa div.sk-toggleable {background-color: white;}#sk-2a9e18ba-c7d5-47c2-83b1-0e48a14908fa label.sk-toggleable__label {cursor: pointer;display: block;width: 100%;margin-bottom: 0;padding: 0.3em;box-sizing: border-box;text-align: center;}#sk-2a9e18ba-c7d5-47c2-83b1-0e48a14908fa label.sk-toggleable__label-arrow:before {content: \"▸\";float: left;margin-right: 0.25em;color: #696969;}#sk-2a9e18ba-c7d5-47c2-83b1-0e48a14908fa label.sk-toggleable__label-arrow:hover:before {color: black;}#sk-2a9e18ba-c7d5-47c2-83b1-0e48a14908fa div.sk-estimator:hover label.sk-toggleable__label-arrow:before {color: black;}#sk-2a9e18ba-c7d5-47c2-83b1-0e48a14908fa div.sk-toggleable__content {max-height: 0;max-width: 0;overflow: hidden;text-align: left;background-color: #f0f8ff;}#sk-2a9e18ba-c7d5-47c2-83b1-0e48a14908fa div.sk-toggleable__content pre {margin: 0.2em;color: black;border-radius: 0.25em;background-color: #f0f8ff;}#sk-2a9e18ba-c7d5-47c2-83b1-0e48a14908fa input.sk-toggleable__control:checked~div.sk-toggleable__content {max-height: 200px;max-width: 100%;overflow: auto;}#sk-2a9e18ba-c7d5-47c2-83b1-0e48a14908fa input.sk-toggleable__control:checked~label.sk-toggleable__label-arrow:before {content: \"▾\";}#sk-2a9e18ba-c7d5-47c2-83b1-0e48a14908fa div.sk-estimator input.sk-toggleable__control:checked~label.sk-toggleable__label {background-color: #d4ebff;}#sk-2a9e18ba-c7d5-47c2-83b1-0e48a14908fa div.sk-label input.sk-toggleable__control:checked~label.sk-toggleable__label {background-color: #d4ebff;}#sk-2a9e18ba-c7d5-47c2-83b1-0e48a14908fa input.sk-hidden--visually {border: 0;clip: rect(1px 1px 1px 1px);clip: rect(1px, 1px, 1px, 1px);height: 1px;margin: -1px;overflow: hidden;padding: 0;position: absolute;width: 1px;}#sk-2a9e18ba-c7d5-47c2-83b1-0e48a14908fa div.sk-estimator {font-family: monospace;background-color: #f0f8ff;border: 1px dotted black;border-radius: 0.25em;box-sizing: border-box;margin-bottom: 0.5em;}#sk-2a9e18ba-c7d5-47c2-83b1-0e48a14908fa div.sk-estimator:hover {background-color: #d4ebff;}#sk-2a9e18ba-c7d5-47c2-83b1-0e48a14908fa div.sk-parallel-item::after {content: \"\";width: 100%;border-bottom: 1px solid gray;flex-grow: 1;}#sk-2a9e18ba-c7d5-47c2-83b1-0e48a14908fa div.sk-label:hover label.sk-toggleable__label {background-color: #d4ebff;}#sk-2a9e18ba-c7d5-47c2-83b1-0e48a14908fa div.sk-serial::before {content: \"\";position: absolute;border-left: 1px solid gray;box-sizing: border-box;top: 2em;bottom: 0;left: 50%;}#sk-2a9e18ba-c7d5-47c2-83b1-0e48a14908fa div.sk-serial {display: flex;flex-direction: column;align-items: center;background-color: white;padding-right: 0.2em;padding-left: 0.2em;}#sk-2a9e18ba-c7d5-47c2-83b1-0e48a14908fa div.sk-item {z-index: 1;}#sk-2a9e18ba-c7d5-47c2-83b1-0e48a14908fa div.sk-parallel {display: flex;align-items: stretch;justify-content: center;background-color: white;}#sk-2a9e18ba-c7d5-47c2-83b1-0e48a14908fa div.sk-parallel::before {content: \"\";position: absolute;border-left: 1px solid gray;box-sizing: border-box;top: 2em;bottom: 0;left: 50%;}#sk-2a9e18ba-c7d5-47c2-83b1-0e48a14908fa div.sk-parallel-item {display: flex;flex-direction: column;position: relative;background-color: white;}#sk-2a9e18ba-c7d5-47c2-83b1-0e48a14908fa div.sk-parallel-item:first-child::after {align-self: flex-end;width: 50%;}#sk-2a9e18ba-c7d5-47c2-83b1-0e48a14908fa div.sk-parallel-item:last-child::after {align-self: flex-start;width: 50%;}#sk-2a9e18ba-c7d5-47c2-83b1-0e48a14908fa div.sk-parallel-item:only-child::after {width: 0;}#sk-2a9e18ba-c7d5-47c2-83b1-0e48a14908fa div.sk-dashed-wrapped {border: 1px dashed gray;margin: 0 0.4em 0.5em 0.4em;box-sizing: border-box;padding-bottom: 0.4em;background-color: white;position: relative;}#sk-2a9e18ba-c7d5-47c2-83b1-0e48a14908fa div.sk-label label {font-family: monospace;font-weight: bold;background-color: white;display: inline-block;line-height: 1.2em;}#sk-2a9e18ba-c7d5-47c2-83b1-0e48a14908fa div.sk-label-container {position: relative;z-index: 2;text-align: center;}#sk-2a9e18ba-c7d5-47c2-83b1-0e48a14908fa div.sk-container {/* jupyter's `normalize.less` sets `[hidden] { display: none; }` but bootstrap.min.css set `[hidden] { display: none !important; }` so we also need the `!important` here to be able to override the default hidden behavior on the sphinx rendered scikit-learn.org. See: https://github.com/scikit-learn/scikit-learn/issues/21755 */display: inline-block !important;position: relative;}#sk-2a9e18ba-c7d5-47c2-83b1-0e48a14908fa div.sk-text-repr-fallback {display: none;}</style><div id=\"sk-2a9e18ba-c7d5-47c2-83b1-0e48a14908fa\" class=\"sk-top-container\"><div class=\"sk-text-repr-fallback\"><pre>Pipeline(steps=[(&#x27;imputation_mean&#x27;,\n",
       "                 SimpleImputer(fill_value=&#x27;missing&#x27;, strategy=&#x27;constant&#x27;)),\n",
       "                (&#x27;onehot&#x27;, OneHotEncoder(handle_unknown=&#x27;ignore&#x27;))])</pre><b>Please rerun this cell to show the HTML repr or trust the notebook.</b></div><div class=\"sk-container\" hidden><div class=\"sk-item sk-dashed-wrapped\"><div class=\"sk-label-container\"><div class=\"sk-label sk-toggleable\"><input class=\"sk-toggleable__control sk-hidden--visually\" id=\"e4ce201d-7cee-4dc0-8f8e-23655df9d69f\" type=\"checkbox\" ><label for=\"e4ce201d-7cee-4dc0-8f8e-23655df9d69f\" class=\"sk-toggleable__label sk-toggleable__label-arrow\">Pipeline</label><div class=\"sk-toggleable__content\"><pre>Pipeline(steps=[(&#x27;imputation_mean&#x27;,\n",
       "                 SimpleImputer(fill_value=&#x27;missing&#x27;, strategy=&#x27;constant&#x27;)),\n",
       "                (&#x27;onehot&#x27;, OneHotEncoder(handle_unknown=&#x27;ignore&#x27;))])</pre></div></div></div><div class=\"sk-serial\"><div class=\"sk-item\"><div class=\"sk-estimator sk-toggleable\"><input class=\"sk-toggleable__control sk-hidden--visually\" id=\"624967cc-6855-4c46-a0d7-bd0203038659\" type=\"checkbox\" ><label for=\"624967cc-6855-4c46-a0d7-bd0203038659\" class=\"sk-toggleable__label sk-toggleable__label-arrow\">SimpleImputer</label><div class=\"sk-toggleable__content\"><pre>SimpleImputer(fill_value=&#x27;missing&#x27;, strategy=&#x27;constant&#x27;)</pre></div></div></div><div class=\"sk-item\"><div class=\"sk-estimator sk-toggleable\"><input class=\"sk-toggleable__control sk-hidden--visually\" id=\"6ef9b66d-9064-4c60-90b1-70860daa6fa9\" type=\"checkbox\" ><label for=\"6ef9b66d-9064-4c60-90b1-70860daa6fa9\" class=\"sk-toggleable__label sk-toggleable__label-arrow\">OneHotEncoder</label><div class=\"sk-toggleable__content\"><pre>OneHotEncoder(handle_unknown=&#x27;ignore&#x27;)</pre></div></div></div></div></div></div></div>"
      ],
      "text/plain": [
       "Pipeline(steps=[('imputation_mean',\n",
       "                 SimpleImputer(fill_value='missing', strategy='constant')),\n",
       "                ('onehot', OneHotEncoder(handle_unknown='ignore'))])"
      ]
     },
     "execution_count": 133,
     "metadata": {},
     "output_type": "execute_result"
    }
   ],
   "source": [
    "categorical_processor"
   ]
  },
  {
   "cell_type": "code",
   "execution_count": 134,
   "id": "5b8bb4c6",
   "metadata": {},
   "outputs": [],
   "source": [
    "preprocessor=ColumnTransformer([\n",
    "    (\"categorical\",categorical_processor,['sex','smoker','day','time']),\n",
    "    (\"numerical\",numeric_processor,['tip','size'])])"
   ]
  },
  {
   "cell_type": "code",
   "execution_count": 135,
   "id": "ea857b6e",
   "metadata": {},
   "outputs": [
    {
     "data": {
      "text/html": [
       "<style>#sk-d37f69b7-fbef-4e9b-a004-ba29659f96f1 {color: black;background-color: white;}#sk-d37f69b7-fbef-4e9b-a004-ba29659f96f1 pre{padding: 0;}#sk-d37f69b7-fbef-4e9b-a004-ba29659f96f1 div.sk-toggleable {background-color: white;}#sk-d37f69b7-fbef-4e9b-a004-ba29659f96f1 label.sk-toggleable__label {cursor: pointer;display: block;width: 100%;margin-bottom: 0;padding: 0.3em;box-sizing: border-box;text-align: center;}#sk-d37f69b7-fbef-4e9b-a004-ba29659f96f1 label.sk-toggleable__label-arrow:before {content: \"▸\";float: left;margin-right: 0.25em;color: #696969;}#sk-d37f69b7-fbef-4e9b-a004-ba29659f96f1 label.sk-toggleable__label-arrow:hover:before {color: black;}#sk-d37f69b7-fbef-4e9b-a004-ba29659f96f1 div.sk-estimator:hover label.sk-toggleable__label-arrow:before {color: black;}#sk-d37f69b7-fbef-4e9b-a004-ba29659f96f1 div.sk-toggleable__content {max-height: 0;max-width: 0;overflow: hidden;text-align: left;background-color: #f0f8ff;}#sk-d37f69b7-fbef-4e9b-a004-ba29659f96f1 div.sk-toggleable__content pre {margin: 0.2em;color: black;border-radius: 0.25em;background-color: #f0f8ff;}#sk-d37f69b7-fbef-4e9b-a004-ba29659f96f1 input.sk-toggleable__control:checked~div.sk-toggleable__content {max-height: 200px;max-width: 100%;overflow: auto;}#sk-d37f69b7-fbef-4e9b-a004-ba29659f96f1 input.sk-toggleable__control:checked~label.sk-toggleable__label-arrow:before {content: \"▾\";}#sk-d37f69b7-fbef-4e9b-a004-ba29659f96f1 div.sk-estimator input.sk-toggleable__control:checked~label.sk-toggleable__label {background-color: #d4ebff;}#sk-d37f69b7-fbef-4e9b-a004-ba29659f96f1 div.sk-label input.sk-toggleable__control:checked~label.sk-toggleable__label {background-color: #d4ebff;}#sk-d37f69b7-fbef-4e9b-a004-ba29659f96f1 input.sk-hidden--visually {border: 0;clip: rect(1px 1px 1px 1px);clip: rect(1px, 1px, 1px, 1px);height: 1px;margin: -1px;overflow: hidden;padding: 0;position: absolute;width: 1px;}#sk-d37f69b7-fbef-4e9b-a004-ba29659f96f1 div.sk-estimator {font-family: monospace;background-color: #f0f8ff;border: 1px dotted black;border-radius: 0.25em;box-sizing: border-box;margin-bottom: 0.5em;}#sk-d37f69b7-fbef-4e9b-a004-ba29659f96f1 div.sk-estimator:hover {background-color: #d4ebff;}#sk-d37f69b7-fbef-4e9b-a004-ba29659f96f1 div.sk-parallel-item::after {content: \"\";width: 100%;border-bottom: 1px solid gray;flex-grow: 1;}#sk-d37f69b7-fbef-4e9b-a004-ba29659f96f1 div.sk-label:hover label.sk-toggleable__label {background-color: #d4ebff;}#sk-d37f69b7-fbef-4e9b-a004-ba29659f96f1 div.sk-serial::before {content: \"\";position: absolute;border-left: 1px solid gray;box-sizing: border-box;top: 2em;bottom: 0;left: 50%;}#sk-d37f69b7-fbef-4e9b-a004-ba29659f96f1 div.sk-serial {display: flex;flex-direction: column;align-items: center;background-color: white;padding-right: 0.2em;padding-left: 0.2em;}#sk-d37f69b7-fbef-4e9b-a004-ba29659f96f1 div.sk-item {z-index: 1;}#sk-d37f69b7-fbef-4e9b-a004-ba29659f96f1 div.sk-parallel {display: flex;align-items: stretch;justify-content: center;background-color: white;}#sk-d37f69b7-fbef-4e9b-a004-ba29659f96f1 div.sk-parallel::before {content: \"\";position: absolute;border-left: 1px solid gray;box-sizing: border-box;top: 2em;bottom: 0;left: 50%;}#sk-d37f69b7-fbef-4e9b-a004-ba29659f96f1 div.sk-parallel-item {display: flex;flex-direction: column;position: relative;background-color: white;}#sk-d37f69b7-fbef-4e9b-a004-ba29659f96f1 div.sk-parallel-item:first-child::after {align-self: flex-end;width: 50%;}#sk-d37f69b7-fbef-4e9b-a004-ba29659f96f1 div.sk-parallel-item:last-child::after {align-self: flex-start;width: 50%;}#sk-d37f69b7-fbef-4e9b-a004-ba29659f96f1 div.sk-parallel-item:only-child::after {width: 0;}#sk-d37f69b7-fbef-4e9b-a004-ba29659f96f1 div.sk-dashed-wrapped {border: 1px dashed gray;margin: 0 0.4em 0.5em 0.4em;box-sizing: border-box;padding-bottom: 0.4em;background-color: white;position: relative;}#sk-d37f69b7-fbef-4e9b-a004-ba29659f96f1 div.sk-label label {font-family: monospace;font-weight: bold;background-color: white;display: inline-block;line-height: 1.2em;}#sk-d37f69b7-fbef-4e9b-a004-ba29659f96f1 div.sk-label-container {position: relative;z-index: 2;text-align: center;}#sk-d37f69b7-fbef-4e9b-a004-ba29659f96f1 div.sk-container {/* jupyter's `normalize.less` sets `[hidden] { display: none; }` but bootstrap.min.css set `[hidden] { display: none !important; }` so we also need the `!important` here to be able to override the default hidden behavior on the sphinx rendered scikit-learn.org. See: https://github.com/scikit-learn/scikit-learn/issues/21755 */display: inline-block !important;position: relative;}#sk-d37f69b7-fbef-4e9b-a004-ba29659f96f1 div.sk-text-repr-fallback {display: none;}</style><div id=\"sk-d37f69b7-fbef-4e9b-a004-ba29659f96f1\" class=\"sk-top-container\"><div class=\"sk-text-repr-fallback\"><pre>ColumnTransformer(transformers=[(&#x27;categorical&#x27;,\n",
       "                                 Pipeline(steps=[(&#x27;imputation_mean&#x27;,\n",
       "                                                  SimpleImputer(fill_value=&#x27;missing&#x27;,\n",
       "                                                                strategy=&#x27;constant&#x27;)),\n",
       "                                                 (&#x27;onehot&#x27;,\n",
       "                                                  OneHotEncoder(handle_unknown=&#x27;ignore&#x27;))]),\n",
       "                                 [&#x27;sex&#x27;, &#x27;smoker&#x27;, &#x27;day&#x27;, &#x27;time&#x27;]),\n",
       "                                (&#x27;numerical&#x27;,\n",
       "                                 Pipeline(steps=[(&#x27;imputation_mean&#x27;,\n",
       "                                                  SimpleImputer()),\n",
       "                                                 (&#x27;scale&#x27;, StandardScaler())]),\n",
       "                                 [&#x27;tip&#x27;, &#x27;size&#x27;])])</pre><b>Please rerun this cell to show the HTML repr or trust the notebook.</b></div><div class=\"sk-container\" hidden><div class=\"sk-item sk-dashed-wrapped\"><div class=\"sk-label-container\"><div class=\"sk-label sk-toggleable\"><input class=\"sk-toggleable__control sk-hidden--visually\" id=\"964e6460-62f3-4aa6-bed3-cf85450550de\" type=\"checkbox\" ><label for=\"964e6460-62f3-4aa6-bed3-cf85450550de\" class=\"sk-toggleable__label sk-toggleable__label-arrow\">ColumnTransformer</label><div class=\"sk-toggleable__content\"><pre>ColumnTransformer(transformers=[(&#x27;categorical&#x27;,\n",
       "                                 Pipeline(steps=[(&#x27;imputation_mean&#x27;,\n",
       "                                                  SimpleImputer(fill_value=&#x27;missing&#x27;,\n",
       "                                                                strategy=&#x27;constant&#x27;)),\n",
       "                                                 (&#x27;onehot&#x27;,\n",
       "                                                  OneHotEncoder(handle_unknown=&#x27;ignore&#x27;))]),\n",
       "                                 [&#x27;sex&#x27;, &#x27;smoker&#x27;, &#x27;day&#x27;, &#x27;time&#x27;]),\n",
       "                                (&#x27;numerical&#x27;,\n",
       "                                 Pipeline(steps=[(&#x27;imputation_mean&#x27;,\n",
       "                                                  SimpleImputer()),\n",
       "                                                 (&#x27;scale&#x27;, StandardScaler())]),\n",
       "                                 [&#x27;tip&#x27;, &#x27;size&#x27;])])</pre></div></div></div><div class=\"sk-parallel\"><div class=\"sk-parallel-item\"><div class=\"sk-item\"><div class=\"sk-label-container\"><div class=\"sk-label sk-toggleable\"><input class=\"sk-toggleable__control sk-hidden--visually\" id=\"f51a4ed9-b2c6-4188-b646-a7729c1727fb\" type=\"checkbox\" ><label for=\"f51a4ed9-b2c6-4188-b646-a7729c1727fb\" class=\"sk-toggleable__label sk-toggleable__label-arrow\">categorical</label><div class=\"sk-toggleable__content\"><pre>[&#x27;sex&#x27;, &#x27;smoker&#x27;, &#x27;day&#x27;, &#x27;time&#x27;]</pre></div></div></div><div class=\"sk-serial\"><div class=\"sk-item\"><div class=\"sk-serial\"><div class=\"sk-item\"><div class=\"sk-estimator sk-toggleable\"><input class=\"sk-toggleable__control sk-hidden--visually\" id=\"e13ca742-9428-42ac-b543-684ca568adc0\" type=\"checkbox\" ><label for=\"e13ca742-9428-42ac-b543-684ca568adc0\" class=\"sk-toggleable__label sk-toggleable__label-arrow\">SimpleImputer</label><div class=\"sk-toggleable__content\"><pre>SimpleImputer(fill_value=&#x27;missing&#x27;, strategy=&#x27;constant&#x27;)</pre></div></div></div><div class=\"sk-item\"><div class=\"sk-estimator sk-toggleable\"><input class=\"sk-toggleable__control sk-hidden--visually\" id=\"50b33c8f-ab3b-41d1-99ac-0d61a2e5c250\" type=\"checkbox\" ><label for=\"50b33c8f-ab3b-41d1-99ac-0d61a2e5c250\" class=\"sk-toggleable__label sk-toggleable__label-arrow\">OneHotEncoder</label><div class=\"sk-toggleable__content\"><pre>OneHotEncoder(handle_unknown=&#x27;ignore&#x27;)</pre></div></div></div></div></div></div></div></div><div class=\"sk-parallel-item\"><div class=\"sk-item\"><div class=\"sk-label-container\"><div class=\"sk-label sk-toggleable\"><input class=\"sk-toggleable__control sk-hidden--visually\" id=\"3f493846-6677-4a43-9263-61f9696e0191\" type=\"checkbox\" ><label for=\"3f493846-6677-4a43-9263-61f9696e0191\" class=\"sk-toggleable__label sk-toggleable__label-arrow\">numerical</label><div class=\"sk-toggleable__content\"><pre>[&#x27;tip&#x27;, &#x27;size&#x27;]</pre></div></div></div><div class=\"sk-serial\"><div class=\"sk-item\"><div class=\"sk-serial\"><div class=\"sk-item\"><div class=\"sk-estimator sk-toggleable\"><input class=\"sk-toggleable__control sk-hidden--visually\" id=\"886bfa32-4bf9-4f22-866d-798c3641b24b\" type=\"checkbox\" ><label for=\"886bfa32-4bf9-4f22-866d-798c3641b24b\" class=\"sk-toggleable__label sk-toggleable__label-arrow\">SimpleImputer</label><div class=\"sk-toggleable__content\"><pre>SimpleImputer()</pre></div></div></div><div class=\"sk-item\"><div class=\"sk-estimator sk-toggleable\"><input class=\"sk-toggleable__control sk-hidden--visually\" id=\"92e0f02e-74ad-48ca-8890-278bb06f1c53\" type=\"checkbox\" ><label for=\"92e0f02e-74ad-48ca-8890-278bb06f1c53\" class=\"sk-toggleable__label sk-toggleable__label-arrow\">StandardScaler</label><div class=\"sk-toggleable__content\"><pre>StandardScaler()</pre></div></div></div></div></div></div></div></div></div></div></div></div>"
      ],
      "text/plain": [
       "ColumnTransformer(transformers=[('categorical',\n",
       "                                 Pipeline(steps=[('imputation_mean',\n",
       "                                                  SimpleImputer(fill_value='missing',\n",
       "                                                                strategy='constant')),\n",
       "                                                 ('onehot',\n",
       "                                                  OneHotEncoder(handle_unknown='ignore'))]),\n",
       "                                 ['sex', 'smoker', 'day', 'time']),\n",
       "                                ('numerical',\n",
       "                                 Pipeline(steps=[('imputation_mean',\n",
       "                                                  SimpleImputer()),\n",
       "                                                 ('scale', StandardScaler())]),\n",
       "                                 ['tip', 'size'])])"
      ]
     },
     "execution_count": 135,
     "metadata": {},
     "output_type": "execute_result"
    }
   ],
   "source": [
    "preprocessor"
   ]
  },
  {
   "cell_type": "code",
   "execution_count": 136,
   "id": "2aaf7092",
   "metadata": {},
   "outputs": [],
   "source": [
    "pipe=Pipeline(\n",
    "    steps=[('preprocessor',preprocessor),(\"regressor\",RandomForestRegressor())])"
   ]
  },
  {
   "cell_type": "code",
   "execution_count": 137,
   "id": "1ec17e25",
   "metadata": {},
   "outputs": [
    {
     "data": {
      "text/html": [
       "<style>#sk-4cb9796f-010a-4630-ab67-cc984f85cff5 {color: black;background-color: white;}#sk-4cb9796f-010a-4630-ab67-cc984f85cff5 pre{padding: 0;}#sk-4cb9796f-010a-4630-ab67-cc984f85cff5 div.sk-toggleable {background-color: white;}#sk-4cb9796f-010a-4630-ab67-cc984f85cff5 label.sk-toggleable__label {cursor: pointer;display: block;width: 100%;margin-bottom: 0;padding: 0.3em;box-sizing: border-box;text-align: center;}#sk-4cb9796f-010a-4630-ab67-cc984f85cff5 label.sk-toggleable__label-arrow:before {content: \"▸\";float: left;margin-right: 0.25em;color: #696969;}#sk-4cb9796f-010a-4630-ab67-cc984f85cff5 label.sk-toggleable__label-arrow:hover:before {color: black;}#sk-4cb9796f-010a-4630-ab67-cc984f85cff5 div.sk-estimator:hover label.sk-toggleable__label-arrow:before {color: black;}#sk-4cb9796f-010a-4630-ab67-cc984f85cff5 div.sk-toggleable__content {max-height: 0;max-width: 0;overflow: hidden;text-align: left;background-color: #f0f8ff;}#sk-4cb9796f-010a-4630-ab67-cc984f85cff5 div.sk-toggleable__content pre {margin: 0.2em;color: black;border-radius: 0.25em;background-color: #f0f8ff;}#sk-4cb9796f-010a-4630-ab67-cc984f85cff5 input.sk-toggleable__control:checked~div.sk-toggleable__content {max-height: 200px;max-width: 100%;overflow: auto;}#sk-4cb9796f-010a-4630-ab67-cc984f85cff5 input.sk-toggleable__control:checked~label.sk-toggleable__label-arrow:before {content: \"▾\";}#sk-4cb9796f-010a-4630-ab67-cc984f85cff5 div.sk-estimator input.sk-toggleable__control:checked~label.sk-toggleable__label {background-color: #d4ebff;}#sk-4cb9796f-010a-4630-ab67-cc984f85cff5 div.sk-label input.sk-toggleable__control:checked~label.sk-toggleable__label {background-color: #d4ebff;}#sk-4cb9796f-010a-4630-ab67-cc984f85cff5 input.sk-hidden--visually {border: 0;clip: rect(1px 1px 1px 1px);clip: rect(1px, 1px, 1px, 1px);height: 1px;margin: -1px;overflow: hidden;padding: 0;position: absolute;width: 1px;}#sk-4cb9796f-010a-4630-ab67-cc984f85cff5 div.sk-estimator {font-family: monospace;background-color: #f0f8ff;border: 1px dotted black;border-radius: 0.25em;box-sizing: border-box;margin-bottom: 0.5em;}#sk-4cb9796f-010a-4630-ab67-cc984f85cff5 div.sk-estimator:hover {background-color: #d4ebff;}#sk-4cb9796f-010a-4630-ab67-cc984f85cff5 div.sk-parallel-item::after {content: \"\";width: 100%;border-bottom: 1px solid gray;flex-grow: 1;}#sk-4cb9796f-010a-4630-ab67-cc984f85cff5 div.sk-label:hover label.sk-toggleable__label {background-color: #d4ebff;}#sk-4cb9796f-010a-4630-ab67-cc984f85cff5 div.sk-serial::before {content: \"\";position: absolute;border-left: 1px solid gray;box-sizing: border-box;top: 2em;bottom: 0;left: 50%;}#sk-4cb9796f-010a-4630-ab67-cc984f85cff5 div.sk-serial {display: flex;flex-direction: column;align-items: center;background-color: white;padding-right: 0.2em;padding-left: 0.2em;}#sk-4cb9796f-010a-4630-ab67-cc984f85cff5 div.sk-item {z-index: 1;}#sk-4cb9796f-010a-4630-ab67-cc984f85cff5 div.sk-parallel {display: flex;align-items: stretch;justify-content: center;background-color: white;}#sk-4cb9796f-010a-4630-ab67-cc984f85cff5 div.sk-parallel::before {content: \"\";position: absolute;border-left: 1px solid gray;box-sizing: border-box;top: 2em;bottom: 0;left: 50%;}#sk-4cb9796f-010a-4630-ab67-cc984f85cff5 div.sk-parallel-item {display: flex;flex-direction: column;position: relative;background-color: white;}#sk-4cb9796f-010a-4630-ab67-cc984f85cff5 div.sk-parallel-item:first-child::after {align-self: flex-end;width: 50%;}#sk-4cb9796f-010a-4630-ab67-cc984f85cff5 div.sk-parallel-item:last-child::after {align-self: flex-start;width: 50%;}#sk-4cb9796f-010a-4630-ab67-cc984f85cff5 div.sk-parallel-item:only-child::after {width: 0;}#sk-4cb9796f-010a-4630-ab67-cc984f85cff5 div.sk-dashed-wrapped {border: 1px dashed gray;margin: 0 0.4em 0.5em 0.4em;box-sizing: border-box;padding-bottom: 0.4em;background-color: white;position: relative;}#sk-4cb9796f-010a-4630-ab67-cc984f85cff5 div.sk-label label {font-family: monospace;font-weight: bold;background-color: white;display: inline-block;line-height: 1.2em;}#sk-4cb9796f-010a-4630-ab67-cc984f85cff5 div.sk-label-container {position: relative;z-index: 2;text-align: center;}#sk-4cb9796f-010a-4630-ab67-cc984f85cff5 div.sk-container {/* jupyter's `normalize.less` sets `[hidden] { display: none; }` but bootstrap.min.css set `[hidden] { display: none !important; }` so we also need the `!important` here to be able to override the default hidden behavior on the sphinx rendered scikit-learn.org. See: https://github.com/scikit-learn/scikit-learn/issues/21755 */display: inline-block !important;position: relative;}#sk-4cb9796f-010a-4630-ab67-cc984f85cff5 div.sk-text-repr-fallback {display: none;}</style><div id=\"sk-4cb9796f-010a-4630-ab67-cc984f85cff5\" class=\"sk-top-container\"><div class=\"sk-text-repr-fallback\"><pre>Pipeline(steps=[(&#x27;preprocessor&#x27;,\n",
       "                 ColumnTransformer(transformers=[(&#x27;categorical&#x27;,\n",
       "                                                  Pipeline(steps=[(&#x27;imputation_mean&#x27;,\n",
       "                                                                   SimpleImputer(fill_value=&#x27;missing&#x27;,\n",
       "                                                                                 strategy=&#x27;constant&#x27;)),\n",
       "                                                                  (&#x27;onehot&#x27;,\n",
       "                                                                   OneHotEncoder(handle_unknown=&#x27;ignore&#x27;))]),\n",
       "                                                  [&#x27;sex&#x27;, &#x27;smoker&#x27;, &#x27;day&#x27;,\n",
       "                                                   &#x27;time&#x27;]),\n",
       "                                                 (&#x27;numerical&#x27;,\n",
       "                                                  Pipeline(steps=[(&#x27;imputation_mean&#x27;,\n",
       "                                                                   SimpleImputer()),\n",
       "                                                                  (&#x27;scale&#x27;,\n",
       "                                                                   StandardScaler())]),\n",
       "                                                  [&#x27;tip&#x27;, &#x27;size&#x27;])])),\n",
       "                (&#x27;regressor&#x27;, RandomForestRegressor())])</pre><b>Please rerun this cell to show the HTML repr or trust the notebook.</b></div><div class=\"sk-container\" hidden><div class=\"sk-item sk-dashed-wrapped\"><div class=\"sk-label-container\"><div class=\"sk-label sk-toggleable\"><input class=\"sk-toggleable__control sk-hidden--visually\" id=\"ffd71451-425f-4230-8e39-a2caedb81dd2\" type=\"checkbox\" ><label for=\"ffd71451-425f-4230-8e39-a2caedb81dd2\" class=\"sk-toggleable__label sk-toggleable__label-arrow\">Pipeline</label><div class=\"sk-toggleable__content\"><pre>Pipeline(steps=[(&#x27;preprocessor&#x27;,\n",
       "                 ColumnTransformer(transformers=[(&#x27;categorical&#x27;,\n",
       "                                                  Pipeline(steps=[(&#x27;imputation_mean&#x27;,\n",
       "                                                                   SimpleImputer(fill_value=&#x27;missing&#x27;,\n",
       "                                                                                 strategy=&#x27;constant&#x27;)),\n",
       "                                                                  (&#x27;onehot&#x27;,\n",
       "                                                                   OneHotEncoder(handle_unknown=&#x27;ignore&#x27;))]),\n",
       "                                                  [&#x27;sex&#x27;, &#x27;smoker&#x27;, &#x27;day&#x27;,\n",
       "                                                   &#x27;time&#x27;]),\n",
       "                                                 (&#x27;numerical&#x27;,\n",
       "                                                  Pipeline(steps=[(&#x27;imputation_mean&#x27;,\n",
       "                                                                   SimpleImputer()),\n",
       "                                                                  (&#x27;scale&#x27;,\n",
       "                                                                   StandardScaler())]),\n",
       "                                                  [&#x27;tip&#x27;, &#x27;size&#x27;])])),\n",
       "                (&#x27;regressor&#x27;, RandomForestRegressor())])</pre></div></div></div><div class=\"sk-serial\"><div class=\"sk-item sk-dashed-wrapped\"><div class=\"sk-label-container\"><div class=\"sk-label sk-toggleable\"><input class=\"sk-toggleable__control sk-hidden--visually\" id=\"dfbd91f4-c1f7-4ad8-98e7-665e6e621092\" type=\"checkbox\" ><label for=\"dfbd91f4-c1f7-4ad8-98e7-665e6e621092\" class=\"sk-toggleable__label sk-toggleable__label-arrow\">preprocessor: ColumnTransformer</label><div class=\"sk-toggleable__content\"><pre>ColumnTransformer(transformers=[(&#x27;categorical&#x27;,\n",
       "                                 Pipeline(steps=[(&#x27;imputation_mean&#x27;,\n",
       "                                                  SimpleImputer(fill_value=&#x27;missing&#x27;,\n",
       "                                                                strategy=&#x27;constant&#x27;)),\n",
       "                                                 (&#x27;onehot&#x27;,\n",
       "                                                  OneHotEncoder(handle_unknown=&#x27;ignore&#x27;))]),\n",
       "                                 [&#x27;sex&#x27;, &#x27;smoker&#x27;, &#x27;day&#x27;, &#x27;time&#x27;]),\n",
       "                                (&#x27;numerical&#x27;,\n",
       "                                 Pipeline(steps=[(&#x27;imputation_mean&#x27;,\n",
       "                                                  SimpleImputer()),\n",
       "                                                 (&#x27;scale&#x27;, StandardScaler())]),\n",
       "                                 [&#x27;tip&#x27;, &#x27;size&#x27;])])</pre></div></div></div><div class=\"sk-parallel\"><div class=\"sk-parallel-item\"><div class=\"sk-item\"><div class=\"sk-label-container\"><div class=\"sk-label sk-toggleable\"><input class=\"sk-toggleable__control sk-hidden--visually\" id=\"a275ded4-5999-40cc-8b99-acf9a4954f4d\" type=\"checkbox\" ><label for=\"a275ded4-5999-40cc-8b99-acf9a4954f4d\" class=\"sk-toggleable__label sk-toggleable__label-arrow\">categorical</label><div class=\"sk-toggleable__content\"><pre>[&#x27;sex&#x27;, &#x27;smoker&#x27;, &#x27;day&#x27;, &#x27;time&#x27;]</pre></div></div></div><div class=\"sk-serial\"><div class=\"sk-item\"><div class=\"sk-serial\"><div class=\"sk-item\"><div class=\"sk-estimator sk-toggleable\"><input class=\"sk-toggleable__control sk-hidden--visually\" id=\"fa5561b0-25fc-4aa7-bda6-ea40eaa7ba7d\" type=\"checkbox\" ><label for=\"fa5561b0-25fc-4aa7-bda6-ea40eaa7ba7d\" class=\"sk-toggleable__label sk-toggleable__label-arrow\">SimpleImputer</label><div class=\"sk-toggleable__content\"><pre>SimpleImputer(fill_value=&#x27;missing&#x27;, strategy=&#x27;constant&#x27;)</pre></div></div></div><div class=\"sk-item\"><div class=\"sk-estimator sk-toggleable\"><input class=\"sk-toggleable__control sk-hidden--visually\" id=\"bd6b7fc9-f383-45f3-8838-fbcbc41deb7f\" type=\"checkbox\" ><label for=\"bd6b7fc9-f383-45f3-8838-fbcbc41deb7f\" class=\"sk-toggleable__label sk-toggleable__label-arrow\">OneHotEncoder</label><div class=\"sk-toggleable__content\"><pre>OneHotEncoder(handle_unknown=&#x27;ignore&#x27;)</pre></div></div></div></div></div></div></div></div><div class=\"sk-parallel-item\"><div class=\"sk-item\"><div class=\"sk-label-container\"><div class=\"sk-label sk-toggleable\"><input class=\"sk-toggleable__control sk-hidden--visually\" id=\"5abd39cd-8e72-4759-8a0e-a1c052f6e866\" type=\"checkbox\" ><label for=\"5abd39cd-8e72-4759-8a0e-a1c052f6e866\" class=\"sk-toggleable__label sk-toggleable__label-arrow\">numerical</label><div class=\"sk-toggleable__content\"><pre>[&#x27;tip&#x27;, &#x27;size&#x27;]</pre></div></div></div><div class=\"sk-serial\"><div class=\"sk-item\"><div class=\"sk-serial\"><div class=\"sk-item\"><div class=\"sk-estimator sk-toggleable\"><input class=\"sk-toggleable__control sk-hidden--visually\" id=\"3a18991a-c727-490d-86ff-a282031eedfb\" type=\"checkbox\" ><label for=\"3a18991a-c727-490d-86ff-a282031eedfb\" class=\"sk-toggleable__label sk-toggleable__label-arrow\">SimpleImputer</label><div class=\"sk-toggleable__content\"><pre>SimpleImputer()</pre></div></div></div><div class=\"sk-item\"><div class=\"sk-estimator sk-toggleable\"><input class=\"sk-toggleable__control sk-hidden--visually\" id=\"16c814ff-c864-4472-8a4a-0cfd595e9e3b\" type=\"checkbox\" ><label for=\"16c814ff-c864-4472-8a4a-0cfd595e9e3b\" class=\"sk-toggleable__label sk-toggleable__label-arrow\">StandardScaler</label><div class=\"sk-toggleable__content\"><pre>StandardScaler()</pre></div></div></div></div></div></div></div></div></div></div><div class=\"sk-item\"><div class=\"sk-estimator sk-toggleable\"><input class=\"sk-toggleable__control sk-hidden--visually\" id=\"656898de-7cd0-45dc-bb28-0b63a4c53e59\" type=\"checkbox\" ><label for=\"656898de-7cd0-45dc-bb28-0b63a4c53e59\" class=\"sk-toggleable__label sk-toggleable__label-arrow\">RandomForestRegressor</label><div class=\"sk-toggleable__content\"><pre>RandomForestRegressor()</pre></div></div></div></div></div></div></div>"
      ],
      "text/plain": [
       "Pipeline(steps=[('preprocessor',\n",
       "                 ColumnTransformer(transformers=[('categorical',\n",
       "                                                  Pipeline(steps=[('imputation_mean',\n",
       "                                                                   SimpleImputer(fill_value='missing',\n",
       "                                                                                 strategy='constant')),\n",
       "                                                                  ('onehot',\n",
       "                                                                   OneHotEncoder(handle_unknown='ignore'))]),\n",
       "                                                  ['sex', 'smoker', 'day',\n",
       "                                                   'time']),\n",
       "                                                 ('numerical',\n",
       "                                                  Pipeline(steps=[('imputation_mean',\n",
       "                                                                   SimpleImputer()),\n",
       "                                                                  ('scale',\n",
       "                                                                   StandardScaler())]),\n",
       "                                                  ['tip', 'size'])])),\n",
       "                ('regressor', RandomForestRegressor())])"
      ]
     },
     "execution_count": 137,
     "metadata": {},
     "output_type": "execute_result"
    }
   ],
   "source": [
    "pipe"
   ]
  },
  {
   "cell_type": "code",
   "execution_count": 138,
   "id": "36b51c6e",
   "metadata": {},
   "outputs": [],
   "source": [
    "from sklearn import set_config"
   ]
  },
  {
   "cell_type": "code",
   "execution_count": 139,
   "id": "4dd2957f",
   "metadata": {},
   "outputs": [],
   "source": [
    "set_config(display='diagram')"
   ]
  },
  {
   "cell_type": "code",
   "execution_count": 140,
   "id": "11ef3bd0",
   "metadata": {},
   "outputs": [
    {
     "data": {
      "text/html": [
       "<style>#sk-e66edaa6-1573-462f-abad-6914a7813aa3 {color: black;background-color: white;}#sk-e66edaa6-1573-462f-abad-6914a7813aa3 pre{padding: 0;}#sk-e66edaa6-1573-462f-abad-6914a7813aa3 div.sk-toggleable {background-color: white;}#sk-e66edaa6-1573-462f-abad-6914a7813aa3 label.sk-toggleable__label {cursor: pointer;display: block;width: 100%;margin-bottom: 0;padding: 0.3em;box-sizing: border-box;text-align: center;}#sk-e66edaa6-1573-462f-abad-6914a7813aa3 label.sk-toggleable__label-arrow:before {content: \"▸\";float: left;margin-right: 0.25em;color: #696969;}#sk-e66edaa6-1573-462f-abad-6914a7813aa3 label.sk-toggleable__label-arrow:hover:before {color: black;}#sk-e66edaa6-1573-462f-abad-6914a7813aa3 div.sk-estimator:hover label.sk-toggleable__label-arrow:before {color: black;}#sk-e66edaa6-1573-462f-abad-6914a7813aa3 div.sk-toggleable__content {max-height: 0;max-width: 0;overflow: hidden;text-align: left;background-color: #f0f8ff;}#sk-e66edaa6-1573-462f-abad-6914a7813aa3 div.sk-toggleable__content pre {margin: 0.2em;color: black;border-radius: 0.25em;background-color: #f0f8ff;}#sk-e66edaa6-1573-462f-abad-6914a7813aa3 input.sk-toggleable__control:checked~div.sk-toggleable__content {max-height: 200px;max-width: 100%;overflow: auto;}#sk-e66edaa6-1573-462f-abad-6914a7813aa3 input.sk-toggleable__control:checked~label.sk-toggleable__label-arrow:before {content: \"▾\";}#sk-e66edaa6-1573-462f-abad-6914a7813aa3 div.sk-estimator input.sk-toggleable__control:checked~label.sk-toggleable__label {background-color: #d4ebff;}#sk-e66edaa6-1573-462f-abad-6914a7813aa3 div.sk-label input.sk-toggleable__control:checked~label.sk-toggleable__label {background-color: #d4ebff;}#sk-e66edaa6-1573-462f-abad-6914a7813aa3 input.sk-hidden--visually {border: 0;clip: rect(1px 1px 1px 1px);clip: rect(1px, 1px, 1px, 1px);height: 1px;margin: -1px;overflow: hidden;padding: 0;position: absolute;width: 1px;}#sk-e66edaa6-1573-462f-abad-6914a7813aa3 div.sk-estimator {font-family: monospace;background-color: #f0f8ff;border: 1px dotted black;border-radius: 0.25em;box-sizing: border-box;margin-bottom: 0.5em;}#sk-e66edaa6-1573-462f-abad-6914a7813aa3 div.sk-estimator:hover {background-color: #d4ebff;}#sk-e66edaa6-1573-462f-abad-6914a7813aa3 div.sk-parallel-item::after {content: \"\";width: 100%;border-bottom: 1px solid gray;flex-grow: 1;}#sk-e66edaa6-1573-462f-abad-6914a7813aa3 div.sk-label:hover label.sk-toggleable__label {background-color: #d4ebff;}#sk-e66edaa6-1573-462f-abad-6914a7813aa3 div.sk-serial::before {content: \"\";position: absolute;border-left: 1px solid gray;box-sizing: border-box;top: 2em;bottom: 0;left: 50%;}#sk-e66edaa6-1573-462f-abad-6914a7813aa3 div.sk-serial {display: flex;flex-direction: column;align-items: center;background-color: white;padding-right: 0.2em;padding-left: 0.2em;}#sk-e66edaa6-1573-462f-abad-6914a7813aa3 div.sk-item {z-index: 1;}#sk-e66edaa6-1573-462f-abad-6914a7813aa3 div.sk-parallel {display: flex;align-items: stretch;justify-content: center;background-color: white;}#sk-e66edaa6-1573-462f-abad-6914a7813aa3 div.sk-parallel::before {content: \"\";position: absolute;border-left: 1px solid gray;box-sizing: border-box;top: 2em;bottom: 0;left: 50%;}#sk-e66edaa6-1573-462f-abad-6914a7813aa3 div.sk-parallel-item {display: flex;flex-direction: column;position: relative;background-color: white;}#sk-e66edaa6-1573-462f-abad-6914a7813aa3 div.sk-parallel-item:first-child::after {align-self: flex-end;width: 50%;}#sk-e66edaa6-1573-462f-abad-6914a7813aa3 div.sk-parallel-item:last-child::after {align-self: flex-start;width: 50%;}#sk-e66edaa6-1573-462f-abad-6914a7813aa3 div.sk-parallel-item:only-child::after {width: 0;}#sk-e66edaa6-1573-462f-abad-6914a7813aa3 div.sk-dashed-wrapped {border: 1px dashed gray;margin: 0 0.4em 0.5em 0.4em;box-sizing: border-box;padding-bottom: 0.4em;background-color: white;position: relative;}#sk-e66edaa6-1573-462f-abad-6914a7813aa3 div.sk-label label {font-family: monospace;font-weight: bold;background-color: white;display: inline-block;line-height: 1.2em;}#sk-e66edaa6-1573-462f-abad-6914a7813aa3 div.sk-label-container {position: relative;z-index: 2;text-align: center;}#sk-e66edaa6-1573-462f-abad-6914a7813aa3 div.sk-container {/* jupyter's `normalize.less` sets `[hidden] { display: none; }` but bootstrap.min.css set `[hidden] { display: none !important; }` so we also need the `!important` here to be able to override the default hidden behavior on the sphinx rendered scikit-learn.org. See: https://github.com/scikit-learn/scikit-learn/issues/21755 */display: inline-block !important;position: relative;}#sk-e66edaa6-1573-462f-abad-6914a7813aa3 div.sk-text-repr-fallback {display: none;}</style><div id=\"sk-e66edaa6-1573-462f-abad-6914a7813aa3\" class=\"sk-top-container\"><div class=\"sk-text-repr-fallback\"><pre>Pipeline(steps=[(&#x27;preprocessor&#x27;,\n",
       "                 ColumnTransformer(transformers=[(&#x27;categorical&#x27;,\n",
       "                                                  Pipeline(steps=[(&#x27;imputation_mean&#x27;,\n",
       "                                                                   SimpleImputer(fill_value=&#x27;missing&#x27;,\n",
       "                                                                                 strategy=&#x27;constant&#x27;)),\n",
       "                                                                  (&#x27;onehot&#x27;,\n",
       "                                                                   OneHotEncoder(handle_unknown=&#x27;ignore&#x27;))]),\n",
       "                                                  [&#x27;sex&#x27;, &#x27;smoker&#x27;, &#x27;day&#x27;,\n",
       "                                                   &#x27;time&#x27;]),\n",
       "                                                 (&#x27;numerical&#x27;,\n",
       "                                                  Pipeline(steps=[(&#x27;imputation_mean&#x27;,\n",
       "                                                                   SimpleImputer()),\n",
       "                                                                  (&#x27;scale&#x27;,\n",
       "                                                                   StandardScaler())]),\n",
       "                                                  [&#x27;tip&#x27;, &#x27;size&#x27;])])),\n",
       "                (&#x27;regressor&#x27;, RandomForestRegressor())])</pre><b>Please rerun this cell to show the HTML repr or trust the notebook.</b></div><div class=\"sk-container\" hidden><div class=\"sk-item sk-dashed-wrapped\"><div class=\"sk-label-container\"><div class=\"sk-label sk-toggleable\"><input class=\"sk-toggleable__control sk-hidden--visually\" id=\"9f906a6c-7014-4d24-9a8a-46e1ddc5be51\" type=\"checkbox\" ><label for=\"9f906a6c-7014-4d24-9a8a-46e1ddc5be51\" class=\"sk-toggleable__label sk-toggleable__label-arrow\">Pipeline</label><div class=\"sk-toggleable__content\"><pre>Pipeline(steps=[(&#x27;preprocessor&#x27;,\n",
       "                 ColumnTransformer(transformers=[(&#x27;categorical&#x27;,\n",
       "                                                  Pipeline(steps=[(&#x27;imputation_mean&#x27;,\n",
       "                                                                   SimpleImputer(fill_value=&#x27;missing&#x27;,\n",
       "                                                                                 strategy=&#x27;constant&#x27;)),\n",
       "                                                                  (&#x27;onehot&#x27;,\n",
       "                                                                   OneHotEncoder(handle_unknown=&#x27;ignore&#x27;))]),\n",
       "                                                  [&#x27;sex&#x27;, &#x27;smoker&#x27;, &#x27;day&#x27;,\n",
       "                                                   &#x27;time&#x27;]),\n",
       "                                                 (&#x27;numerical&#x27;,\n",
       "                                                  Pipeline(steps=[(&#x27;imputation_mean&#x27;,\n",
       "                                                                   SimpleImputer()),\n",
       "                                                                  (&#x27;scale&#x27;,\n",
       "                                                                   StandardScaler())]),\n",
       "                                                  [&#x27;tip&#x27;, &#x27;size&#x27;])])),\n",
       "                (&#x27;regressor&#x27;, RandomForestRegressor())])</pre></div></div></div><div class=\"sk-serial\"><div class=\"sk-item sk-dashed-wrapped\"><div class=\"sk-label-container\"><div class=\"sk-label sk-toggleable\"><input class=\"sk-toggleable__control sk-hidden--visually\" id=\"23906776-30ae-4327-af6f-c893e28462e5\" type=\"checkbox\" ><label for=\"23906776-30ae-4327-af6f-c893e28462e5\" class=\"sk-toggleable__label sk-toggleable__label-arrow\">preprocessor: ColumnTransformer</label><div class=\"sk-toggleable__content\"><pre>ColumnTransformer(transformers=[(&#x27;categorical&#x27;,\n",
       "                                 Pipeline(steps=[(&#x27;imputation_mean&#x27;,\n",
       "                                                  SimpleImputer(fill_value=&#x27;missing&#x27;,\n",
       "                                                                strategy=&#x27;constant&#x27;)),\n",
       "                                                 (&#x27;onehot&#x27;,\n",
       "                                                  OneHotEncoder(handle_unknown=&#x27;ignore&#x27;))]),\n",
       "                                 [&#x27;sex&#x27;, &#x27;smoker&#x27;, &#x27;day&#x27;, &#x27;time&#x27;]),\n",
       "                                (&#x27;numerical&#x27;,\n",
       "                                 Pipeline(steps=[(&#x27;imputation_mean&#x27;,\n",
       "                                                  SimpleImputer()),\n",
       "                                                 (&#x27;scale&#x27;, StandardScaler())]),\n",
       "                                 [&#x27;tip&#x27;, &#x27;size&#x27;])])</pre></div></div></div><div class=\"sk-parallel\"><div class=\"sk-parallel-item\"><div class=\"sk-item\"><div class=\"sk-label-container\"><div class=\"sk-label sk-toggleable\"><input class=\"sk-toggleable__control sk-hidden--visually\" id=\"8009dbda-93b2-4ecb-afad-11792a725e9e\" type=\"checkbox\" ><label for=\"8009dbda-93b2-4ecb-afad-11792a725e9e\" class=\"sk-toggleable__label sk-toggleable__label-arrow\">categorical</label><div class=\"sk-toggleable__content\"><pre>[&#x27;sex&#x27;, &#x27;smoker&#x27;, &#x27;day&#x27;, &#x27;time&#x27;]</pre></div></div></div><div class=\"sk-serial\"><div class=\"sk-item\"><div class=\"sk-serial\"><div class=\"sk-item\"><div class=\"sk-estimator sk-toggleable\"><input class=\"sk-toggleable__control sk-hidden--visually\" id=\"605747bb-056a-4fd0-8dad-9b1a3eb13579\" type=\"checkbox\" ><label for=\"605747bb-056a-4fd0-8dad-9b1a3eb13579\" class=\"sk-toggleable__label sk-toggleable__label-arrow\">SimpleImputer</label><div class=\"sk-toggleable__content\"><pre>SimpleImputer(fill_value=&#x27;missing&#x27;, strategy=&#x27;constant&#x27;)</pre></div></div></div><div class=\"sk-item\"><div class=\"sk-estimator sk-toggleable\"><input class=\"sk-toggleable__control sk-hidden--visually\" id=\"8a7d20dc-86f2-47bf-bce7-d009f8c8ab54\" type=\"checkbox\" ><label for=\"8a7d20dc-86f2-47bf-bce7-d009f8c8ab54\" class=\"sk-toggleable__label sk-toggleable__label-arrow\">OneHotEncoder</label><div class=\"sk-toggleable__content\"><pre>OneHotEncoder(handle_unknown=&#x27;ignore&#x27;)</pre></div></div></div></div></div></div></div></div><div class=\"sk-parallel-item\"><div class=\"sk-item\"><div class=\"sk-label-container\"><div class=\"sk-label sk-toggleable\"><input class=\"sk-toggleable__control sk-hidden--visually\" id=\"b61de2a4-4350-44ac-9954-0e7b1a5d40f1\" type=\"checkbox\" ><label for=\"b61de2a4-4350-44ac-9954-0e7b1a5d40f1\" class=\"sk-toggleable__label sk-toggleable__label-arrow\">numerical</label><div class=\"sk-toggleable__content\"><pre>[&#x27;tip&#x27;, &#x27;size&#x27;]</pre></div></div></div><div class=\"sk-serial\"><div class=\"sk-item\"><div class=\"sk-serial\"><div class=\"sk-item\"><div class=\"sk-estimator sk-toggleable\"><input class=\"sk-toggleable__control sk-hidden--visually\" id=\"6bc8151a-e215-4427-9fe8-d7fc2abe3ffc\" type=\"checkbox\" ><label for=\"6bc8151a-e215-4427-9fe8-d7fc2abe3ffc\" class=\"sk-toggleable__label sk-toggleable__label-arrow\">SimpleImputer</label><div class=\"sk-toggleable__content\"><pre>SimpleImputer()</pre></div></div></div><div class=\"sk-item\"><div class=\"sk-estimator sk-toggleable\"><input class=\"sk-toggleable__control sk-hidden--visually\" id=\"fc8aa517-9a8a-40c9-858b-035f4c4dce7e\" type=\"checkbox\" ><label for=\"fc8aa517-9a8a-40c9-858b-035f4c4dce7e\" class=\"sk-toggleable__label sk-toggleable__label-arrow\">StandardScaler</label><div class=\"sk-toggleable__content\"><pre>StandardScaler()</pre></div></div></div></div></div></div></div></div></div></div><div class=\"sk-item\"><div class=\"sk-estimator sk-toggleable\"><input class=\"sk-toggleable__control sk-hidden--visually\" id=\"19b5339d-e471-4ac9-a5b8-7b5dbfd166ad\" type=\"checkbox\" ><label for=\"19b5339d-e471-4ac9-a5b8-7b5dbfd166ad\" class=\"sk-toggleable__label sk-toggleable__label-arrow\">RandomForestRegressor</label><div class=\"sk-toggleable__content\"><pre>RandomForestRegressor()</pre></div></div></div></div></div></div></div>"
      ],
      "text/plain": [
       "Pipeline(steps=[('preprocessor',\n",
       "                 ColumnTransformer(transformers=[('categorical',\n",
       "                                                  Pipeline(steps=[('imputation_mean',\n",
       "                                                                   SimpleImputer(fill_value='missing',\n",
       "                                                                                 strategy='constant')),\n",
       "                                                                  ('onehot',\n",
       "                                                                   OneHotEncoder(handle_unknown='ignore'))]),\n",
       "                                                  ['sex', 'smoker', 'day',\n",
       "                                                   'time']),\n",
       "                                                 ('numerical',\n",
       "                                                  Pipeline(steps=[('imputation_mean',\n",
       "                                                                   SimpleImputer()),\n",
       "                                                                  ('scale',\n",
       "                                                                   StandardScaler())]),\n",
       "                                                  ['tip', 'size'])])),\n",
       "                ('regressor', RandomForestRegressor())])"
      ]
     },
     "execution_count": 140,
     "metadata": {},
     "output_type": "execute_result"
    }
   ],
   "source": [
    "pipe"
   ]
  },
  {
   "cell_type": "code",
   "execution_count": 141,
   "id": "6a93eea1",
   "metadata": {},
   "outputs": [
    {
     "data": {
      "text/html": [
       "<style>#sk-49e974e3-10cf-44ff-bf93-9868842011c2 {color: black;background-color: white;}#sk-49e974e3-10cf-44ff-bf93-9868842011c2 pre{padding: 0;}#sk-49e974e3-10cf-44ff-bf93-9868842011c2 div.sk-toggleable {background-color: white;}#sk-49e974e3-10cf-44ff-bf93-9868842011c2 label.sk-toggleable__label {cursor: pointer;display: block;width: 100%;margin-bottom: 0;padding: 0.3em;box-sizing: border-box;text-align: center;}#sk-49e974e3-10cf-44ff-bf93-9868842011c2 label.sk-toggleable__label-arrow:before {content: \"▸\";float: left;margin-right: 0.25em;color: #696969;}#sk-49e974e3-10cf-44ff-bf93-9868842011c2 label.sk-toggleable__label-arrow:hover:before {color: black;}#sk-49e974e3-10cf-44ff-bf93-9868842011c2 div.sk-estimator:hover label.sk-toggleable__label-arrow:before {color: black;}#sk-49e974e3-10cf-44ff-bf93-9868842011c2 div.sk-toggleable__content {max-height: 0;max-width: 0;overflow: hidden;text-align: left;background-color: #f0f8ff;}#sk-49e974e3-10cf-44ff-bf93-9868842011c2 div.sk-toggleable__content pre {margin: 0.2em;color: black;border-radius: 0.25em;background-color: #f0f8ff;}#sk-49e974e3-10cf-44ff-bf93-9868842011c2 input.sk-toggleable__control:checked~div.sk-toggleable__content {max-height: 200px;max-width: 100%;overflow: auto;}#sk-49e974e3-10cf-44ff-bf93-9868842011c2 input.sk-toggleable__control:checked~label.sk-toggleable__label-arrow:before {content: \"▾\";}#sk-49e974e3-10cf-44ff-bf93-9868842011c2 div.sk-estimator input.sk-toggleable__control:checked~label.sk-toggleable__label {background-color: #d4ebff;}#sk-49e974e3-10cf-44ff-bf93-9868842011c2 div.sk-label input.sk-toggleable__control:checked~label.sk-toggleable__label {background-color: #d4ebff;}#sk-49e974e3-10cf-44ff-bf93-9868842011c2 input.sk-hidden--visually {border: 0;clip: rect(1px 1px 1px 1px);clip: rect(1px, 1px, 1px, 1px);height: 1px;margin: -1px;overflow: hidden;padding: 0;position: absolute;width: 1px;}#sk-49e974e3-10cf-44ff-bf93-9868842011c2 div.sk-estimator {font-family: monospace;background-color: #f0f8ff;border: 1px dotted black;border-radius: 0.25em;box-sizing: border-box;margin-bottom: 0.5em;}#sk-49e974e3-10cf-44ff-bf93-9868842011c2 div.sk-estimator:hover {background-color: #d4ebff;}#sk-49e974e3-10cf-44ff-bf93-9868842011c2 div.sk-parallel-item::after {content: \"\";width: 100%;border-bottom: 1px solid gray;flex-grow: 1;}#sk-49e974e3-10cf-44ff-bf93-9868842011c2 div.sk-label:hover label.sk-toggleable__label {background-color: #d4ebff;}#sk-49e974e3-10cf-44ff-bf93-9868842011c2 div.sk-serial::before {content: \"\";position: absolute;border-left: 1px solid gray;box-sizing: border-box;top: 2em;bottom: 0;left: 50%;}#sk-49e974e3-10cf-44ff-bf93-9868842011c2 div.sk-serial {display: flex;flex-direction: column;align-items: center;background-color: white;padding-right: 0.2em;padding-left: 0.2em;}#sk-49e974e3-10cf-44ff-bf93-9868842011c2 div.sk-item {z-index: 1;}#sk-49e974e3-10cf-44ff-bf93-9868842011c2 div.sk-parallel {display: flex;align-items: stretch;justify-content: center;background-color: white;}#sk-49e974e3-10cf-44ff-bf93-9868842011c2 div.sk-parallel::before {content: \"\";position: absolute;border-left: 1px solid gray;box-sizing: border-box;top: 2em;bottom: 0;left: 50%;}#sk-49e974e3-10cf-44ff-bf93-9868842011c2 div.sk-parallel-item {display: flex;flex-direction: column;position: relative;background-color: white;}#sk-49e974e3-10cf-44ff-bf93-9868842011c2 div.sk-parallel-item:first-child::after {align-self: flex-end;width: 50%;}#sk-49e974e3-10cf-44ff-bf93-9868842011c2 div.sk-parallel-item:last-child::after {align-self: flex-start;width: 50%;}#sk-49e974e3-10cf-44ff-bf93-9868842011c2 div.sk-parallel-item:only-child::after {width: 0;}#sk-49e974e3-10cf-44ff-bf93-9868842011c2 div.sk-dashed-wrapped {border: 1px dashed gray;margin: 0 0.4em 0.5em 0.4em;box-sizing: border-box;padding-bottom: 0.4em;background-color: white;position: relative;}#sk-49e974e3-10cf-44ff-bf93-9868842011c2 div.sk-label label {font-family: monospace;font-weight: bold;background-color: white;display: inline-block;line-height: 1.2em;}#sk-49e974e3-10cf-44ff-bf93-9868842011c2 div.sk-label-container {position: relative;z-index: 2;text-align: center;}#sk-49e974e3-10cf-44ff-bf93-9868842011c2 div.sk-container {/* jupyter's `normalize.less` sets `[hidden] { display: none; }` but bootstrap.min.css set `[hidden] { display: none !important; }` so we also need the `!important` here to be able to override the default hidden behavior on the sphinx rendered scikit-learn.org. See: https://github.com/scikit-learn/scikit-learn/issues/21755 */display: inline-block !important;position: relative;}#sk-49e974e3-10cf-44ff-bf93-9868842011c2 div.sk-text-repr-fallback {display: none;}</style><div id=\"sk-49e974e3-10cf-44ff-bf93-9868842011c2\" class=\"sk-top-container\"><div class=\"sk-text-repr-fallback\"><pre>Pipeline(steps=[(&#x27;preprocessor&#x27;,\n",
       "                 ColumnTransformer(transformers=[(&#x27;categorical&#x27;,\n",
       "                                                  Pipeline(steps=[(&#x27;imputation_mean&#x27;,\n",
       "                                                                   SimpleImputer(fill_value=&#x27;missing&#x27;,\n",
       "                                                                                 strategy=&#x27;constant&#x27;)),\n",
       "                                                                  (&#x27;onehot&#x27;,\n",
       "                                                                   OneHotEncoder(handle_unknown=&#x27;ignore&#x27;))]),\n",
       "                                                  [&#x27;sex&#x27;, &#x27;smoker&#x27;, &#x27;day&#x27;,\n",
       "                                                   &#x27;time&#x27;]),\n",
       "                                                 (&#x27;numerical&#x27;,\n",
       "                                                  Pipeline(steps=[(&#x27;imputation_mean&#x27;,\n",
       "                                                                   SimpleImputer()),\n",
       "                                                                  (&#x27;scale&#x27;,\n",
       "                                                                   StandardScaler())]),\n",
       "                                                  [&#x27;tip&#x27;, &#x27;size&#x27;])])),\n",
       "                (&#x27;regressor&#x27;, RandomForestRegressor())])</pre><b>Please rerun this cell to show the HTML repr or trust the notebook.</b></div><div class=\"sk-container\" hidden><div class=\"sk-item sk-dashed-wrapped\"><div class=\"sk-label-container\"><div class=\"sk-label sk-toggleable\"><input class=\"sk-toggleable__control sk-hidden--visually\" id=\"084770f8-6df2-4298-896a-f859b3b83d25\" type=\"checkbox\" ><label for=\"084770f8-6df2-4298-896a-f859b3b83d25\" class=\"sk-toggleable__label sk-toggleable__label-arrow\">Pipeline</label><div class=\"sk-toggleable__content\"><pre>Pipeline(steps=[(&#x27;preprocessor&#x27;,\n",
       "                 ColumnTransformer(transformers=[(&#x27;categorical&#x27;,\n",
       "                                                  Pipeline(steps=[(&#x27;imputation_mean&#x27;,\n",
       "                                                                   SimpleImputer(fill_value=&#x27;missing&#x27;,\n",
       "                                                                                 strategy=&#x27;constant&#x27;)),\n",
       "                                                                  (&#x27;onehot&#x27;,\n",
       "                                                                   OneHotEncoder(handle_unknown=&#x27;ignore&#x27;))]),\n",
       "                                                  [&#x27;sex&#x27;, &#x27;smoker&#x27;, &#x27;day&#x27;,\n",
       "                                                   &#x27;time&#x27;]),\n",
       "                                                 (&#x27;numerical&#x27;,\n",
       "                                                  Pipeline(steps=[(&#x27;imputation_mean&#x27;,\n",
       "                                                                   SimpleImputer()),\n",
       "                                                                  (&#x27;scale&#x27;,\n",
       "                                                                   StandardScaler())]),\n",
       "                                                  [&#x27;tip&#x27;, &#x27;size&#x27;])])),\n",
       "                (&#x27;regressor&#x27;, RandomForestRegressor())])</pre></div></div></div><div class=\"sk-serial\"><div class=\"sk-item sk-dashed-wrapped\"><div class=\"sk-label-container\"><div class=\"sk-label sk-toggleable\"><input class=\"sk-toggleable__control sk-hidden--visually\" id=\"8cf513b7-e2f2-418e-9caf-b215efb2710e\" type=\"checkbox\" ><label for=\"8cf513b7-e2f2-418e-9caf-b215efb2710e\" class=\"sk-toggleable__label sk-toggleable__label-arrow\">preprocessor: ColumnTransformer</label><div class=\"sk-toggleable__content\"><pre>ColumnTransformer(transformers=[(&#x27;categorical&#x27;,\n",
       "                                 Pipeline(steps=[(&#x27;imputation_mean&#x27;,\n",
       "                                                  SimpleImputer(fill_value=&#x27;missing&#x27;,\n",
       "                                                                strategy=&#x27;constant&#x27;)),\n",
       "                                                 (&#x27;onehot&#x27;,\n",
       "                                                  OneHotEncoder(handle_unknown=&#x27;ignore&#x27;))]),\n",
       "                                 [&#x27;sex&#x27;, &#x27;smoker&#x27;, &#x27;day&#x27;, &#x27;time&#x27;]),\n",
       "                                (&#x27;numerical&#x27;,\n",
       "                                 Pipeline(steps=[(&#x27;imputation_mean&#x27;,\n",
       "                                                  SimpleImputer()),\n",
       "                                                 (&#x27;scale&#x27;, StandardScaler())]),\n",
       "                                 [&#x27;tip&#x27;, &#x27;size&#x27;])])</pre></div></div></div><div class=\"sk-parallel\"><div class=\"sk-parallel-item\"><div class=\"sk-item\"><div class=\"sk-label-container\"><div class=\"sk-label sk-toggleable\"><input class=\"sk-toggleable__control sk-hidden--visually\" id=\"7f142e73-d5eb-4d81-a231-81042492d4e1\" type=\"checkbox\" ><label for=\"7f142e73-d5eb-4d81-a231-81042492d4e1\" class=\"sk-toggleable__label sk-toggleable__label-arrow\">categorical</label><div class=\"sk-toggleable__content\"><pre>[&#x27;sex&#x27;, &#x27;smoker&#x27;, &#x27;day&#x27;, &#x27;time&#x27;]</pre></div></div></div><div class=\"sk-serial\"><div class=\"sk-item\"><div class=\"sk-serial\"><div class=\"sk-item\"><div class=\"sk-estimator sk-toggleable\"><input class=\"sk-toggleable__control sk-hidden--visually\" id=\"54bb727c-582e-48f9-b199-58794511f1e6\" type=\"checkbox\" ><label for=\"54bb727c-582e-48f9-b199-58794511f1e6\" class=\"sk-toggleable__label sk-toggleable__label-arrow\">SimpleImputer</label><div class=\"sk-toggleable__content\"><pre>SimpleImputer(fill_value=&#x27;missing&#x27;, strategy=&#x27;constant&#x27;)</pre></div></div></div><div class=\"sk-item\"><div class=\"sk-estimator sk-toggleable\"><input class=\"sk-toggleable__control sk-hidden--visually\" id=\"2a397946-cecb-4e32-93aa-7b00c113e4a5\" type=\"checkbox\" ><label for=\"2a397946-cecb-4e32-93aa-7b00c113e4a5\" class=\"sk-toggleable__label sk-toggleable__label-arrow\">OneHotEncoder</label><div class=\"sk-toggleable__content\"><pre>OneHotEncoder(handle_unknown=&#x27;ignore&#x27;)</pre></div></div></div></div></div></div></div></div><div class=\"sk-parallel-item\"><div class=\"sk-item\"><div class=\"sk-label-container\"><div class=\"sk-label sk-toggleable\"><input class=\"sk-toggleable__control sk-hidden--visually\" id=\"60c01353-9435-41a3-9f43-4632d8f29d06\" type=\"checkbox\" ><label for=\"60c01353-9435-41a3-9f43-4632d8f29d06\" class=\"sk-toggleable__label sk-toggleable__label-arrow\">numerical</label><div class=\"sk-toggleable__content\"><pre>[&#x27;tip&#x27;, &#x27;size&#x27;]</pre></div></div></div><div class=\"sk-serial\"><div class=\"sk-item\"><div class=\"sk-serial\"><div class=\"sk-item\"><div class=\"sk-estimator sk-toggleable\"><input class=\"sk-toggleable__control sk-hidden--visually\" id=\"450e6d1c-5e3e-43fe-9803-28493fe971fc\" type=\"checkbox\" ><label for=\"450e6d1c-5e3e-43fe-9803-28493fe971fc\" class=\"sk-toggleable__label sk-toggleable__label-arrow\">SimpleImputer</label><div class=\"sk-toggleable__content\"><pre>SimpleImputer()</pre></div></div></div><div class=\"sk-item\"><div class=\"sk-estimator sk-toggleable\"><input class=\"sk-toggleable__control sk-hidden--visually\" id=\"3a98df7d-4a94-4a48-83f2-4cca4893d42c\" type=\"checkbox\" ><label for=\"3a98df7d-4a94-4a48-83f2-4cca4893d42c\" class=\"sk-toggleable__label sk-toggleable__label-arrow\">StandardScaler</label><div class=\"sk-toggleable__content\"><pre>StandardScaler()</pre></div></div></div></div></div></div></div></div></div></div><div class=\"sk-item\"><div class=\"sk-estimator sk-toggleable\"><input class=\"sk-toggleable__control sk-hidden--visually\" id=\"e8012438-41e6-4aab-b856-797e2a82d51d\" type=\"checkbox\" ><label for=\"e8012438-41e6-4aab-b856-797e2a82d51d\" class=\"sk-toggleable__label sk-toggleable__label-arrow\">RandomForestRegressor</label><div class=\"sk-toggleable__content\"><pre>RandomForestRegressor()</pre></div></div></div></div></div></div></div>"
      ],
      "text/plain": [
       "Pipeline(steps=[('preprocessor',\n",
       "                 ColumnTransformer(transformers=[('categorical',\n",
       "                                                  Pipeline(steps=[('imputation_mean',\n",
       "                                                                   SimpleImputer(fill_value='missing',\n",
       "                                                                                 strategy='constant')),\n",
       "                                                                  ('onehot',\n",
       "                                                                   OneHotEncoder(handle_unknown='ignore'))]),\n",
       "                                                  ['sex', 'smoker', 'day',\n",
       "                                                   'time']),\n",
       "                                                 ('numerical',\n",
       "                                                  Pipeline(steps=[('imputation_mean',\n",
       "                                                                   SimpleImputer()),\n",
       "                                                                  ('scale',\n",
       "                                                                   StandardScaler())]),\n",
       "                                                  ['tip', 'size'])])),\n",
       "                ('regressor', RandomForestRegressor())])"
      ]
     },
     "execution_count": 141,
     "metadata": {},
     "output_type": "execute_result"
    }
   ],
   "source": [
    "pipe.fit(x_train,y_train)"
   ]
  },
  {
   "cell_type": "code",
   "execution_count": 142,
   "id": "88e10ab0",
   "metadata": {},
   "outputs": [
    {
     "data": {
      "text/plain": [
       "array([29.7454    , 11.84748143, 10.94951   , 20.19308333, 18.01600167,\n",
       "       19.5064    , 22.19985833, 31.4125    , 11.218     , 11.43403333,\n",
       "       28.49062   , 27.15635833, 13.664175  , 12.88554524, 44.6479    ,\n",
       "       16.5572    , 18.42205833, 10.97688524, 21.82984429, 23.07430833,\n",
       "       22.819525  , 10.3326    , 15.37976333, 19.831     , 25.8445    ,\n",
       "       14.42343833, 10.67094762, 19.3618    , 18.77423452, 20.90661667,\n",
       "       17.47633619, 35.8489    , 28.95665   , 18.7786    , 18.7745    ,\n",
       "       18.66163333, 21.93985   , 27.74622333, 21.28098333, 21.2014    ,\n",
       "       26.79895   , 20.1972575 , 12.01078   , 18.77423452, 16.56186389,\n",
       "       12.09898071, 17.0056    , 14.26872857, 16.724     ])"
      ]
     },
     "execution_count": 142,
     "metadata": {},
     "output_type": "execute_result"
    }
   ],
   "source": [
    "pipe.predict(x_test)"
   ]
  },
  {
   "cell_type": "code",
   "execution_count": 143,
   "id": "c6ecf600",
   "metadata": {},
   "outputs": [],
   "source": [
    "import warnings\n",
    "warnings.filterwarnings('ignore')"
   ]
  },
  {
   "cell_type": "code",
   "execution_count": 152,
   "id": "ad54e7cb",
   "metadata": {},
   "outputs": [],
   "source": [
    "## hyperparamter tuning\n",
    "param={\n",
    "    \"regressor__n_estimators\":[200,500],\n",
    "    \"regressor__max_features\":[\"auto\",'sqrt','log2'],\n",
    "    \"regressor__max_depth\":[4,5,6,7,8]\n",
    "}"
   ]
  },
  {
   "cell_type": "code",
   "execution_count": 153,
   "id": "f099f624",
   "metadata": {},
   "outputs": [],
   "source": [
    "grid_search=GridSearchCV(pipe,param_grid=param,n_jobs=1)"
   ]
  },
  {
   "cell_type": "code",
   "execution_count": 155,
   "id": "f6805b10",
   "metadata": {},
   "outputs": [
    {
     "data": {
      "text/html": [
       "<style>#sk-eb7bcb71-8d4f-4ff3-96e7-66deebb6cae5 {color: black;background-color: white;}#sk-eb7bcb71-8d4f-4ff3-96e7-66deebb6cae5 pre{padding: 0;}#sk-eb7bcb71-8d4f-4ff3-96e7-66deebb6cae5 div.sk-toggleable {background-color: white;}#sk-eb7bcb71-8d4f-4ff3-96e7-66deebb6cae5 label.sk-toggleable__label {cursor: pointer;display: block;width: 100%;margin-bottom: 0;padding: 0.3em;box-sizing: border-box;text-align: center;}#sk-eb7bcb71-8d4f-4ff3-96e7-66deebb6cae5 label.sk-toggleable__label-arrow:before {content: \"▸\";float: left;margin-right: 0.25em;color: #696969;}#sk-eb7bcb71-8d4f-4ff3-96e7-66deebb6cae5 label.sk-toggleable__label-arrow:hover:before {color: black;}#sk-eb7bcb71-8d4f-4ff3-96e7-66deebb6cae5 div.sk-estimator:hover label.sk-toggleable__label-arrow:before {color: black;}#sk-eb7bcb71-8d4f-4ff3-96e7-66deebb6cae5 div.sk-toggleable__content {max-height: 0;max-width: 0;overflow: hidden;text-align: left;background-color: #f0f8ff;}#sk-eb7bcb71-8d4f-4ff3-96e7-66deebb6cae5 div.sk-toggleable__content pre {margin: 0.2em;color: black;border-radius: 0.25em;background-color: #f0f8ff;}#sk-eb7bcb71-8d4f-4ff3-96e7-66deebb6cae5 input.sk-toggleable__control:checked~div.sk-toggleable__content {max-height: 200px;max-width: 100%;overflow: auto;}#sk-eb7bcb71-8d4f-4ff3-96e7-66deebb6cae5 input.sk-toggleable__control:checked~label.sk-toggleable__label-arrow:before {content: \"▾\";}#sk-eb7bcb71-8d4f-4ff3-96e7-66deebb6cae5 div.sk-estimator input.sk-toggleable__control:checked~label.sk-toggleable__label {background-color: #d4ebff;}#sk-eb7bcb71-8d4f-4ff3-96e7-66deebb6cae5 div.sk-label input.sk-toggleable__control:checked~label.sk-toggleable__label {background-color: #d4ebff;}#sk-eb7bcb71-8d4f-4ff3-96e7-66deebb6cae5 input.sk-hidden--visually {border: 0;clip: rect(1px 1px 1px 1px);clip: rect(1px, 1px, 1px, 1px);height: 1px;margin: -1px;overflow: hidden;padding: 0;position: absolute;width: 1px;}#sk-eb7bcb71-8d4f-4ff3-96e7-66deebb6cae5 div.sk-estimator {font-family: monospace;background-color: #f0f8ff;border: 1px dotted black;border-radius: 0.25em;box-sizing: border-box;margin-bottom: 0.5em;}#sk-eb7bcb71-8d4f-4ff3-96e7-66deebb6cae5 div.sk-estimator:hover {background-color: #d4ebff;}#sk-eb7bcb71-8d4f-4ff3-96e7-66deebb6cae5 div.sk-parallel-item::after {content: \"\";width: 100%;border-bottom: 1px solid gray;flex-grow: 1;}#sk-eb7bcb71-8d4f-4ff3-96e7-66deebb6cae5 div.sk-label:hover label.sk-toggleable__label {background-color: #d4ebff;}#sk-eb7bcb71-8d4f-4ff3-96e7-66deebb6cae5 div.sk-serial::before {content: \"\";position: absolute;border-left: 1px solid gray;box-sizing: border-box;top: 2em;bottom: 0;left: 50%;}#sk-eb7bcb71-8d4f-4ff3-96e7-66deebb6cae5 div.sk-serial {display: flex;flex-direction: column;align-items: center;background-color: white;padding-right: 0.2em;padding-left: 0.2em;}#sk-eb7bcb71-8d4f-4ff3-96e7-66deebb6cae5 div.sk-item {z-index: 1;}#sk-eb7bcb71-8d4f-4ff3-96e7-66deebb6cae5 div.sk-parallel {display: flex;align-items: stretch;justify-content: center;background-color: white;}#sk-eb7bcb71-8d4f-4ff3-96e7-66deebb6cae5 div.sk-parallel::before {content: \"\";position: absolute;border-left: 1px solid gray;box-sizing: border-box;top: 2em;bottom: 0;left: 50%;}#sk-eb7bcb71-8d4f-4ff3-96e7-66deebb6cae5 div.sk-parallel-item {display: flex;flex-direction: column;position: relative;background-color: white;}#sk-eb7bcb71-8d4f-4ff3-96e7-66deebb6cae5 div.sk-parallel-item:first-child::after {align-self: flex-end;width: 50%;}#sk-eb7bcb71-8d4f-4ff3-96e7-66deebb6cae5 div.sk-parallel-item:last-child::after {align-self: flex-start;width: 50%;}#sk-eb7bcb71-8d4f-4ff3-96e7-66deebb6cae5 div.sk-parallel-item:only-child::after {width: 0;}#sk-eb7bcb71-8d4f-4ff3-96e7-66deebb6cae5 div.sk-dashed-wrapped {border: 1px dashed gray;margin: 0 0.4em 0.5em 0.4em;box-sizing: border-box;padding-bottom: 0.4em;background-color: white;position: relative;}#sk-eb7bcb71-8d4f-4ff3-96e7-66deebb6cae5 div.sk-label label {font-family: monospace;font-weight: bold;background-color: white;display: inline-block;line-height: 1.2em;}#sk-eb7bcb71-8d4f-4ff3-96e7-66deebb6cae5 div.sk-label-container {position: relative;z-index: 2;text-align: center;}#sk-eb7bcb71-8d4f-4ff3-96e7-66deebb6cae5 div.sk-container {/* jupyter's `normalize.less` sets `[hidden] { display: none; }` but bootstrap.min.css set `[hidden] { display: none !important; }` so we also need the `!important` here to be able to override the default hidden behavior on the sphinx rendered scikit-learn.org. See: https://github.com/scikit-learn/scikit-learn/issues/21755 */display: inline-block !important;position: relative;}#sk-eb7bcb71-8d4f-4ff3-96e7-66deebb6cae5 div.sk-text-repr-fallback {display: none;}</style><div id=\"sk-eb7bcb71-8d4f-4ff3-96e7-66deebb6cae5\" class=\"sk-top-container\"><div class=\"sk-text-repr-fallback\"><pre>GridSearchCV(estimator=Pipeline(steps=[(&#x27;preprocessor&#x27;,\n",
       "                                        ColumnTransformer(transformers=[(&#x27;categorical&#x27;,\n",
       "                                                                         Pipeline(steps=[(&#x27;imputation_mean&#x27;,\n",
       "                                                                                          SimpleImputer(fill_value=&#x27;missing&#x27;,\n",
       "                                                                                                        strategy=&#x27;constant&#x27;)),\n",
       "                                                                                         (&#x27;onehot&#x27;,\n",
       "                                                                                          OneHotEncoder(handle_unknown=&#x27;ignore&#x27;))]),\n",
       "                                                                         [&#x27;sex&#x27;,\n",
       "                                                                          &#x27;smoker&#x27;,\n",
       "                                                                          &#x27;day&#x27;,\n",
       "                                                                          &#x27;time&#x27;]),\n",
       "                                                                        (&#x27;numerical&#x27;,\n",
       "                                                                         Pipeline(steps=[(&#x27;imputation_mean&#x27;,\n",
       "                                                                                          SimpleImputer()),\n",
       "                                                                                         (&#x27;scale&#x27;,\n",
       "                                                                                          StandardScaler())]),\n",
       "                                                                         [&#x27;tip&#x27;,\n",
       "                                                                          &#x27;size&#x27;])])),\n",
       "                                       (&#x27;regressor&#x27;, RandomForestRegressor())]),\n",
       "             n_jobs=1,\n",
       "             param_grid={&#x27;regressor__max_depth&#x27;: [4, 5, 6, 7, 8],\n",
       "                         &#x27;regressor__max_features&#x27;: [&#x27;auto&#x27;, &#x27;sqrt&#x27;, &#x27;log2&#x27;],\n",
       "                         &#x27;regressor__n_estimators&#x27;: [200, 500]})</pre><b>Please rerun this cell to show the HTML repr or trust the notebook.</b></div><div class=\"sk-container\" hidden><div class=\"sk-item sk-dashed-wrapped\"><div class=\"sk-label-container\"><div class=\"sk-label sk-toggleable\"><input class=\"sk-toggleable__control sk-hidden--visually\" id=\"e274cf22-d1b9-4eba-ba9d-45265be74f84\" type=\"checkbox\" ><label for=\"e274cf22-d1b9-4eba-ba9d-45265be74f84\" class=\"sk-toggleable__label sk-toggleable__label-arrow\">GridSearchCV</label><div class=\"sk-toggleable__content\"><pre>GridSearchCV(estimator=Pipeline(steps=[(&#x27;preprocessor&#x27;,\n",
       "                                        ColumnTransformer(transformers=[(&#x27;categorical&#x27;,\n",
       "                                                                         Pipeline(steps=[(&#x27;imputation_mean&#x27;,\n",
       "                                                                                          SimpleImputer(fill_value=&#x27;missing&#x27;,\n",
       "                                                                                                        strategy=&#x27;constant&#x27;)),\n",
       "                                                                                         (&#x27;onehot&#x27;,\n",
       "                                                                                          OneHotEncoder(handle_unknown=&#x27;ignore&#x27;))]),\n",
       "                                                                         [&#x27;sex&#x27;,\n",
       "                                                                          &#x27;smoker&#x27;,\n",
       "                                                                          &#x27;day&#x27;,\n",
       "                                                                          &#x27;time&#x27;]),\n",
       "                                                                        (&#x27;numerical&#x27;,\n",
       "                                                                         Pipeline(steps=[(&#x27;imputation_mean&#x27;,\n",
       "                                                                                          SimpleImputer()),\n",
       "                                                                                         (&#x27;scale&#x27;,\n",
       "                                                                                          StandardScaler())]),\n",
       "                                                                         [&#x27;tip&#x27;,\n",
       "                                                                          &#x27;size&#x27;])])),\n",
       "                                       (&#x27;regressor&#x27;, RandomForestRegressor())]),\n",
       "             n_jobs=1,\n",
       "             param_grid={&#x27;regressor__max_depth&#x27;: [4, 5, 6, 7, 8],\n",
       "                         &#x27;regressor__max_features&#x27;: [&#x27;auto&#x27;, &#x27;sqrt&#x27;, &#x27;log2&#x27;],\n",
       "                         &#x27;regressor__n_estimators&#x27;: [200, 500]})</pre></div></div></div><div class=\"sk-parallel\"><div class=\"sk-parallel-item\"><div class=\"sk-item\"><div class=\"sk-serial\"><div class=\"sk-item\"><div class=\"sk-serial\"><div class=\"sk-item sk-dashed-wrapped\"><div class=\"sk-label-container\"><div class=\"sk-label sk-toggleable\"><input class=\"sk-toggleable__control sk-hidden--visually\" id=\"861c3f19-fcd7-475f-865c-dcb0bd52fef8\" type=\"checkbox\" ><label for=\"861c3f19-fcd7-475f-865c-dcb0bd52fef8\" class=\"sk-toggleable__label sk-toggleable__label-arrow\">preprocessor: ColumnTransformer</label><div class=\"sk-toggleable__content\"><pre>ColumnTransformer(transformers=[(&#x27;categorical&#x27;,\n",
       "                                 Pipeline(steps=[(&#x27;imputation_mean&#x27;,\n",
       "                                                  SimpleImputer(fill_value=&#x27;missing&#x27;,\n",
       "                                                                strategy=&#x27;constant&#x27;)),\n",
       "                                                 (&#x27;onehot&#x27;,\n",
       "                                                  OneHotEncoder(handle_unknown=&#x27;ignore&#x27;))]),\n",
       "                                 [&#x27;sex&#x27;, &#x27;smoker&#x27;, &#x27;day&#x27;, &#x27;time&#x27;]),\n",
       "                                (&#x27;numerical&#x27;,\n",
       "                                 Pipeline(steps=[(&#x27;imputation_mean&#x27;,\n",
       "                                                  SimpleImputer()),\n",
       "                                                 (&#x27;scale&#x27;, StandardScaler())]),\n",
       "                                 [&#x27;tip&#x27;, &#x27;size&#x27;])])</pre></div></div></div><div class=\"sk-parallel\"><div class=\"sk-parallel-item\"><div class=\"sk-item\"><div class=\"sk-label-container\"><div class=\"sk-label sk-toggleable\"><input class=\"sk-toggleable__control sk-hidden--visually\" id=\"ccb1d44d-936c-4536-bc85-73987ed2adfa\" type=\"checkbox\" ><label for=\"ccb1d44d-936c-4536-bc85-73987ed2adfa\" class=\"sk-toggleable__label sk-toggleable__label-arrow\">categorical</label><div class=\"sk-toggleable__content\"><pre>[&#x27;sex&#x27;, &#x27;smoker&#x27;, &#x27;day&#x27;, &#x27;time&#x27;]</pre></div></div></div><div class=\"sk-serial\"><div class=\"sk-item\"><div class=\"sk-serial\"><div class=\"sk-item\"><div class=\"sk-estimator sk-toggleable\"><input class=\"sk-toggleable__control sk-hidden--visually\" id=\"98eff77f-5150-4bf7-bbc9-d786eaf9ba8c\" type=\"checkbox\" ><label for=\"98eff77f-5150-4bf7-bbc9-d786eaf9ba8c\" class=\"sk-toggleable__label sk-toggleable__label-arrow\">SimpleImputer</label><div class=\"sk-toggleable__content\"><pre>SimpleImputer(fill_value=&#x27;missing&#x27;, strategy=&#x27;constant&#x27;)</pre></div></div></div><div class=\"sk-item\"><div class=\"sk-estimator sk-toggleable\"><input class=\"sk-toggleable__control sk-hidden--visually\" id=\"339eedb2-adb8-429b-b02f-fcc0cdc580a7\" type=\"checkbox\" ><label for=\"339eedb2-adb8-429b-b02f-fcc0cdc580a7\" class=\"sk-toggleable__label sk-toggleable__label-arrow\">OneHotEncoder</label><div class=\"sk-toggleable__content\"><pre>OneHotEncoder(handle_unknown=&#x27;ignore&#x27;)</pre></div></div></div></div></div></div></div></div><div class=\"sk-parallel-item\"><div class=\"sk-item\"><div class=\"sk-label-container\"><div class=\"sk-label sk-toggleable\"><input class=\"sk-toggleable__control sk-hidden--visually\" id=\"f471d1fd-8bf7-4790-bc98-a1aadaedd8b5\" type=\"checkbox\" ><label for=\"f471d1fd-8bf7-4790-bc98-a1aadaedd8b5\" class=\"sk-toggleable__label sk-toggleable__label-arrow\">numerical</label><div class=\"sk-toggleable__content\"><pre>[&#x27;tip&#x27;, &#x27;size&#x27;]</pre></div></div></div><div class=\"sk-serial\"><div class=\"sk-item\"><div class=\"sk-serial\"><div class=\"sk-item\"><div class=\"sk-estimator sk-toggleable\"><input class=\"sk-toggleable__control sk-hidden--visually\" id=\"6108fff2-c938-4219-bfce-ba8a3f10003d\" type=\"checkbox\" ><label for=\"6108fff2-c938-4219-bfce-ba8a3f10003d\" class=\"sk-toggleable__label sk-toggleable__label-arrow\">SimpleImputer</label><div class=\"sk-toggleable__content\"><pre>SimpleImputer()</pre></div></div></div><div class=\"sk-item\"><div class=\"sk-estimator sk-toggleable\"><input class=\"sk-toggleable__control sk-hidden--visually\" id=\"bb1be61d-6a2e-495a-96db-b06b7ceef774\" type=\"checkbox\" ><label for=\"bb1be61d-6a2e-495a-96db-b06b7ceef774\" class=\"sk-toggleable__label sk-toggleable__label-arrow\">StandardScaler</label><div class=\"sk-toggleable__content\"><pre>StandardScaler()</pre></div></div></div></div></div></div></div></div></div></div><div class=\"sk-item\"><div class=\"sk-estimator sk-toggleable\"><input class=\"sk-toggleable__control sk-hidden--visually\" id=\"eb9d57b0-3507-4989-a6b9-b24555fb7790\" type=\"checkbox\" ><label for=\"eb9d57b0-3507-4989-a6b9-b24555fb7790\" class=\"sk-toggleable__label sk-toggleable__label-arrow\">RandomForestRegressor</label><div class=\"sk-toggleable__content\"><pre>RandomForestRegressor()</pre></div></div></div></div></div></div></div></div></div></div></div></div>"
      ],
      "text/plain": [
       "GridSearchCV(estimator=Pipeline(steps=[('preprocessor',\n",
       "                                        ColumnTransformer(transformers=[('categorical',\n",
       "                                                                         Pipeline(steps=[('imputation_mean',\n",
       "                                                                                          SimpleImputer(fill_value='missing',\n",
       "                                                                                                        strategy='constant')),\n",
       "                                                                                         ('onehot',\n",
       "                                                                                          OneHotEncoder(handle_unknown='ignore'))]),\n",
       "                                                                         ['sex',\n",
       "                                                                          'smoker',\n",
       "                                                                          'day',\n",
       "                                                                          'time']),\n",
       "                                                                        ('numerical',\n",
       "                                                                         Pipeline(steps=[('imputation_mean',\n",
       "                                                                                          SimpleImputer()),\n",
       "                                                                                         ('scale',\n",
       "                                                                                          StandardScaler())]),\n",
       "                                                                         ['tip',\n",
       "                                                                          'size'])])),\n",
       "                                       ('regressor', RandomForestRegressor())]),\n",
       "             n_jobs=1,\n",
       "             param_grid={'regressor__max_depth': [4, 5, 6, 7, 8],\n",
       "                         'regressor__max_features': ['auto', 'sqrt', 'log2'],\n",
       "                         'regressor__n_estimators': [200, 500]})"
      ]
     },
     "execution_count": 155,
     "metadata": {},
     "output_type": "execute_result"
    }
   ],
   "source": [
    "grid_search.fit(x_train,y_train)"
   ]
  },
  {
   "cell_type": "code",
   "execution_count": 157,
   "id": "4505af11",
   "metadata": {},
   "outputs": [
    {
     "data": {
      "text/plain": [
       "{'regressor__max_depth': 5,\n",
       " 'regressor__max_features': 'auto',\n",
       " 'regressor__n_estimators': 200}"
      ]
     },
     "execution_count": 157,
     "metadata": {},
     "output_type": "execute_result"
    }
   ],
   "source": [
    "grid_search.best_params_"
   ]
  },
  {
   "cell_type": "code",
   "execution_count": 160,
   "id": "663069cc",
   "metadata": {},
   "outputs": [],
   "source": [
    "pipe=Pipeline(\n",
    "    steps=[('preprocessor',preprocessor),(\"regressor\",RandomForestRegressor(max_depth=5,max_features=\"auto\",n_estimators=200))])"
   ]
  },
  {
   "cell_type": "code",
   "execution_count": 161,
   "id": "20111793",
   "metadata": {},
   "outputs": [
    {
     "data": {
      "text/html": [
       "<style>#sk-84b6b4a4-b80b-424d-b7f2-9f8607402d7d {color: black;background-color: white;}#sk-84b6b4a4-b80b-424d-b7f2-9f8607402d7d pre{padding: 0;}#sk-84b6b4a4-b80b-424d-b7f2-9f8607402d7d div.sk-toggleable {background-color: white;}#sk-84b6b4a4-b80b-424d-b7f2-9f8607402d7d label.sk-toggleable__label {cursor: pointer;display: block;width: 100%;margin-bottom: 0;padding: 0.3em;box-sizing: border-box;text-align: center;}#sk-84b6b4a4-b80b-424d-b7f2-9f8607402d7d label.sk-toggleable__label-arrow:before {content: \"▸\";float: left;margin-right: 0.25em;color: #696969;}#sk-84b6b4a4-b80b-424d-b7f2-9f8607402d7d label.sk-toggleable__label-arrow:hover:before {color: black;}#sk-84b6b4a4-b80b-424d-b7f2-9f8607402d7d div.sk-estimator:hover label.sk-toggleable__label-arrow:before {color: black;}#sk-84b6b4a4-b80b-424d-b7f2-9f8607402d7d div.sk-toggleable__content {max-height: 0;max-width: 0;overflow: hidden;text-align: left;background-color: #f0f8ff;}#sk-84b6b4a4-b80b-424d-b7f2-9f8607402d7d div.sk-toggleable__content pre {margin: 0.2em;color: black;border-radius: 0.25em;background-color: #f0f8ff;}#sk-84b6b4a4-b80b-424d-b7f2-9f8607402d7d input.sk-toggleable__control:checked~div.sk-toggleable__content {max-height: 200px;max-width: 100%;overflow: auto;}#sk-84b6b4a4-b80b-424d-b7f2-9f8607402d7d input.sk-toggleable__control:checked~label.sk-toggleable__label-arrow:before {content: \"▾\";}#sk-84b6b4a4-b80b-424d-b7f2-9f8607402d7d div.sk-estimator input.sk-toggleable__control:checked~label.sk-toggleable__label {background-color: #d4ebff;}#sk-84b6b4a4-b80b-424d-b7f2-9f8607402d7d div.sk-label input.sk-toggleable__control:checked~label.sk-toggleable__label {background-color: #d4ebff;}#sk-84b6b4a4-b80b-424d-b7f2-9f8607402d7d input.sk-hidden--visually {border: 0;clip: rect(1px 1px 1px 1px);clip: rect(1px, 1px, 1px, 1px);height: 1px;margin: -1px;overflow: hidden;padding: 0;position: absolute;width: 1px;}#sk-84b6b4a4-b80b-424d-b7f2-9f8607402d7d div.sk-estimator {font-family: monospace;background-color: #f0f8ff;border: 1px dotted black;border-radius: 0.25em;box-sizing: border-box;margin-bottom: 0.5em;}#sk-84b6b4a4-b80b-424d-b7f2-9f8607402d7d div.sk-estimator:hover {background-color: #d4ebff;}#sk-84b6b4a4-b80b-424d-b7f2-9f8607402d7d div.sk-parallel-item::after {content: \"\";width: 100%;border-bottom: 1px solid gray;flex-grow: 1;}#sk-84b6b4a4-b80b-424d-b7f2-9f8607402d7d div.sk-label:hover label.sk-toggleable__label {background-color: #d4ebff;}#sk-84b6b4a4-b80b-424d-b7f2-9f8607402d7d div.sk-serial::before {content: \"\";position: absolute;border-left: 1px solid gray;box-sizing: border-box;top: 2em;bottom: 0;left: 50%;}#sk-84b6b4a4-b80b-424d-b7f2-9f8607402d7d div.sk-serial {display: flex;flex-direction: column;align-items: center;background-color: white;padding-right: 0.2em;padding-left: 0.2em;}#sk-84b6b4a4-b80b-424d-b7f2-9f8607402d7d div.sk-item {z-index: 1;}#sk-84b6b4a4-b80b-424d-b7f2-9f8607402d7d div.sk-parallel {display: flex;align-items: stretch;justify-content: center;background-color: white;}#sk-84b6b4a4-b80b-424d-b7f2-9f8607402d7d div.sk-parallel::before {content: \"\";position: absolute;border-left: 1px solid gray;box-sizing: border-box;top: 2em;bottom: 0;left: 50%;}#sk-84b6b4a4-b80b-424d-b7f2-9f8607402d7d div.sk-parallel-item {display: flex;flex-direction: column;position: relative;background-color: white;}#sk-84b6b4a4-b80b-424d-b7f2-9f8607402d7d div.sk-parallel-item:first-child::after {align-self: flex-end;width: 50%;}#sk-84b6b4a4-b80b-424d-b7f2-9f8607402d7d div.sk-parallel-item:last-child::after {align-self: flex-start;width: 50%;}#sk-84b6b4a4-b80b-424d-b7f2-9f8607402d7d div.sk-parallel-item:only-child::after {width: 0;}#sk-84b6b4a4-b80b-424d-b7f2-9f8607402d7d div.sk-dashed-wrapped {border: 1px dashed gray;margin: 0 0.4em 0.5em 0.4em;box-sizing: border-box;padding-bottom: 0.4em;background-color: white;position: relative;}#sk-84b6b4a4-b80b-424d-b7f2-9f8607402d7d div.sk-label label {font-family: monospace;font-weight: bold;background-color: white;display: inline-block;line-height: 1.2em;}#sk-84b6b4a4-b80b-424d-b7f2-9f8607402d7d div.sk-label-container {position: relative;z-index: 2;text-align: center;}#sk-84b6b4a4-b80b-424d-b7f2-9f8607402d7d div.sk-container {/* jupyter's `normalize.less` sets `[hidden] { display: none; }` but bootstrap.min.css set `[hidden] { display: none !important; }` so we also need the `!important` here to be able to override the default hidden behavior on the sphinx rendered scikit-learn.org. See: https://github.com/scikit-learn/scikit-learn/issues/21755 */display: inline-block !important;position: relative;}#sk-84b6b4a4-b80b-424d-b7f2-9f8607402d7d div.sk-text-repr-fallback {display: none;}</style><div id=\"sk-84b6b4a4-b80b-424d-b7f2-9f8607402d7d\" class=\"sk-top-container\"><div class=\"sk-text-repr-fallback\"><pre>Pipeline(steps=[(&#x27;preprocessor&#x27;,\n",
       "                 ColumnTransformer(transformers=[(&#x27;categorical&#x27;,\n",
       "                                                  Pipeline(steps=[(&#x27;imputation_mean&#x27;,\n",
       "                                                                   SimpleImputer(fill_value=&#x27;missing&#x27;,\n",
       "                                                                                 strategy=&#x27;constant&#x27;)),\n",
       "                                                                  (&#x27;onehot&#x27;,\n",
       "                                                                   OneHotEncoder(handle_unknown=&#x27;ignore&#x27;))]),\n",
       "                                                  [&#x27;sex&#x27;, &#x27;smoker&#x27;, &#x27;day&#x27;,\n",
       "                                                   &#x27;time&#x27;]),\n",
       "                                                 (&#x27;numerical&#x27;,\n",
       "                                                  Pipeline(steps=[(&#x27;imputation_mean&#x27;,\n",
       "                                                                   SimpleImputer()),\n",
       "                                                                  (&#x27;scale&#x27;,\n",
       "                                                                   StandardScaler())]),\n",
       "                                                  [&#x27;tip&#x27;, &#x27;size&#x27;])])),\n",
       "                (&#x27;regressor&#x27;,\n",
       "                 RandomForestRegressor(max_depth=5, n_estimators=200))])</pre><b>Please rerun this cell to show the HTML repr or trust the notebook.</b></div><div class=\"sk-container\" hidden><div class=\"sk-item sk-dashed-wrapped\"><div class=\"sk-label-container\"><div class=\"sk-label sk-toggleable\"><input class=\"sk-toggleable__control sk-hidden--visually\" id=\"1cd54175-60b2-4fbe-966c-9aa881d974ee\" type=\"checkbox\" ><label for=\"1cd54175-60b2-4fbe-966c-9aa881d974ee\" class=\"sk-toggleable__label sk-toggleable__label-arrow\">Pipeline</label><div class=\"sk-toggleable__content\"><pre>Pipeline(steps=[(&#x27;preprocessor&#x27;,\n",
       "                 ColumnTransformer(transformers=[(&#x27;categorical&#x27;,\n",
       "                                                  Pipeline(steps=[(&#x27;imputation_mean&#x27;,\n",
       "                                                                   SimpleImputer(fill_value=&#x27;missing&#x27;,\n",
       "                                                                                 strategy=&#x27;constant&#x27;)),\n",
       "                                                                  (&#x27;onehot&#x27;,\n",
       "                                                                   OneHotEncoder(handle_unknown=&#x27;ignore&#x27;))]),\n",
       "                                                  [&#x27;sex&#x27;, &#x27;smoker&#x27;, &#x27;day&#x27;,\n",
       "                                                   &#x27;time&#x27;]),\n",
       "                                                 (&#x27;numerical&#x27;,\n",
       "                                                  Pipeline(steps=[(&#x27;imputation_mean&#x27;,\n",
       "                                                                   SimpleImputer()),\n",
       "                                                                  (&#x27;scale&#x27;,\n",
       "                                                                   StandardScaler())]),\n",
       "                                                  [&#x27;tip&#x27;, &#x27;size&#x27;])])),\n",
       "                (&#x27;regressor&#x27;,\n",
       "                 RandomForestRegressor(max_depth=5, n_estimators=200))])</pre></div></div></div><div class=\"sk-serial\"><div class=\"sk-item sk-dashed-wrapped\"><div class=\"sk-label-container\"><div class=\"sk-label sk-toggleable\"><input class=\"sk-toggleable__control sk-hidden--visually\" id=\"a7cce02e-a1e1-4546-b9ec-3a607f924d6f\" type=\"checkbox\" ><label for=\"a7cce02e-a1e1-4546-b9ec-3a607f924d6f\" class=\"sk-toggleable__label sk-toggleable__label-arrow\">preprocessor: ColumnTransformer</label><div class=\"sk-toggleable__content\"><pre>ColumnTransformer(transformers=[(&#x27;categorical&#x27;,\n",
       "                                 Pipeline(steps=[(&#x27;imputation_mean&#x27;,\n",
       "                                                  SimpleImputer(fill_value=&#x27;missing&#x27;,\n",
       "                                                                strategy=&#x27;constant&#x27;)),\n",
       "                                                 (&#x27;onehot&#x27;,\n",
       "                                                  OneHotEncoder(handle_unknown=&#x27;ignore&#x27;))]),\n",
       "                                 [&#x27;sex&#x27;, &#x27;smoker&#x27;, &#x27;day&#x27;, &#x27;time&#x27;]),\n",
       "                                (&#x27;numerical&#x27;,\n",
       "                                 Pipeline(steps=[(&#x27;imputation_mean&#x27;,\n",
       "                                                  SimpleImputer()),\n",
       "                                                 (&#x27;scale&#x27;, StandardScaler())]),\n",
       "                                 [&#x27;tip&#x27;, &#x27;size&#x27;])])</pre></div></div></div><div class=\"sk-parallel\"><div class=\"sk-parallel-item\"><div class=\"sk-item\"><div class=\"sk-label-container\"><div class=\"sk-label sk-toggleable\"><input class=\"sk-toggleable__control sk-hidden--visually\" id=\"6f000d01-9b29-41cb-b225-4054f538c563\" type=\"checkbox\" ><label for=\"6f000d01-9b29-41cb-b225-4054f538c563\" class=\"sk-toggleable__label sk-toggleable__label-arrow\">categorical</label><div class=\"sk-toggleable__content\"><pre>[&#x27;sex&#x27;, &#x27;smoker&#x27;, &#x27;day&#x27;, &#x27;time&#x27;]</pre></div></div></div><div class=\"sk-serial\"><div class=\"sk-item\"><div class=\"sk-serial\"><div class=\"sk-item\"><div class=\"sk-estimator sk-toggleable\"><input class=\"sk-toggleable__control sk-hidden--visually\" id=\"99dca1b7-c911-4e42-bea1-87a075832d9e\" type=\"checkbox\" ><label for=\"99dca1b7-c911-4e42-bea1-87a075832d9e\" class=\"sk-toggleable__label sk-toggleable__label-arrow\">SimpleImputer</label><div class=\"sk-toggleable__content\"><pre>SimpleImputer(fill_value=&#x27;missing&#x27;, strategy=&#x27;constant&#x27;)</pre></div></div></div><div class=\"sk-item\"><div class=\"sk-estimator sk-toggleable\"><input class=\"sk-toggleable__control sk-hidden--visually\" id=\"f917ec03-9c1f-4adb-8be4-45c05a9ef54f\" type=\"checkbox\" ><label for=\"f917ec03-9c1f-4adb-8be4-45c05a9ef54f\" class=\"sk-toggleable__label sk-toggleable__label-arrow\">OneHotEncoder</label><div class=\"sk-toggleable__content\"><pre>OneHotEncoder(handle_unknown=&#x27;ignore&#x27;)</pre></div></div></div></div></div></div></div></div><div class=\"sk-parallel-item\"><div class=\"sk-item\"><div class=\"sk-label-container\"><div class=\"sk-label sk-toggleable\"><input class=\"sk-toggleable__control sk-hidden--visually\" id=\"6ed8a9d1-d6c2-46ef-9631-2f82acbf7ae9\" type=\"checkbox\" ><label for=\"6ed8a9d1-d6c2-46ef-9631-2f82acbf7ae9\" class=\"sk-toggleable__label sk-toggleable__label-arrow\">numerical</label><div class=\"sk-toggleable__content\"><pre>[&#x27;tip&#x27;, &#x27;size&#x27;]</pre></div></div></div><div class=\"sk-serial\"><div class=\"sk-item\"><div class=\"sk-serial\"><div class=\"sk-item\"><div class=\"sk-estimator sk-toggleable\"><input class=\"sk-toggleable__control sk-hidden--visually\" id=\"b9bfb884-da09-48d6-a53e-c7a963e35779\" type=\"checkbox\" ><label for=\"b9bfb884-da09-48d6-a53e-c7a963e35779\" class=\"sk-toggleable__label sk-toggleable__label-arrow\">SimpleImputer</label><div class=\"sk-toggleable__content\"><pre>SimpleImputer()</pre></div></div></div><div class=\"sk-item\"><div class=\"sk-estimator sk-toggleable\"><input class=\"sk-toggleable__control sk-hidden--visually\" id=\"eaf22519-3803-4f02-88eb-d97bd596cf12\" type=\"checkbox\" ><label for=\"eaf22519-3803-4f02-88eb-d97bd596cf12\" class=\"sk-toggleable__label sk-toggleable__label-arrow\">StandardScaler</label><div class=\"sk-toggleable__content\"><pre>StandardScaler()</pre></div></div></div></div></div></div></div></div></div></div><div class=\"sk-item\"><div class=\"sk-estimator sk-toggleable\"><input class=\"sk-toggleable__control sk-hidden--visually\" id=\"1f647271-3df6-4018-a42b-1e4a12d65514\" type=\"checkbox\" ><label for=\"1f647271-3df6-4018-a42b-1e4a12d65514\" class=\"sk-toggleable__label sk-toggleable__label-arrow\">RandomForestRegressor</label><div class=\"sk-toggleable__content\"><pre>RandomForestRegressor(max_depth=5, n_estimators=200)</pre></div></div></div></div></div></div></div>"
      ],
      "text/plain": [
       "Pipeline(steps=[('preprocessor',\n",
       "                 ColumnTransformer(transformers=[('categorical',\n",
       "                                                  Pipeline(steps=[('imputation_mean',\n",
       "                                                                   SimpleImputer(fill_value='missing',\n",
       "                                                                                 strategy='constant')),\n",
       "                                                                  ('onehot',\n",
       "                                                                   OneHotEncoder(handle_unknown='ignore'))]),\n",
       "                                                  ['sex', 'smoker', 'day',\n",
       "                                                   'time']),\n",
       "                                                 ('numerical',\n",
       "                                                  Pipeline(steps=[('imputation_mean',\n",
       "                                                                   SimpleImputer()),\n",
       "                                                                  ('scale',\n",
       "                                                                   StandardScaler())]),\n",
       "                                                  ['tip', 'size'])])),\n",
       "                ('regressor',\n",
       "                 RandomForestRegressor(max_depth=5, n_estimators=200))])"
      ]
     },
     "execution_count": 161,
     "metadata": {},
     "output_type": "execute_result"
    }
   ],
   "source": [
    "pipe.fit(x_train,y_train)"
   ]
  },
  {
   "cell_type": "code",
   "execution_count": 162,
   "id": "1aa6d27c",
   "metadata": {},
   "outputs": [
    {
     "data": {
      "text/plain": [
       "array([27.6166511 , 13.22844022, 12.44326927, 16.42345729, 17.136694  ,\n",
       "       19.86981179, 20.53779467, 30.69741932, 13.54380086, 12.05014511,\n",
       "       26.61343456, 22.94005727, 12.40199062, 13.47975207, 42.79547127,\n",
       "       15.83156688, 18.80422553, 11.93509163, 21.86582544, 20.83487082,\n",
       "       23.04373945, 11.03506086, 14.9050187 , 20.66510416, 27.47381247,\n",
       "       15.8909649 , 11.501178  , 20.03316665, 19.33104921, 21.46159031,\n",
       "       18.98027737, 33.79346527, 28.31008682, 19.78286179, 17.90381685,\n",
       "       19.5692025 , 24.07256359, 27.00695939, 21.67699495, 20.08754069,\n",
       "       23.58928333, 19.94742193, 12.91200947, 19.33104921, 16.13753021,\n",
       "       12.70852273, 18.71175842, 12.80180722, 18.20284995])"
      ]
     },
     "execution_count": 162,
     "metadata": {},
     "output_type": "execute_result"
    }
   ],
   "source": [
    "pipe.predict(x_test)"
   ]
  },
  {
   "cell_type": "code",
   "execution_count": null,
   "id": "5a178210",
   "metadata": {},
   "outputs": [],
   "source": []
  }
 ],
 "metadata": {
  "kernelspec": {
   "display_name": "Python 3 (ipykernel)",
   "language": "python",
   "name": "python3"
  },
  "language_info": {
   "codemirror_mode": {
    "name": "ipython",
    "version": 3
   },
   "file_extension": ".py",
   "mimetype": "text/x-python",
   "name": "python",
   "nbconvert_exporter": "python",
   "pygments_lexer": "ipython3",
   "version": "3.9.12"
  }
 },
 "nbformat": 4,
 "nbformat_minor": 5
}
